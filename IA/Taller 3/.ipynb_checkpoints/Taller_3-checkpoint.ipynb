{
 "cells": [
  {
   "cell_type": "markdown",
   "metadata": {},
   "source": [
    "# **Taller 3**\n",
    "\n",
    "## **Inteligencia Artificial**\n",
    "\n",
    "### **Maestría en Analítica de Datos**\n",
    "\n",
    "**Facultad de Ingeniería y Ciencias Básicas.**\n",
    "\n",
    "**Universidad Central**\n",
    "\n",
    "> **Integrantes:**\n",
    "\n",
    ">>***1. Brayan Holman Paez Perez***\n",
    "\n",
    ">>***2. Michel Esteven Céspedes Medina***\n",
    "\n",
    "\n",
    "> **Profesor:**\n",
    "\n",
    ">>***Hugo Franco***\n",
    "\n"
   ]
  },
  {
   "cell_type": "markdown",
   "metadata": {},
   "source": [
    "## Librerias \n",
    "Librerias a utilizar"
   ]
  },
  {
   "cell_type": "code",
   "execution_count": 1,
   "metadata": {},
   "outputs": [],
   "source": [
    "import numpy as np\n",
    "from paquetes import *"
   ]
  },
  {
   "cell_type": "markdown",
   "metadata": {},
   "source": [
    "## Funciones \n",
    "A continuacion para darle un mayor orden y entendimiento al taller, se dejaran las funciones  principales a utilizar en el mismo. "
   ]
  },
  {
   "cell_type": "markdown",
   "metadata": {},
   "source": [
    "## Puzzle Ejemplo"
   ]
  },
  {
   "cell_type": "code",
   "execution_count": 2,
   "metadata": {},
   "outputs": [
    {
     "name": "stdout",
     "output_type": "stream",
     "text": [
      "[[1 2 3]\n",
      " [4 8 5]\n",
      " [7 6 0]]\n"
     ]
    }
   ],
   "source": [
    "puzzle_array=np.array([[1,2,3],[4,8,5],[7,6,0]]) \n",
    "puzzleB=Puzzle8_State(None,0,puzzle_array)\n",
    "print (puzzleB.getPosition())"
   ]
  },
  {
   "cell_type": "markdown",
   "metadata": {},
   "source": [
    "## **2.Obtener la solución (secuencia de transiciones) del puzzle de 8 casillas mediante búsqueda noinformada:**"
   ]
  },
  {
   "cell_type": "markdown",
   "metadata": {},
   "source": [
    "### A. Búsqueda «primero en profundidad» (DFS).\n"
   ]
  },
  {
   "cell_type": "markdown",
   "metadata": {},
   "source": [
    "Celda de ejecucion para el metodo \"primero en profundidad\" usando el Puzzle ejemplo"
   ]
  },
  {
   "cell_type": "code",
   "execution_count": 3,
   "metadata": {},
   "outputs": [
    {
     "name": "stdout",
     "output_type": "stream",
     "text": [
      "\n",
      " Metodo: Primero en profundidad \n",
      " Pasos a seguir para hallar la solución \n",
      " \n",
      "[[1 2 3]\n",
      " [4 8 5]\n",
      " [7 6 0]] 0 \t paso: 0 \n",
      "\n",
      "[[1 2 3]\n",
      " [4 8 5]\n",
      " [7 0 6]] 2 \t paso: 1 \n",
      "\n",
      "[[1 2 3]\n",
      " [4 8 5]\n",
      " [0 7 6]] 4 \t paso: 2 \n",
      "\n",
      "[[1 2 3]\n",
      " [0 8 5]\n",
      " [4 7 6]] 5 \t paso: 3 \n",
      "\n",
      "[[1 2 3]\n",
      " [8 0 5]\n",
      " [4 7 6]] 7 \t paso: 4 \n",
      "\n",
      "[[1 2 3]\n",
      " [8 5 0]\n",
      " [4 7 6]] 10 \t paso: 5 \n",
      "\n",
      "[[1 2 3]\n",
      " [8 5 6]\n",
      " [4 7 0]] 12 \t paso: 6 \n",
      "\n",
      "[[1 2 3]\n",
      " [8 5 6]\n",
      " [4 0 7]] 13 \t paso: 7 \n",
      "\n",
      "[[1 2 3]\n",
      " [8 5 6]\n",
      " [0 4 7]] 15 \t paso: 8 \n",
      "\n",
      "[[1 2 3]\n",
      " [0 5 6]\n",
      " [8 4 7]] 16 \t paso: 9 \n",
      "\n",
      "[[1 2 3]\n",
      " [5 0 6]\n",
      " [8 4 7]] 18 \t paso: 10 \n",
      "\n",
      "[[1 2 3]\n",
      " [5 6 0]\n",
      " [8 4 7]] 21 \t paso: 11 \n",
      "\n",
      "[[1 2 3]\n",
      " [5 6 7]\n",
      " [8 4 0]] 23 \t paso: 12 \n",
      "\n",
      "[[1 2 3]\n",
      " [5 6 7]\n",
      " [8 0 4]] 24 \t paso: 13 \n",
      "\n",
      "[[1 2 3]\n",
      " [5 6 7]\n",
      " [0 8 4]] 26 \t paso: 14 \n",
      "\n",
      "[[1 2 3]\n",
      " [0 6 7]\n",
      " [5 8 4]] 27 \t paso: 15 \n",
      "\n",
      "[[1 2 3]\n",
      " [6 0 7]\n",
      " [5 8 4]] 29 \t paso: 16 \n",
      "\n",
      "[[1 2 3]\n",
      " [6 7 0]\n",
      " [5 8 4]] 32 \t paso: 17 \n",
      "\n",
      "[[1 2 3]\n",
      " [6 7 4]\n",
      " [5 8 0]] 34 \t paso: 18 \n",
      "\n",
      "[[1 2 3]\n",
      " [6 7 4]\n",
      " [5 0 8]] 35 \t paso: 19 \n",
      "\n",
      "[[1 2 3]\n",
      " [6 7 4]\n",
      " [0 5 8]] 37 \t paso: 20 \n",
      "\n",
      "[[1 2 3]\n",
      " [0 7 4]\n",
      " [6 5 8]] 38 \t paso: 21 \n",
      "\n",
      "[[1 2 3]\n",
      " [7 0 4]\n",
      " [6 5 8]] 40 \t paso: 22 \n",
      "\n",
      "[[1 2 3]\n",
      " [7 4 0]\n",
      " [6 5 8]] 43 \t paso: 23 \n",
      "\n",
      "[[1 2 3]\n",
      " [7 4 8]\n",
      " [6 5 0]] 45 \t paso: 24 \n",
      "\n",
      "[[1 2 3]\n",
      " [7 4 8]\n",
      " [6 0 5]] 46 \t paso: 25 \n",
      "\n",
      "[[1 2 3]\n",
      " [7 4 8]\n",
      " [0 6 5]] 48 \t paso: 26 \n",
      "\n",
      "[[1 2 3]\n",
      " [0 4 8]\n",
      " [7 6 5]] 49 \t paso: 27 \n",
      "\n",
      "[[1 2 3]\n",
      " [4 0 8]\n",
      " [7 6 5]] 51 \t paso: 28 \n",
      "\n",
      "[[1 2 3]\n",
      " [4 6 8]\n",
      " [7 0 5]] 53 \t paso: 29 \n",
      "\n",
      "[[1 2 3]\n",
      " [4 6 8]\n",
      " [7 5 0]] 55 \t paso: 30 \n",
      "\n",
      "[[1 2 3]\n",
      " [4 6 0]\n",
      " [7 5 8]] 56 \t paso: 31 \n",
      "\n",
      "[[1 2 3]\n",
      " [4 0 6]\n",
      " [7 5 8]] 58 \t paso: 32 \n",
      "\n",
      "[[1 2 3]\n",
      " [4 5 6]\n",
      " [7 0 8]] 61 \t paso: 33 \n",
      "\n",
      "[[1 2 3]\n",
      " [4 5 6]\n",
      " [7 8 0]] 63 \t paso: 34 \n",
      "\n"
     ]
    },
    {
     "data": {
      "text/plain": [
       "<paquetes.Puzzle8_State at 0x25ccbda5e88>"
      ]
     },
     "execution_count": 3,
     "metadata": {},
     "output_type": "execute_result"
    }
   ],
   "source": [
    "primero_profundidad(puzzleB)"
   ]
  },
  {
   "cell_type": "markdown",
   "metadata": {},
   "source": [
    "### B. Búsqueda en profundidad limitada (DLS)."
   ]
  },
  {
   "cell_type": "markdown",
   "metadata": {},
   "source": [
    "Celda de ejecucion para el metodo \"Profundidad limitada\" usando el Puzzle ejemplo. Donde el limite se define como menor estricto."
   ]
  },
  {
   "cell_type": "code",
   "execution_count": 4,
   "metadata": {
    "scrolled": true
   },
   "outputs": [
    {
     "name": "stdout",
     "output_type": "stream",
     "text": [
      "Evaluamos el estado 0, pero no es solución  Profundidad:   0\n",
      "[[1 2 3]\n",
      " [4 8 5]\n",
      " [7 6 0]]\n",
      "Evaluamos el estado 1, pero no es solución  Profundidad:   1\n",
      "[[1 2 3]\n",
      " [4 8 0]\n",
      " [7 6 5]]\n",
      "Evaluamos el estado 3, pero no es solución  Profundidad:   2\n",
      "[[1 2 0]\n",
      " [4 8 3]\n",
      " [7 6 5]]\n",
      "Evaluamos el estado 5, pero no es solución  Profundidad:   3\n",
      "[[1 0 2]\n",
      " [4 8 3]\n",
      " [7 6 5]]\n",
      "Evaluamos el estado 6, pero no es solución  Profundidad:   4\n",
      "[[0 1 2]\n",
      " [4 8 3]\n",
      " [7 6 5]]\n",
      "Evaluamos el estado 7, pero no es solución  Profundidad:   4\n",
      "[[1 8 2]\n",
      " [4 0 3]\n",
      " [7 6 5]]\n",
      "Evaluamos el estado 4, pero no es solución  Profundidad:   2\n",
      "[[1 2 3]\n",
      " [4 0 8]\n",
      " [7 6 5]]\n",
      "Evaluamos el estado 8, pero no es solución  Profundidad:   3\n",
      "[[1 0 3]\n",
      " [4 2 8]\n",
      " [7 6 5]]\n",
      "Evaluamos el estado 11, pero no es solución  Profundidad:   4\n",
      "[[0 1 3]\n",
      " [4 2 8]\n",
      " [7 6 5]]\n",
      "Evaluamos el estado 12, pero no es solución  Profundidad:   4\n",
      "[[1 3 0]\n",
      " [4 2 8]\n",
      " [7 6 5]]\n",
      "Evaluamos el estado 9, pero no es solución  Profundidad:   3\n",
      "[[1 2 3]\n",
      " [0 4 8]\n",
      " [7 6 5]]\n",
      "Evaluamos el estado 13, pero no es solución  Profundidad:   4\n",
      "[[0 2 3]\n",
      " [1 4 8]\n",
      " [7 6 5]]\n",
      "Evaluamos el estado 14, pero no es solución  Profundidad:   4\n",
      "[[1 2 3]\n",
      " [7 4 8]\n",
      " [0 6 5]]\n",
      "Evaluamos el estado 10, pero no es solución  Profundidad:   3\n",
      "[[1 2 3]\n",
      " [4 6 8]\n",
      " [7 0 5]]\n",
      "Evaluamos el estado 15, pero no es solución  Profundidad:   4\n",
      "[[1 2 3]\n",
      " [4 6 8]\n",
      " [0 7 5]]\n",
      "Evaluamos el estado 16, pero no es solución  Profundidad:   4\n",
      "[[1 2 3]\n",
      " [4 6 8]\n",
      " [7 5 0]]\n",
      "Evaluamos el estado 2, pero no es solución  Profundidad:   1\n",
      "[[1 2 3]\n",
      " [4 8 5]\n",
      " [7 0 6]]\n",
      "Evaluamos el estado 17, pero no es solución  Profundidad:   2\n",
      "[[1 2 3]\n",
      " [4 0 5]\n",
      " [7 8 6]]\n",
      "Evaluamos el estado 19, pero no es solución  Profundidad:   3\n",
      "[[1 0 3]\n",
      " [4 2 5]\n",
      " [7 8 6]]\n",
      "Evaluamos el estado 22, pero no es solución  Profundidad:   4\n",
      "[[0 1 3]\n",
      " [4 2 5]\n",
      " [7 8 6]]\n",
      "Evaluamos el estado 23, pero no es solución  Profundidad:   4\n",
      "[[1 3 0]\n",
      " [4 2 5]\n",
      " [7 8 6]]\n",
      "Evaluamos el estado 20, pero no es solución  Profundidad:   3\n",
      "[[1 2 3]\n",
      " [0 4 5]\n",
      " [7 8 6]]\n",
      "Evaluamos el estado 24, pero no es solución  Profundidad:   4\n",
      "[[0 2 3]\n",
      " [1 4 5]\n",
      " [7 8 6]]\n",
      "Evaluamos el estado 25, pero no es solución  Profundidad:   4\n",
      "[[1 2 3]\n",
      " [7 4 5]\n",
      " [0 8 6]]\n",
      "Evaluamos el estado 21, pero no es solución  Profundidad:   3\n",
      "[[1 2 3]\n",
      " [4 5 0]\n",
      " [7 8 6]]\n",
      "Evaluamos el estado 26, pero no es solución  Profundidad:   4\n",
      "[[1 2 0]\n",
      " [4 5 3]\n",
      " [7 8 6]]\n",
      "\n",
      "El estado solución es: 27\n",
      "[[1 2 3]\n",
      " [4 5 6]\n",
      " [7 8 0]]\n"
     ]
    },
    {
     "data": {
      "text/plain": [
       "'success'"
      ]
     },
     "execution_count": 4,
     "metadata": {},
     "output_type": "execute_result"
    }
   ],
   "source": [
    "profundidad_limitada(puzzleB,5)"
   ]
  },
  {
   "cell_type": "markdown",
   "metadata": {},
   "source": [
    "### C. Búsqueda en profundidad iterada ID-DLS."
   ]
  },
  {
   "cell_type": "markdown",
   "metadata": {},
   "source": [
    "La funcion generada para encontrar la solucion por el metodo \"Profundidad iterada\" es la siguiente:"
   ]
  },
  {
   "cell_type": "markdown",
   "metadata": {},
   "source": [
    "Celda de ejecucion para el metodo \"Profundidad limitada iterada\" usando el Puzzle ejemplo. "
   ]
  },
  {
   "cell_type": "code",
   "execution_count": 5,
   "metadata": {
    "scrolled": false
   },
   "outputs": [
    {
     "name": "stdout",
     "output_type": "stream",
     "text": [
      "El resultado para esta iteración  0  es : seguir\n",
      "El resultado para esta iteración  1  es : seguir\n",
      "El resultado para esta iteración  2  es : seguir\n",
      "El resultado para esta iteración  3  es : seguir\n",
      "\n",
      "El estado solución es: 27\n",
      "[[1 2 3]\n",
      " [4 5 6]\n",
      " [7 8 0]]\n",
      "El resultado para esta iteración  4  es : success\n"
     ]
    }
   ],
   "source": [
    "ID_DFS(puzzleB,18)"
   ]
  },
  {
   "cell_type": "markdown",
   "metadata": {},
   "source": [
    "### D. Búsqueda en anchura (visto en la clase práctica, modificado para reportar la ruta -secuencia de transiciones- obtenida)."
   ]
  },
  {
   "cell_type": "code",
   "execution_count": 6,
   "metadata": {
    "scrolled": true
   },
   "outputs": [
    {
     "name": "stdout",
     "output_type": "stream",
     "text": [
      "\n",
      " Metodo: Busqueda en Anchuro \n",
      " Pasos a seguir para hallar la solución \n",
      " \n",
      "[[1 2 3]\n",
      " [4 8 5]\n",
      " [7 6 0]] 0 \t paso: 0 \n",
      "\n",
      "[[1 2 3]\n",
      " [4 8 5]\n",
      " [7 0 6]] 2 \t paso: 1 \n",
      "\n",
      "[[1 2 3]\n",
      " [4 0 5]\n",
      " [7 8 6]] 5 \t paso: 2 \n",
      "\n",
      "[[1 2 3]\n",
      " [4 5 0]\n",
      " [7 8 6]] 13 \t paso: 3 \n",
      "\n",
      "[[1 2 3]\n",
      " [4 5 6]\n",
      " [7 8 0]] 28 \t paso: 4 \n",
      "\n"
     ]
    },
    {
     "data": {
      "text/plain": [
       "<paquetes.Puzzle8_State at 0x25ccbdbd988>"
      ]
     },
     "execution_count": 6,
     "metadata": {},
     "output_type": "execute_result"
    }
   ],
   "source": [
    "primero_anchura(puzzleB)"
   ]
  },
  {
   "cell_type": "markdown",
   "metadata": {},
   "source": [
    "## **3. Según el grafo especificado, implementar la búsqueda de costo uniforme para encontrar la ruta de menor coste entre Brest y:**\n",
    "\n",
    "A continuacion definirimos el grafo con los estados propuestos y sus respectivos costos. Luego la funcion que calculara su costo de la ruta menos mediante el metodo de costo uniforme."
   ]
  },
  {
   "cell_type": "code",
   "execution_count": 7,
   "metadata": {},
   "outputs": [],
   "source": [
    "grafo_estados= {\n",
    "    'Brest':      (0,False),\n",
    "    'Rennes':     (0,False),\n",
    "    'Caen' :      (0,False),\n",
    "    'Nantes':     (0,False),\n",
    "    'Paris' :     (0,False),\n",
    "    'Calais' :    (0,False),\n",
    "    'Nancy' :     (0,False),\n",
    "    'Strasbourg': (0,False),\n",
    "    'Dijon':      (0,False),\n",
    "    'Limoges':    (0,False),\n",
    "    'Lyon':       (0,False),\n",
    "    'Bordeaux':   (0,False),\n",
    "    'Toulouse':   (0,False),\n",
    "    'Montpellier':(0,False),\n",
    "    'Avignon':    (0,False),\n",
    "    'Grenoble':   (0,False),\n",
    "    'Marseille':  (0,False),\n",
    "    'Nice':       (0,False)}   \n",
    "grafo_estructura = {\n",
    "    \"Calais\" : [(\"Caen\",120), (\"Paris\",297), (\"Nancy\",534)], \n",
    "    \"Caen\" : [(\"Calais\",120), (\"Paris\",241), (\"Rennes\",176)], \n",
    "    \"Rennes\" : [(\"Caen\",176), (\"Nantes\",107), (\"Brest\",244),(\"Paris\",348)], \n",
    "    \"Nantes\" : [(\"Rennes\",107), (\"Limoges\",329), (\"Bordeaux\",329)], \n",
    "    \"Paris\" : [(\"Calais\",297), (\"Caen\",241), (\"Rennes\",348), (\"Limoges\",396), (\"Dijon\",313), (\"Nancy\",372)], \n",
    "    \"Dijon\" : [(\"Lyon\",192), (\"Strasbourg\",335), (\"Nancy\",201),(\"Paris\",313)], \n",
    "    \"Nancy\" : [(\"Dijon\",201), (\"Strasbourg\",145), (\"Calais\",534),(\"Paris\",372)], \n",
    "    \"Strasbourg\" : [(\"Dijon\",335), (\"Nancy\",145)], \n",
    "    'Limoges'    : [('Nantes',329),('Paris',396),('Lyon',389),('Bordeaux', 220),('Toulouse', 313)],\n",
    "    'Bordeaux'   : [('Nantes',329),('Limoges', 220),('Toulouse', 253)],\n",
    "    'Toulouse'   : [('Bordeaux',253),('Limoges',313),('Montpellier', 240)],\n",
    "    'Montpellier': [('Toulouse', 240), ('Avignon', 121)],\n",
    "    'Lyon'       : [('Dijon', 192), ('Limoges', 389), ('Grenoble', 104), ('Avignon', 216)],\n",
    "    'Grenoble'   : [('Lyon', 104), ('Avignon', 227)],\n",
    "    'Avignon'    : [('Lyon', 216), ('Grenoble', 227), ('Montpellier', 121),('Marseille',99)],\n",
    "    'Marseille'  : [('Avignon', 99), ('Nice', 188)],\n",
    "    'Nice'       :  [('Marseille',188)],\n",
    "    'Brest'       :  [('Rennes',244)]\n",
    "}\n",
    "grafo=StateGraph(grafo_estructura,grafo_estados)"
   ]
  },
  {
   "cell_type": "markdown",
   "metadata": {},
   "source": [
    "## A. Grenoble"
   ]
  },
  {
   "cell_type": "code",
   "execution_count": 8,
   "metadata": {},
   "outputs": [
    {
     "name": "stdout",
     "output_type": "stream",
     "text": [
      "Nodo de partida: Brest\n",
      "Nodo de llegada: Grenoble\n",
      "Costo de:  1173 \n",
      "Ciudades visitadas antes de llegar al objetivo final: ['Brest', 'Limoges', 'Paris', 'Caen', 'Calais', 'Rennes', 'Toulouse', 'Nantes', 'Dijon', 'Bordeaux']\n"
     ]
    }
   ],
   "source": [
    "result=UniformCostSearch(grafo, \"Brest\",\"Grenoble\")"
   ]
  },
  {
   "cell_type": "markdown",
   "metadata": {},
   "source": [
    "## B. Estrasburgo"
   ]
  },
  {
   "cell_type": "code",
   "execution_count": 9,
   "metadata": {},
   "outputs": [
    {
     "name": "stdout",
     "output_type": "stream",
     "text": [
      "Nodo de partida: Brest\n",
      "Nodo de llegada: Strasbourg\n",
      "Costo de:  1109 \n",
      "Ciudades visitadas antes de llegar al objetivo final: ['Brest', 'Limoges', 'Paris', 'Caen', 'Calais', 'Nancy', 'Rennes', 'Toulouse', 'Nantes', 'Dijon', 'Bordeaux']\n"
     ]
    }
   ],
   "source": [
    "result=UniformCostSearch(grafo,\"Brest\", \"Strasbourg\")"
   ]
  },
  {
   "cell_type": "markdown",
   "metadata": {},
   "source": [
    "## C. Marsella"
   ]
  },
  {
   "cell_type": "code",
   "execution_count": 10,
   "metadata": {},
   "outputs": [
    {
     "name": "stdout",
     "output_type": "stream",
     "text": [
      "Nodo de partida: Brest\n",
      "Nodo de llegada: Marseille\n",
      "Costo de:  1384 \n",
      "Ciudades visitadas antes de llegar al objetivo final: ['Lyon', 'Brest', 'Limoges', 'Paris', 'Caen', 'Avignon', 'Calais', 'Nancy', 'Rennes', 'Toulouse', 'Grenoble', 'Montpellier', 'Nantes', 'Dijon', 'Strasbourg', 'Bordeaux']\n"
     ]
    }
   ],
   "source": [
    "result=UniformCostSearch(grafo,\"Brest\", \"Marseille\")"
   ]
  }
 ],
 "metadata": {
  "kernelspec": {
   "display_name": "Python 3",
   "language": "python",
   "name": "python3"
  },
  "language_info": {
   "codemirror_mode": {
    "name": "ipython",
    "version": 3
   },
   "file_extension": ".py",
   "mimetype": "text/x-python",
   "name": "python",
   "nbconvert_exporter": "python",
   "pygments_lexer": "ipython3",
   "version": "3.8.5"
  }
 },
 "nbformat": 4,
 "nbformat_minor": 4
}
