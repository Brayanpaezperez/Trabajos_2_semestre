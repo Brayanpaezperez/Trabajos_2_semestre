{
 "cells": [
  {
   "cell_type": "markdown",
   "metadata": {},
   "source": [
    "# **Taller 3**\n",
    "\n",
    "## **Inteligencia Artificial**\n",
    "\n",
    "### **Maestría en Analítica de Datos**\n",
    "\n",
    "**Facultad de Ingeniería y Ciencias Básicas.**\n",
    "\n",
    "**Universidad Central**\n",
    "\n",
    "> **Integrantes:**\n",
    "\n",
    ">>***1. Brayan Holman Paez Perez***\n",
    "\n",
    ">>***2. Michel Esteven Céspedes Medina***\n",
    "\n",
    "\n",
    "> **Profesor:**\n",
    "\n",
    ">>***Hugo Franco***\n",
    "\n"
   ]
  },
  {
   "cell_type": "markdown",
   "metadata": {},
   "source": [
    "## Librerias \n",
    "Librerias a utilizar"
   ]
  },
  {
   "cell_type": "code",
   "execution_count": 1,
   "metadata": {},
   "outputs": [],
   "source": [
    "import numpy as np\n",
    "from paquetes import *"
   ]
  },
  {
   "cell_type": "markdown",
   "metadata": {},
   "source": [
    "## Funciones \n",
    "A continuacion para darle un mayor orden y entendimiento al taller, se dejaran las funciones  principales a utilizar en el mismo. "
   ]
  },
  {
   "cell_type": "markdown",
   "metadata": {},
   "source": [
    "## Puzzle Ejemplo"
   ]
  },
  {
   "cell_type": "code",
   "execution_count": 2,
   "metadata": {},
   "outputs": [
    {
     "name": "stdout",
     "output_type": "stream",
     "text": [
      "[[5 8 0]\n",
      " [2 1 4]\n",
      " [7 3 6]]\n"
     ]
    }
   ],
   "source": [
    "puzzle_array=np.array([[5,8,0],[2,1,4],[7,3,6]]) \n",
    "puzzleB=Puzzle8_State(None,0,puzzle_array)\n",
    "print (puzzleB.getPosition())"
   ]
  },
  {
   "cell_type": "markdown",
   "metadata": {},
   "source": [
    "## **2.Obtener la solución (secuencia de transiciones) del puzzle de 8 casillas mediante búsqueda noinformada:**"
   ]
  },
  {
   "cell_type": "markdown",
   "metadata": {},
   "source": [
    "### A. Búsqueda «primero en profundidad» (DFS).\n"
   ]
  },
  {
   "cell_type": "markdown",
   "metadata": {},
   "source": [
    "Celda de ejecucion para el metodo \"primero en profundidad\" usando el Puzzle ejemplo"
   ]
  },
  {
   "cell_type": "code",
   "execution_count": 3,
   "metadata": {},
   "outputs": [
    {
     "ename": "KeyboardInterrupt",
     "evalue": "",
     "output_type": "error",
     "traceback": [
      "\u001b[1;31m---------------------------------------------------------------------------\u001b[0m",
      "\u001b[1;31mKeyboardInterrupt\u001b[0m                         Traceback (most recent call last)",
      "\u001b[1;32m<ipython-input-3-04d5194e3def>\u001b[0m in \u001b[0;36m<module>\u001b[1;34m\u001b[0m\n\u001b[1;32m----> 1\u001b[1;33m \u001b[0mprimero_profundidad\u001b[0m\u001b[1;33m(\u001b[0m\u001b[0mpuzzleB\u001b[0m\u001b[1;33m)\u001b[0m\u001b[1;33m\u001b[0m\u001b[1;33m\u001b[0m\u001b[0m\n\u001b[0m",
      "\u001b[1;32m~\\Documents\\Universidad\\Trabajos_2_semestre\\IA\\Taller 3\\paquetes.py\u001b[0m in \u001b[0;36mprimero_profundidad\u001b[1;34m(pz)\u001b[0m\n\u001b[0;32m    210\u001b[0m \u001b[1;32mdef\u001b[0m \u001b[0mprimero_profundidad\u001b[0m\u001b[1;33m(\u001b[0m\u001b[0mpz\u001b[0m\u001b[1;33m)\u001b[0m\u001b[1;33m:\u001b[0m\u001b[1;33m\u001b[0m\u001b[1;33m\u001b[0m\u001b[0m\n\u001b[0;32m    211\u001b[0m     \u001b[0mpuzzleBB\u001b[0m\u001b[1;33m=\u001b[0m\u001b[0mPuzzle8_State\u001b[0m\u001b[1;33m(\u001b[0m\u001b[1;32mNone\u001b[0m\u001b[1;33m,\u001b[0m\u001b[1;36m0\u001b[0m\u001b[1;33m,\u001b[0m\u001b[0mpz\u001b[0m\u001b[1;33m.\u001b[0m\u001b[0mgetPosition\u001b[0m\u001b[1;33m(\u001b[0m\u001b[1;33m)\u001b[0m\u001b[1;33m)\u001b[0m\u001b[1;33m\u001b[0m\u001b[1;33m\u001b[0m\u001b[0m\n\u001b[1;32m--> 212\u001b[1;33m     \u001b[1;32mreturn\u001b[0m \u001b[0mPuzzle8_depthfirst\u001b[0m\u001b[1;33m(\u001b[0m\u001b[0mpuzzleBB\u001b[0m\u001b[1;33m)\u001b[0m\u001b[1;33m\u001b[0m\u001b[1;33m\u001b[0m\u001b[0m\n\u001b[0m\u001b[0;32m    213\u001b[0m \u001b[1;33m\u001b[0m\u001b[0m\n\u001b[0;32m    214\u001b[0m \u001b[1;31m#####\u001b[0m\u001b[1;33m\u001b[0m\u001b[1;33m\u001b[0m\u001b[1;33m\u001b[0m\u001b[0m\n",
      "\u001b[1;32m~\\Documents\\Universidad\\Trabajos_2_semestre\\IA\\Taller 3\\paquetes.py\u001b[0m in \u001b[0;36mPuzzle8_depthfirst\u001b[1;34m(initial_state)\u001b[0m\n\u001b[0;32m    180\u001b[0m             \u001b[1;32mif\u001b[0m\u001b[1;33m(\u001b[0m\u001b[0mempty_position\u001b[0m\u001b[1;33m[\u001b[0m\u001b[1;36m0\u001b[0m\u001b[1;33m]\u001b[0m\u001b[1;33m>\u001b[0m\u001b[1;36m0\u001b[0m\u001b[1;33m)\u001b[0m\u001b[1;33m:\u001b[0m\u001b[1;33m\u001b[0m\u001b[1;33m\u001b[0m\u001b[0m\n\u001b[0;32m    181\u001b[0m                 \u001b[0mnew_pos_u\u001b[0m\u001b[1;33m=\u001b[0m\u001b[0mmove1\u001b[0m\u001b[1;33m(\u001b[0m\u001b[0mt\u001b[0m\u001b[1;33m.\u001b[0m\u001b[0mgetPosition\u001b[0m\u001b[1;33m(\u001b[0m\u001b[1;33m)\u001b[0m\u001b[1;33m,\u001b[0m\u001b[0mempty_position\u001b[0m\u001b[1;33m[\u001b[0m\u001b[1;36m0\u001b[0m\u001b[1;33m]\u001b[0m\u001b[1;33m,\u001b[0m\u001b[0mempty_position\u001b[0m\u001b[1;33m[\u001b[0m\u001b[1;36m1\u001b[0m\u001b[1;33m]\u001b[0m\u001b[1;33m)\u001b[0m\u001b[1;33m\u001b[0m\u001b[1;33m\u001b[0m\u001b[0m\n\u001b[1;32m--> 182\u001b[1;33m                 \u001b[1;32mif\u001b[0m \u001b[0malready_visited\u001b[0m\u001b[1;33m(\u001b[0m\u001b[0mnew_pos_u\u001b[0m\u001b[1;33m,\u001b[0m\u001b[0mvisited_states\u001b[0m\u001b[1;33m)\u001b[0m\u001b[1;33m==\u001b[0m\u001b[1;32mFalse\u001b[0m\u001b[1;33m:\u001b[0m\u001b[1;33m\u001b[0m\u001b[1;33m\u001b[0m\u001b[0m\n\u001b[0m\u001b[0;32m    183\u001b[0m                     \u001b[0mvisited_states\u001b[0m\u001b[1;33m.\u001b[0m\u001b[0mappend\u001b[0m\u001b[1;33m(\u001b[0m\u001b[0mnew_pos_u\u001b[0m\u001b[1;33m)\u001b[0m\u001b[1;33m\u001b[0m\u001b[1;33m\u001b[0m\u001b[0m\n\u001b[0;32m    184\u001b[0m                     \u001b[0mt\u001b[0m\u001b[1;33m.\u001b[0m\u001b[0maddExpandedState\u001b[0m\u001b[1;33m(\u001b[0m\u001b[0mPuzzle8_State\u001b[0m\u001b[1;33m(\u001b[0m\u001b[0mt\u001b[0m\u001b[1;33m,\u001b[0m\u001b[0mlabel\u001b[0m\u001b[1;33m,\u001b[0m\u001b[0mnew_pos_u\u001b[0m\u001b[1;33m)\u001b[0m\u001b[1;33m)\u001b[0m\u001b[1;33m\u001b[0m\u001b[1;33m\u001b[0m\u001b[0m\n",
      "\u001b[1;32m~\\Documents\\Universidad\\Trabajos_2_semestre\\IA\\Taller 3\\paquetes.py\u001b[0m in \u001b[0;36malready_visited\u001b[1;34m(state, visited_states)\u001b[0m\n\u001b[0;32m     38\u001b[0m \u001b[1;32mdef\u001b[0m \u001b[0malready_visited\u001b[0m\u001b[1;33m(\u001b[0m\u001b[0mstate\u001b[0m\u001b[1;33m,\u001b[0m \u001b[0mvisited_states\u001b[0m\u001b[1;33m)\u001b[0m\u001b[1;33m:\u001b[0m\u001b[1;33m\u001b[0m\u001b[1;33m\u001b[0m\u001b[0m\n\u001b[0;32m     39\u001b[0m     \u001b[1;32mfor\u001b[0m \u001b[0mt\u001b[0m \u001b[1;32min\u001b[0m \u001b[0mvisited_states\u001b[0m\u001b[1;33m:\u001b[0m\u001b[1;33m\u001b[0m\u001b[1;33m\u001b[0m\u001b[0m\n\u001b[1;32m---> 40\u001b[1;33m         \u001b[1;32mif\u001b[0m \u001b[0mare_equal_states\u001b[0m\u001b[1;33m(\u001b[0m\u001b[0mstate\u001b[0m\u001b[1;33m,\u001b[0m \u001b[0mt\u001b[0m\u001b[1;33m)\u001b[0m\u001b[1;33m:\u001b[0m\u001b[1;33m\u001b[0m\u001b[1;33m\u001b[0m\u001b[0m\n\u001b[0m\u001b[0;32m     41\u001b[0m             \u001b[1;32mreturn\u001b[0m \u001b[1;32mTrue\u001b[0m\u001b[1;33m\u001b[0m\u001b[1;33m\u001b[0m\u001b[0m\n\u001b[0;32m     42\u001b[0m     \u001b[1;32mreturn\u001b[0m \u001b[1;32mFalse\u001b[0m\u001b[1;33m\u001b[0m\u001b[1;33m\u001b[0m\u001b[0m\n",
      "\u001b[1;32m~\\Documents\\Universidad\\Trabajos_2_semestre\\IA\\Taller 3\\paquetes.py\u001b[0m in \u001b[0;36mare_equal_states\u001b[1;34m(position1, position2)\u001b[0m\n\u001b[0;32m     32\u001b[0m \u001b[1;31m# Comprobar si dos estados posiciones son iguales\u001b[0m\u001b[1;33m\u001b[0m\u001b[1;33m\u001b[0m\u001b[1;33m\u001b[0m\u001b[0m\n\u001b[0;32m     33\u001b[0m \u001b[1;32mdef\u001b[0m \u001b[0mare_equal_states\u001b[0m\u001b[1;33m(\u001b[0m\u001b[0mposition1\u001b[0m\u001b[1;33m,\u001b[0m \u001b[0mposition2\u001b[0m\u001b[1;33m)\u001b[0m\u001b[1;33m:\u001b[0m\u001b[1;33m\u001b[0m\u001b[1;33m\u001b[0m\u001b[0m\n\u001b[1;32m---> 34\u001b[1;33m     \u001b[1;32mreturn\u001b[0m \u001b[0mnumpy\u001b[0m\u001b[1;33m.\u001b[0m\u001b[0marray_equal\u001b[0m\u001b[1;33m(\u001b[0m\u001b[0mposition1\u001b[0m\u001b[1;33m,\u001b[0m \u001b[0mposition2\u001b[0m\u001b[1;33m)\u001b[0m\u001b[1;33m\u001b[0m\u001b[1;33m\u001b[0m\u001b[0m\n\u001b[0m\u001b[0;32m     35\u001b[0m \u001b[1;33m\u001b[0m\u001b[0m\n\u001b[0;32m     36\u001b[0m \u001b[1;33m\u001b[0m\u001b[0m\n",
      "\u001b[1;32m<__array_function__ internals>\u001b[0m in \u001b[0;36marray_equal\u001b[1;34m(*args, **kwargs)\u001b[0m\n",
      "\u001b[1;32m~\\anaconda3\\lib\\site-packages\\numpy\\core\\numeric.py\u001b[0m in \u001b[0;36marray_equal\u001b[1;34m(a1, a2, equal_nan)\u001b[0m\n\u001b[0;32m   2376\u001b[0m         \u001b[1;32mreturn\u001b[0m \u001b[1;32mFalse\u001b[0m\u001b[1;33m\u001b[0m\u001b[1;33m\u001b[0m\u001b[0m\n\u001b[0;32m   2377\u001b[0m     \u001b[1;32mif\u001b[0m \u001b[1;32mnot\u001b[0m \u001b[0mequal_nan\u001b[0m\u001b[1;33m:\u001b[0m\u001b[1;33m\u001b[0m\u001b[1;33m\u001b[0m\u001b[0m\n\u001b[1;32m-> 2378\u001b[1;33m         \u001b[1;32mreturn\u001b[0m \u001b[0mbool\u001b[0m\u001b[1;33m(\u001b[0m\u001b[0masarray\u001b[0m\u001b[1;33m(\u001b[0m\u001b[0ma1\u001b[0m \u001b[1;33m==\u001b[0m \u001b[0ma2\u001b[0m\u001b[1;33m)\u001b[0m\u001b[1;33m.\u001b[0m\u001b[0mall\u001b[0m\u001b[1;33m(\u001b[0m\u001b[1;33m)\u001b[0m\u001b[1;33m)\u001b[0m\u001b[1;33m\u001b[0m\u001b[1;33m\u001b[0m\u001b[0m\n\u001b[0m\u001b[0;32m   2379\u001b[0m     \u001b[1;31m# Handling NaN values if equal_nan is True\u001b[0m\u001b[1;33m\u001b[0m\u001b[1;33m\u001b[0m\u001b[1;33m\u001b[0m\u001b[0m\n\u001b[0;32m   2380\u001b[0m     \u001b[0ma1nan\u001b[0m\u001b[1;33m,\u001b[0m \u001b[0ma2nan\u001b[0m \u001b[1;33m=\u001b[0m \u001b[0misnan\u001b[0m\u001b[1;33m(\u001b[0m\u001b[0ma1\u001b[0m\u001b[1;33m)\u001b[0m\u001b[1;33m,\u001b[0m \u001b[0misnan\u001b[0m\u001b[1;33m(\u001b[0m\u001b[0ma2\u001b[0m\u001b[1;33m)\u001b[0m\u001b[1;33m\u001b[0m\u001b[1;33m\u001b[0m\u001b[0m\n",
      "\u001b[1;31mKeyboardInterrupt\u001b[0m: "
     ]
    }
   ],
   "source": [
    "primero_profundidad(puzzleB)"
   ]
  },
  {
   "cell_type": "markdown",
   "metadata": {},
   "source": [
    "### B. Búsqueda en profundidad limitada (DLS)."
   ]
  },
  {
   "cell_type": "markdown",
   "metadata": {},
   "source": [
    "Celda de ejecucion para el metodo \"Profundidad limitada\" usando el Puzzle ejemplo. Donde el limite se define como menor estricto."
   ]
  },
  {
   "cell_type": "code",
   "execution_count": null,
   "metadata": {
    "scrolled": true
   },
   "outputs": [],
   "source": [
    "profundidad_limitada(puzzleB,5)"
   ]
  },
  {
   "cell_type": "markdown",
   "metadata": {},
   "source": [
    "### C. Búsqueda en profundidad iterada ID-DLS."
   ]
  },
  {
   "cell_type": "markdown",
   "metadata": {},
   "source": [
    "La funcion generada para encontrar la solucion por el metodo \"Profundidad iterada\" es la siguiente:"
   ]
  },
  {
   "cell_type": "markdown",
   "metadata": {},
   "source": [
    "Celda de ejecucion para el metodo \"Profundidad limitada iterada\" usando el Puzzle ejemplo. "
   ]
  },
  {
   "cell_type": "code",
   "execution_count": null,
   "metadata": {
    "scrolled": false
   },
   "outputs": [],
   "source": [
    "ID_DFS(puzzleB,18)"
   ]
  },
  {
   "cell_type": "markdown",
   "metadata": {},
   "source": [
    "### D. Búsqueda en anchura (visto en la clase práctica, modificado para reportar la ruta -secuencia de transiciones- obtenida)."
   ]
  },
  {
   "cell_type": "code",
   "execution_count": null,
   "metadata": {
    "scrolled": true
   },
   "outputs": [],
   "source": [
    "primero_anchura(puzzleB)"
   ]
  },
  {
   "cell_type": "markdown",
   "metadata": {},
   "source": [
    "## **3. Según el grafo especificado, implementar la búsqueda de costo uniforme para encontrar la ruta de menor coste entre Brest y:**\n",
    "\n",
    "A continuacion definirimos el grafo con los estados propuestos y sus respectivos costos. Luego la funcion que calculara su costo de la ruta menos mediante el metodo de costo uniforme."
   ]
  },
  {
   "cell_type": "code",
   "execution_count": null,
   "metadata": {},
   "outputs": [],
   "source": [
    "grafo_estados= {\n",
    "    'Brest':      (0,False),\n",
    "    'Rennes':     (0,False),\n",
    "    'Caen' :      (0,False),\n",
    "    'Nantes':     (0,False),\n",
    "    'Paris' :     (0,False),\n",
    "    'Calais' :    (0,False),\n",
    "    'Nancy' :     (0,False),\n",
    "    'Strasbourg': (0,False),\n",
    "    'Dijon':      (0,False),\n",
    "    'Limoges':    (0,False),\n",
    "    'Lyon':       (0,False),\n",
    "    'Bordeaux':   (0,False),\n",
    "    'Toulouse':   (0,False),\n",
    "    'Montpellier':(0,False),\n",
    "    'Avignon':    (0,False),\n",
    "    'Grenoble':   (0,False),\n",
    "    'Marseille':  (0,False),\n",
    "    'Nice':       (0,False)}   \n",
    "grafo_estructura = {\n",
    "    \"Calais\" : [(\"Caen\",120), (\"Paris\",297), (\"Nancy\",534)], \n",
    "    \"Caen\" : [(\"Calais\",120), (\"Paris\",241), (\"Rennes\",176)], \n",
    "    \"Rennes\" : [(\"Caen\",176), (\"Nantes\",107), (\"Brest\",244),(\"Paris\",348)], \n",
    "    \"Nantes\" : [(\"Rennes\",107), (\"Limoges\",329), (\"Bordeaux\",329)], \n",
    "    \"Paris\" : [(\"Calais\",297), (\"Caen\",241), (\"Rennes\",348), (\"Limoges\",396), (\"Dijon\",313), (\"Nancy\",372)], \n",
    "    \"Dijon\" : [(\"Lyon\",192), (\"Strasbourg\",335), (\"Nancy\",201),(\"Paris\",313)], \n",
    "    \"Nancy\" : [(\"Dijon\",201), (\"Strasbourg\",145), (\"Calais\",534),(\"Paris\",372)], \n",
    "    \"Strasbourg\" : [(\"Dijon\",335), (\"Nancy\",145)], \n",
    "    'Limoges'    : [('Nantes',329),('Paris',396),('Lyon',389),('Bordeaux', 220),('Toulouse', 313)],\n",
    "    'Bordeaux'   : [('Nantes',329),('Limoges', 220),('Toulouse', 253)],\n",
    "    'Toulouse'   : [('Bordeaux',253),('Limoges',313),('Montpellier', 240)],\n",
    "    'Montpellier': [('Toulouse', 240), ('Avignon', 121)],\n",
    "    'Lyon'       : [('Dijon', 192), ('Limoges', 389), ('Grenoble', 104), ('Avignon', 216)],\n",
    "    'Grenoble'   : [('Lyon', 104), ('Avignon', 227)],\n",
    "    'Avignon'    : [('Lyon', 216), ('Grenoble', 227), ('Montpellier', 121),('Marseille',99)],\n",
    "    'Marseille'  : [('Avignon', 99), ('Nice', 188)],\n",
    "    'Nice'       :  [('Marseille',188)],\n",
    "    'Brest'       :  [('Rennes',244)]\n",
    "}\n",
    "grafo=StateGraph(grafo_estructura,grafo_estados)"
   ]
  },
  {
   "cell_type": "markdown",
   "metadata": {},
   "source": [
    "## A. Grenoble"
   ]
  },
  {
   "cell_type": "code",
   "execution_count": null,
   "metadata": {},
   "outputs": [],
   "source": [
    "result=UniformCostSearch(grafo, \"Brest\",\"Grenoble\")"
   ]
  },
  {
   "cell_type": "markdown",
   "metadata": {},
   "source": [
    "## B. Estrasburgo"
   ]
  },
  {
   "cell_type": "code",
   "execution_count": null,
   "metadata": {},
   "outputs": [],
   "source": [
    "result=UniformCostSearch(grafo,\"Brest\", \"Strasbourg\")"
   ]
  },
  {
   "cell_type": "markdown",
   "metadata": {},
   "source": [
    "## C. Marsella"
   ]
  },
  {
   "cell_type": "code",
   "execution_count": null,
   "metadata": {},
   "outputs": [],
   "source": [
    "result=UniformCostSearch(grafo,\"Brest\", \"Marseille\")"
   ]
  }
 ],
 "metadata": {
  "kernelspec": {
   "display_name": "Python 3",
   "language": "python",
   "name": "python3"
  },
  "language_info": {
   "codemirror_mode": {
    "name": "ipython",
    "version": 3
   },
   "file_extension": ".py",
   "mimetype": "text/x-python",
   "name": "python",
   "nbconvert_exporter": "python",
   "pygments_lexer": "ipython3",
   "version": "3.8.5"
  }
 },
 "nbformat": 4,
 "nbformat_minor": 4
}
