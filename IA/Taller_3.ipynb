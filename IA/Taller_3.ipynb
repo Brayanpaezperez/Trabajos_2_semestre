{
 "cells": [
  {
   "cell_type": "markdown",
   "metadata": {},
   "source": [
    "# **Taller 3**\n",
    "\n",
    "## **Inteligencia Artificial**\n",
    "\n",
    "### **Maestría en Analítica de Datos**\n",
    "\n",
    "**Facultad de Ingeniería y Ciencias Básicas.**\n",
    "\n",
    "**Universidad Central**\n",
    "\n",
    "> **Integrantes:**\n",
    "\n",
    ">>***1. Brayan Holman Paez Perez***\n",
    "\n",
    ">>***2. Michel Esteven Céspedes Medina***\n",
    "\n",
    "\n",
    "> **Profesor:**\n",
    "\n",
    ">>***Hugo Franco***\n",
    "\n"
   ]
  },
  {
   "cell_type": "markdown",
   "metadata": {},
   "source": [
    "## **1.  Crear una API que permita crear las estructuras de datos requeridas para la solución de problemas de búsqueda no-informada e informada.**"
   ]
  },
  {
   "cell_type": "markdown",
   "metadata": {},
   "source": [
    "## **2.Obtener la solución (secuencia de transiciones) del puzzle de 8 casillas mediante búsqueda noinformada:**\n",
    "### **a. Búsqueda «primero en profundidad» (DFS).**\n",
    "### **b. Búsqueda en profundidad limitada (DLS).**\n",
    "### **c. Búsqueda en profundidad iterada ID-DLS.**\n",
    "### **d. Búsqueda en anchura (visto en la clase práctica, modificado para reportar la ruta -secuencia de transiciones- obtenida).**"
   ]
  },
  {
   "cell_type": "markdown",
   "metadata": {},
   "source": [
    "## **3. Según el grafo especificado, implementar la búsqueda de costo uniforme para encontrar la ruta de menor coste entre Brest y:**\n",
    "\n",
    ">### **a. Grenoble.**\n",
    "\n",
    ">### **b. Estrasburgo.**\n",
    "\n",
    ">### **c. Marsella.**"
   ]
  },
  {
   "cell_type": "code",
   "execution_count": 1,
   "metadata": {},
   "outputs": [],
   "source": [
    "class StateGraph:\n",
    "    def __init__(self,structure=None,node_content=None):\n",
    "        if structure is None:\n",
    "            self.structure={}\n",
    "        else:\n",
    "            self.structure=structure\n",
    "        if node_content is None:\n",
    "            self.node_content={}\n",
    "        else:\n",
    "            self.node_content=node_content\n",
    "\n",
    "    def getNodes(self):\n",
    "        keys=list(self.structure.keys())\n",
    "        node_content={}\n",
    "        for key in keys:\n",
    "            node_content[key]=self.node_content[key]\n",
    "        return node_content\n",
    "    \n",
    "    def getNode(self,key):\n",
    "        return self.node_content[key]\n",
    "    \n",
    "    def getEdges(self):\n",
    "        edges=[]\n",
    "        for node_key in self.structure.keys():\n",
    "            for neighbour_node in self.structure[node_key]:\n",
    "                if [node_key,neighbour_node] not in edges:\n",
    "                    edges.append([node_key, neighbour_node])\n",
    "        return edges     \n",
    "    \n",
    "    def getEdge(self,key):\n",
    "        return self.structure[key]"
   ]
  },
  {
   "cell_type": "code",
   "execution_count": 69,
   "metadata": {},
   "outputs": [],
   "source": [
    "grafo_estados= {\n",
    "    'Brest':      (0,False),\n",
    "    'Rennes':     (0,False),\n",
    "    'Caen' :      (0,False),\n",
    "    'Nantes':     (0,False),\n",
    "    'Paris' :     (0,False),\n",
    "    'Calais' :    (0,False),\n",
    "    'Nancy' :     (0,False),\n",
    "    'Strasbourg': (0,False),\n",
    "    'Dijon':      (0,False),\n",
    "    'Limoges':    (0,False),\n",
    "    'Lyon':       (0,False),\n",
    "    'Bordeaux':   (0,False),\n",
    "    'Toulouse':   (0,False),\n",
    "    'Montpellier':(0,False),\n",
    "    'Avignon':    (0,False),\n",
    "    'Grenoble':   (0,False),\n",
    "    'Marseille':  (0,False),\n",
    "    'Nice':       (0,False)\n",
    "}   \n",
    "\n",
    "\n",
    "grafo_estructura = {\n",
    "    \"Calais\" : [(\"Caen\",120), (\"Paris\",297), (\"Nancy\",534)], \n",
    "    \"Caen\" : [(\"Calais\",120), (\"Paris\",241), (\"Rennes\",176)], \n",
    "    \"Rennes\" : [(\"Caen\",176), (\"Nantes\",107), (\"Brest\",244),(\"Paris\",348)], \n",
    "    \"Nantes\" : [(\"Rennes\",107), (\"Limoges\",329), (\"Bordeaux\",329)], \n",
    "    \"Paris\" : [(\"Calais\",297), (\"Caen\",241), (\"Rennes\",348), (\"Limoges\",396), (\"Dijon\",313), (\"Nancy\",372)], \n",
    "    \"Dijon\" : [(\"Lyon\",192), (\"Strasbourg\",335), (\"Nancy\",201),(\"Paris\",313)], \n",
    "    \"Nancy\" : [(\"Dijon\",201), (\"Strasbourg\",145), (\"Calais\",534),(\"Paris\",372)], \n",
    "    \"Strasbourg\" : [(\"Dijon\",335), (\"Nancy\",145)], \n",
    "    'Limoges'    : [('Nantes',329),('Paris',396),('Lyon',389),('Bordeaux', 220),('Toulouse', 313)],\n",
    "    'Bordeaux'   : [('Nantes',329),('Limoges', 220),('Toulouse', 253)],\n",
    "    'Toulouse'   : [('Bordeaux',253),('Limoges',313),('Montpellier', 240)],\n",
    "    'Montpellier': [('Toulouse', 240), ('Avignon', 121)],\n",
    "    'Lyon'       : [('Dijon', 192), ('Limoges', 389), ('Grenoble', 104), ('Avignon', 216)],\n",
    "    'Grenoble'   : [('Lyon', 104), ('Avignon', 227)],\n",
    "    'Avignon'    : [('Lyon', 216), ('Grenoble', 227), ('Montpellier', 121),('Marseille',99)],\n",
    "    'Marseille'  : [('Avignon', 99), ('Nice', 188)],\n",
    "    'Nice'       :  [('Marseille',188)],\n",
    "    'Brest'       :  [('Rennes',244)]\n",
    "   \n",
    "\n",
    "\n",
    "}\n",
    "\n",
    "\n",
    "\n",
    "grafo=StateGraph(grafo_estructura,grafo_estados)"
   ]
  },
  {
   "cell_type": "code",
   "execution_count": 114,
   "metadata": {},
   "outputs": [],
   "source": [
    "from queue import PriorityQueue ## Se usa una cola de prioridad\n",
    "\n",
    "## Búsqueda de costo uniforme  (función externa)\n",
    "def UniformCostSearch (graph, root_label,end_label):\n",
    "    lista_d=[]\n",
    "    lista_r=[]\n",
    "    print (\"Nodo de partida:\",root_label)\n",
    "    print (\"Nodo de llegada:\",end_label)\n",
    "    for n in grafo.getNodes():\n",
    "        grafo.node_content[n]=(0,False)\n",
    "    grafo.node_content[end_label]=(0,True)\n",
    "    if graph.getNodes() is None:\n",
    "        return False\n",
    "    else:\n",
    "        node=graph.getNode(root_label)\n",
    "        if node is None:\n",
    "            return False\n",
    "    \n",
    "    visited_nodes=set()\n",
    "    pq=PriorityQueue() #La estructura de datos principal, para priorizar los recorridos de menor coste\n",
    "    pq.put((node[0],root_label,node[1])) # Se crea una cola de prioridad ad hoc con tuplas: (0: costo, 1: etiqueta_estado, 2: es_exito)\n",
    "    \n",
    "    iteration=0\n",
    "    iterate=True\n",
    "    while iterate:\n",
    "        if pq.empty():\n",
    "            return_value=\"Error\"\n",
    "            iterate=False\n",
    "            #break #sale del bucle de evaluación\n",
    "        \n",
    "        t=pq.get() # En el primer paso, es el nodo raíz, luego será la tupla con menor costo\n",
    "#         print (\"\\nNodo actual:\", t[1], \"-Lista de nodos visitados:\",visited_nodes)\n",
    "        \n",
    "\n",
    "        if t[2] == True: # prueba de éxito\n",
    "#             print (\"Estado objetivo encontrado\")\n",
    "            return_value=t\n",
    "            iterate=False\n",
    "            \n",
    "            \n",
    "        else:\n",
    "            visited_nodes.add(t[1]) # si la tupla t no corresponde al estado solución (llegada) se agrega la etiqueta \"t[1]\" a la lista de visitados\n",
    "           \n",
    "            for neighbour in graph.getEdge(t[1]): # el vecino tiene la misma estructura de un nodo del grafo (entrada de diccionario), se toma el nodo con clave \"t[1]\"\n",
    "                if neighbour[0] not in visited_nodes: # Se revisa que la etiqueta del nodo vecino no esté en la lista de visitados\n",
    "                    neighbour_cost=t[0]+neighbour[1]\n",
    "                    pq.put((neighbour_cost,neighbour[0],graph.getNodes()[neighbour[0]][1]))\n",
    "                    lista_d.append(neighbour_cost)\n",
    "                    lista_r.append(list(visited_nodes))\n",
    "#                     print (\"-Iteración: \",iteration)\n",
    "#                     print (\"-Origen: \",t[1],\"-Visito:\",neighbour[0], \"-Costo:\", neighbour_cost,\"-¿Es solución? \",graph.getNode(neighbour[0])[1])\n",
    "                                        \n",
    "#             print('\\n')\n",
    "            iteration=iteration+1\n",
    "#     lista_r.append(end_label)\n",
    "    \n",
    "    print('Costo de: ',return_value[0],'\\nCiudades visitadas antes de llegar al objetivo final:', lista_r[lista_d.index(return_value[0])])\n",
    "    return return_value\n",
    " "
   ]
  },
  {
   "cell_type": "markdown",
   "metadata": {},
   "source": [
    "## A. "
   ]
  },
  {
   "cell_type": "code",
   "execution_count": 115,
   "metadata": {
    "scrolled": false
   },
   "outputs": [
    {
     "name": "stdout",
     "output_type": "stream",
     "text": [
      "Nodo de partida: Brest\n",
      "Nodo de llegada: Grenoble\n",
      "Costo de:  1173 \n",
      "Ciudades visitadas antes de llegar al objetivo final: ['Toulouse', 'Dijon', 'Brest', 'Calais', 'Bordeaux', 'Nantes', 'Rennes', 'Paris', 'Limoges', 'Caen']\n"
     ]
    }
   ],
   "source": [
    "result=UniformCostSearch(grafo, \"Brest\",\"Grenoble\")"
   ]
  },
  {
   "cell_type": "markdown",
   "metadata": {},
   "source": [
    "## B. "
   ]
  },
  {
   "cell_type": "code",
   "execution_count": 116,
   "metadata": {},
   "outputs": [
    {
     "name": "stdout",
     "output_type": "stream",
     "text": [
      "Nodo de partida: Brest\n",
      "Nodo de llegada: Strasbourg\n",
      "Costo de:  1109 \n",
      "Ciudades visitadas antes de llegar al objetivo final: ['Toulouse', 'Dijon', 'Brest', 'Calais', 'Nancy', 'Bordeaux', 'Nantes', 'Rennes', 'Paris', 'Limoges', 'Caen']\n"
     ]
    }
   ],
   "source": [
    "result=UniformCostSearch(grafo,\"Brest\", \"Strasbourg\")"
   ]
  },
  {
   "cell_type": "markdown",
   "metadata": {},
   "source": [
    "## C. "
   ]
  },
  {
   "cell_type": "code",
   "execution_count": 117,
   "metadata": {},
   "outputs": [
    {
     "name": "stdout",
     "output_type": "stream",
     "text": [
      "Nodo de partida: Brest\n",
      "Nodo de llegada: Marseille\n",
      "Costo de:  1384 \n",
      "Ciudades visitadas antes de llegar al objetivo final: ['Toulouse', 'Avignon', 'Montpellier', 'Dijon', 'Brest', 'Calais', 'Nancy', 'Bordeaux', 'Lyon', 'Nantes', 'Rennes', 'Strasbourg', 'Grenoble', 'Paris', 'Limoges', 'Caen']\n"
     ]
    }
   ],
   "source": [
    "result=UniformCostSearch(grafo,\"Brest\", \"Marseille\")"
   ]
  }
 ],
 "metadata": {
  "kernelspec": {
   "display_name": "Python 3",
   "language": "python",
   "name": "python3"
  },
  "language_info": {
   "codemirror_mode": {
    "name": "ipython",
    "version": 3
   },
   "file_extension": ".py",
   "mimetype": "text/x-python",
   "name": "python",
   "nbconvert_exporter": "python",
   "pygments_lexer": "ipython3",
   "version": "3.8.5"
  }
 },
 "nbformat": 4,
 "nbformat_minor": 4
}
