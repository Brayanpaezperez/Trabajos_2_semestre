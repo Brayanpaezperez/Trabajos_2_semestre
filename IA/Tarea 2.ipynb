{
 "cells": [
  {
   "cell_type": "markdown",
   "id": "fiscal-syndication",
   "metadata": {
    "id": "rsPgJrpjYyeB"
   },
   "source": [
    "# **Taller 2 - Representación**\n",
    "\n",
    "## **Inteligencia Artificial**\n",
    "\n",
    "### **Maestría en Analítica de Datos**\n",
    "\n",
    "**Facultad de Ingeniería y Ciencias Básicas.**\n",
    "\n",
    "**Universidad Central**\n",
    "\n",
    "> **Integrantes:**\n",
    "\n",
    ">>***1. Brayan Holman Paez Perez***\n",
    "\n",
    ">>***2. Michel Esteven Céspedes Medina***\n",
    "\n",
    "\n",
    "> **Profesor:**\n",
    "\n",
    ">>***Hugo Franco***\n",
    "\n"
   ]
  },
  {
   "cell_type": "markdown",
   "id": "arctic-hardwood",
   "metadata": {},
   "source": [
    "## **1. Modifique la clas de árbol vista en el curso para que represente árboles de órden arbitrario.**"
   ]
  },
  {
   "cell_type": "markdown",
   "id": "stable-wilderness",
   "metadata": {},
   "source": [
    "### a) Agregue la funcionalidad necesaria a la clase de árbol para que el contenido del nodo sea especificado por el usuario."
   ]
  },
  {
   "cell_type": "markdown",
   "id": "driven-presence",
   "metadata": {},
   "source": [
    "### b) Agregue a la nueva clase de árbol las funciones de insertar y eliminar nodos hijos de un nodo especificado según su contenido."
   ]
  },
  {
   "cell_type": "markdown",
   "id": "acquired-arrow",
   "metadata": {},
   "source": [
    "### c) Implemente las funciones de recorrido en anchura y profundidad para la nueva clase."
   ]
  },
  {
   "cell_type": "markdown",
   "id": "tamil-lightning",
   "metadata": {},
   "source": [
    "### d) Aplique las funciones de recorrido sobre dos ejemplos diferentes."
   ]
  },
  {
   "cell_type": "code",
   "execution_count": 1,
   "id": "surgical-china",
   "metadata": {},
   "outputs": [],
   "source": [
    "# Definición de la clase Tree (Árbol)\n",
    "\n",
    "class Nodo:\n",
    "    def __init__(self, valor):\n",
    "        self.valor = valor\n",
    "        self.hijos = []\n",
    "        self.padre = None\n",
    "    \n",
    "    def nivel(self):\n",
    "        nivel = 0\n",
    "        p = self.padre\n",
    "        while p:\n",
    "            nivel += 1\n",
    "            p = p.padre\n",
    "        return nivel\n",
    "        \n",
    "    def agregar_hijo(self,hijo_nuevo): # Agrega Arboles\n",
    "        hijo_nuevo.padre = self\n",
    "        self.hijos.append(hijo_nuevo)\n",
    "        \n",
    "    \n",
    "    def eliminar_hijo(self,hijo_eliminado): # Elimina arboles\n",
    "        hijo_eliminado.padre = self\n",
    "        self.hijos.remove(hijo_eliminado)\n",
    "        \n",
    "    def agregar_valor(self,valor_nuevo):  #Agregar un hijo a un nodo en especifico\n",
    "        v = Nodo(valor_nuevo)\n",
    "        v.padre = self\n",
    "        self.hijos.append(v)\n",
    "        \n",
    "    def eliminar_valor(self,eliminar_valor):\n",
    "        if len(self.hijos)==0:\n",
    "            return None\n",
    "        else:\n",
    "            l = []\n",
    "            for i in range(len(self.hijos)):\n",
    "                if self.hijos[i].valor==eliminar_valor:\n",
    "                    l.append(self.hijos[i])\n",
    "            for j in l:\n",
    "                self.hijos.remove(j)\n",
    "\n",
    "\n",
    "\n",
    "    def obtener_hijos(self):\n",
    "        x = self.hijos\n",
    "        h=[]\n",
    "        if len(x)==0:\n",
    "            print('No tiene hijos')\n",
    "        else:\n",
    "            for i in range(len(x)):\n",
    "                print(x[i].valor)\n",
    "                h.append(x[i].valor)\n"
   ]
  },
  {
   "cell_type": "code",
   "execution_count": 2,
   "id": "controversial-publicity",
   "metadata": {},
   "outputs": [],
   "source": [
    "a =Nodo(1)\n",
    "a.agregar_valor(2)"
   ]
  },
  {
   "cell_type": "code",
   "execution_count": 3,
   "id": "available-deviation",
   "metadata": {},
   "outputs": [
    {
     "data": {
      "text/plain": [
       "1"
      ]
     },
     "execution_count": 3,
     "metadata": {},
     "output_type": "execute_result"
    }
   ],
   "source": [
    "a.hijos[0].padre.valor"
   ]
  },
  {
   "cell_type": "code",
   "execution_count": 5,
   "id": "occasional-brooks",
   "metadata": {},
   "outputs": [],
   "source": [
    "ar = Nodo('A')\n",
    "\n",
    "h1 = Nodo('D')\n",
    "h2 = Nodo('F')\n",
    "h3 = Nodo('G')\n",
    "\n",
    "h11 = Nodo('H')\n",
    "h12 = Nodo('C')\n",
    "h21 = Nodo('C')\n",
    "h22 = Nodo('E')\n",
    "\n",
    "h111 = Nodo('B')\n",
    "h121 = Nodo('K')\n",
    "h211 = Nodo('K')\n",
    "h221 = Nodo('Z')\n",
    "h222 = Nodo('W')\n",
    "\n",
    "ar.agregar_hijo(h1)\n",
    "ar.agregar_hijo(h2)\n",
    "ar.agregar_hijo(h3)\n",
    "\n",
    "h1.agregar_hijo(h11)\n",
    "h1.agregar_hijo(h12)\n",
    "h2.agregar_hijo(h21)\n",
    "h2.agregar_hijo(h22)\n",
    "\n",
    "h11.agregar_hijo(h111)\n",
    "h12.agregar_hijo(h121)\n",
    "h21.agregar_hijo(h211)\n",
    "h22.agregar_hijo(h221)\n",
    "h22.agregar_hijo(h222)\n",
    "\n"
   ]
  },
  {
   "cell_type": "code",
   "execution_count": 35,
   "id": "positive-stress",
   "metadata": {},
   "outputs": [],
   "source": [
    "def recorrido_anchura(Nodo,Buscar):\n",
    "    cola = []\n",
    "    r=[]\n",
    "    cola.append(Nodo)\n",
    "    while len(cola)!=0:\n",
    "        Nodo = cola.pop(0)\n",
    "        r.append(Nodo)\n",
    "        if Nodo.valor==Buscar:\n",
    "            return r\n",
    "        \n",
    "        for h in Nodo.hijos:\n",
    "            cola.append(h)\n",
    "    \n",
    "    return 'Syntax Error'"
   ]
  },
  {
   "cell_type": "code",
   "execution_count": 36,
   "id": "binary-organic",
   "metadata": {},
   "outputs": [
    {
     "name": "stdout",
     "output_type": "stream",
     "text": [
      "A\n",
      "D\n",
      "F\n",
      "G\n",
      "H\n",
      "C\n"
     ]
    }
   ],
   "source": [
    "r =recorrido_anchura(ar, 'C')\n",
    "\n",
    "for i in r:\n",
    "    print(i.valor)"
   ]
  },
  {
   "cell_type": "code",
   "execution_count": 27,
   "id": "consolidated-connection",
   "metadata": {},
   "outputs": [],
   "source": [
    "l = []\n",
    "p=0\n",
    "def recorrido(Nodo):\n",
    "    if Nodo == None:\n",
    "        return 'Ingrese algo mejor'\n",
    "    else:\n",
    "        l.append(Nodo.valor)\n",
    "        p+=1\n",
    "        for i in Nodo.hijos:\n",
    "            recorrido(i)"
   ]
  },
  {
   "cell_type": "code",
   "execution_count": 37,
   "id": "dried-password",
   "metadata": {},
   "outputs": [],
   "source": [
    "def recorrido_profundidad(Nodo,Buscar):\n",
    "    pila = []\n",
    "    r=[]\n",
    "    pila.append(Nodo)\n",
    "    while len(pila)!=0:\n",
    "        Nodo = pila.pop()\n",
    "        r.append(Nodo)\n",
    "        if Nodo.valor==Buscar:\n",
    "            return r\n",
    "        \n",
    "        for h in Nodo.hijos:\n",
    "            cola.append(h)\n",
    "    \n",
    "    return 'Syntax Error'"
   ]
  },
  {
   "cell_type": "code",
   "execution_count": 38,
   "id": "geological-envelope",
   "metadata": {},
   "outputs": [
    {
     "data": {
      "text/plain": [
       "[<__main__.Nodo at 0x2a07fc23b88>,\n",
       " <__main__.Nodo at 0x2a07fc23d88>,\n",
       " <__main__.Nodo at 0x2a07fc23d08>]"
      ]
     },
     "execution_count": 38,
     "metadata": {},
     "output_type": "execute_result"
    }
   ],
   "source": [
    "recorrido_profundidad(ar,'F')"
   ]
  },
  {
   "cell_type": "code",
   "execution_count": 28,
   "id": "sweet-welding",
   "metadata": {},
   "outputs": [],
   "source": [
    "recorrido(ar)"
   ]
  },
  {
   "cell_type": "code",
   "execution_count": 29,
   "id": "outstanding-seventh",
   "metadata": {},
   "outputs": [
    {
     "data": {
      "text/plain": [
       "['A', 'D', 'H', 'B', 'C', 'K', 'F', 'C', 'K', 'E', 'Z', 'W', 'G']"
      ]
     },
     "execution_count": 29,
     "metadata": {},
     "output_type": "execute_result"
    }
   ],
   "source": [
    "l"
   ]
  },
  {
   "cell_type": "markdown",
   "id": "considerable-label",
   "metadata": {},
   "source": [
    "## 2. Modifique la clase de grafo vista en clase para:"
   ]
  },
  {
   "cell_type": "markdown",
   "id": "common-elizabeth",
   "metadata": {},
   "source": [
    "### a) Recibir como daato del nodo un contenido arbitrario "
   ]
  },
  {
   "cell_type": "markdown",
   "id": "obvious-shore",
   "metadata": {},
   "source": [
    "### b) Implementar el cálculo del árbol de expansión mínimo mediante los algoritmos de *Kruskal* y *Prim* sobre la clase de grafo definida"
   ]
  },
  {
   "cell_type": "markdown",
   "id": "hidden-front",
   "metadata": {},
   "source": [
    "### c) Recibir como parámetro del constructor de inicialización una lista de adyacencias en vez de una matriz de adyacencias."
   ]
  },
  {
   "cell_type": "markdown",
   "id": "public-pacific",
   "metadata": {},
   "source": [
    "### d) Usando lista de adyacencias, aplicar el algoritmo de Dijkstra implementado sobre la clase de grafo modificada para hallar las mínimas distancias por vía férrea desde Barcelona a todas las ciudades de España según el ejemplo visto en clase:\n"
   ]
  },
  {
   "cell_type": "code",
   "execution_count": 5,
   "id": "nervous-delight",
   "metadata": {},
   "outputs": [],
   "source": [
    "class Grafo:\n",
    "    def __init__(self,valor=None):\n",
    "        if valor is None:\n",
    "            self.valor=[]\n",
    "        else:\n",
    "            self.valor=valor\n",
    "    \n",
    "    def Obtener_Nodos(self):\n",
    "        return list(self.valor.keys())\n",
    "    \n",
    "    def adyacencia(self):\n",
    "        adyacencias=[]\n",
    "        for node in self.valor:\n",
    "            for next_node in self.valor[node]:\n",
    "                if {node,next_node} not in adyacencias:\n",
    "                    adyacencias.append({node, next_node})\n",
    "        return adyacencias"
   ]
  },
  {
   "cell_type": "code",
   "execution_count": 7,
   "id": "involved-alabama",
   "metadata": {},
   "outputs": [
    {
     "name": "stdout",
     "output_type": "stream",
     "text": [
      "['A', 'B', 'C', 'D', 'E']\n",
      "[{'A', 'B'}, {'A', 'C'}, {'A'}, {'D', 'B'}, {'D', 'C'}, {'E', 'D'}]\n"
     ]
    }
   ],
   "source": [
    "datos_grafo = {\"A\" : [\"B\",\"C\",\"A\"], \n",
    "         \"B\" : [\"A\", \"D\"], \n",
    "         \"C\" : [\"A\", \"D\"], \n",
    "         \"D\" : [\"E\", \"B\",\"C\"],\n",
    "         \"E\" : [\"D\"]}\n",
    "\n",
    "g=Grafo(datos_grafo)\n",
    "\n",
    "print(g.Obtener_Nodos())\n",
    "\n",
    "print (g.adyacencia())"
   ]
  },
  {
   "cell_type": "code",
   "execution_count": 10,
   "id": "promising-township",
   "metadata": {},
   "outputs": [
    {
     "ename": "TypeError",
     "evalue": "'set' object is not subscriptable",
     "output_type": "error",
     "traceback": [
      "\u001b[1;31m---------------------------------------------------------------------------\u001b[0m",
      "\u001b[1;31mTypeError\u001b[0m                                 Traceback (most recent call last)",
      "\u001b[1;32m<ipython-input-10-520dff96cf10>\u001b[0m in \u001b[0;36m<module>\u001b[1;34m\u001b[0m\n\u001b[1;32m----> 1\u001b[1;33m \u001b[0mg\u001b[0m\u001b[1;33m.\u001b[0m\u001b[0madyacencia\u001b[0m\u001b[1;33m(\u001b[0m\u001b[1;33m)\u001b[0m\u001b[1;33m[\u001b[0m\u001b[1;36m0\u001b[0m\u001b[1;33m]\u001b[0m\u001b[1;33m[\u001b[0m\u001b[1;36m0\u001b[0m\u001b[1;33m]\u001b[0m\u001b[1;33m\u001b[0m\u001b[1;33m\u001b[0m\u001b[0m\n\u001b[0m",
      "\u001b[1;31mTypeError\u001b[0m: 'set' object is not subscriptable"
     ]
    }
   ],
   "source": [
    "g.adyacencia()[0][0]"
   ]
  },
  {
   "cell_type": "code",
   "execution_count": null,
   "id": "built-manchester",
   "metadata": {},
   "outputs": [],
   "source": [
    "def quitar_bucle(grafo):\n",
    "    "
   ]
  }
 ],
 "metadata": {
  "kernelspec": {
   "display_name": "Python 3",
   "language": "python",
   "name": "python3"
  },
  "language_info": {
   "codemirror_mode": {
    "name": "ipython",
    "version": 3
   },
   "file_extension": ".py",
   "mimetype": "text/x-python",
   "name": "python",
   "nbconvert_exporter": "python",
   "pygments_lexer": "ipython3",
   "version": "3.7.9"
  }
 },
 "nbformat": 4,
 "nbformat_minor": 5
}
