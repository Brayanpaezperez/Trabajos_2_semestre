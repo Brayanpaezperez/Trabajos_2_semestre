{
 "cells": [
  {
   "cell_type": "markdown",
   "metadata": {
    "id": "rsPgJrpjYyeB"
   },
   "source": [
    "# **Taller 2 - Representación**\n",
    "\n",
    "## **Inteligencia Artificial**\n",
    "\n",
    "### **Maestría en Analítica de Datos**\n",
    "\n",
    "**Facultad de Ingeniería y Ciencias Básicas.**\n",
    "\n",
    "**Universidad Central**\n",
    "\n",
    "> **Integrantes:**\n",
    "\n",
    ">>***1. Brayan Holman Paez Perez***\n",
    "\n",
    ">>***2. Michel Esteven Céspedes Medina***\n",
    "\n",
    "\n",
    "> **Profesor:**\n",
    "\n",
    ">>***Hugo Franco***\n",
    "\n"
   ]
  },
  {
   "cell_type": "markdown",
   "metadata": {},
   "source": [
    "## **1. Modifique la clas de árbol vista en el curso para que represente árboles de órden arbitrario.**"
   ]
  },
  {
   "cell_type": "markdown",
   "metadata": {},
   "source": [
    "### a) Agregue la funcionalidad necesaria a la clase de árbol para que el contenido del nodo sea especificado por el usuario."
   ]
  },
  {
   "cell_type": "markdown",
   "metadata": {},
   "source": [
    "### b) Agregue a la nueva clase de árbol las funciones de insertar y eliminar nodos hijos de un nodo especificado según su contenido."
   ]
  },
  {
   "cell_type": "markdown",
   "metadata": {},
   "source": [
    "### c) Implemente las funciones de recorrido en anchura y profundidad para la nueva clase."
   ]
  },
  {
   "cell_type": "markdown",
   "metadata": {},
   "source": [
    "### d) Aplique las funciones de recorrido sobre dos ejemplos diferentes."
   ]
  },
  {
   "cell_type": "code",
   "execution_count": 1,
   "metadata": {},
   "outputs": [],
   "source": [
    "# Definición de la clase Tree (Árbol)\n",
    "\n",
    "class Nodo:\n",
    "    def __init__(self, valor):\n",
    "        self.valor = valor\n",
    "        self.hijos = []\n",
    "        self.padre = None\n",
    "    \n",
    "    def nivel(self):\n",
    "        nivel = 0\n",
    "        p = self.padre\n",
    "        while p:\n",
    "            nivel += 1\n",
    "            p = p.padre\n",
    "        return nivel\n",
    "        \n",
    "    def agregar_hijo(self,hijo_nuevo): # Agrega Arboles\n",
    "        hijo_nuevo.padre = self\n",
    "        self.hijos.append(hijo_nuevo)\n",
    "        \n",
    "    \n",
    "    def eliminar_hijo(self,hijo_eliminado): # Elimina arboles\n",
    "        hijo_eliminado.padre = self\n",
    "        self.hijos.remove(hijo_eliminado)\n",
    "        \n",
    "    def agregar_valor(self,valor_nuevo):  #Agregar un hijo a un nodo en especifico\n",
    "        v = Nodo(valor_nuevo)\n",
    "        v.padre = self\n",
    "        self.hijos.append(v)\n",
    "        \n",
    "    def eliminar_valor(self,eliminar_valor):\n",
    "        if len(self.hijos)==0:\n",
    "            return None\n",
    "        else:\n",
    "            l = []\n",
    "            for i in range(len(self.hijos)):\n",
    "                if self.hijos[i].valor==eliminar_valor:\n",
    "                    l.append(self.hijos[i])\n",
    "            for j in l:\n",
    "                self.hijos.remove(j)\n",
    "                \n",
    "    def recorrido_anchura(self,Buscar):\n",
    "        cola = []\n",
    "        r=[]\n",
    "        rr=[]\n",
    "        cola.append(self)\n",
    "        while len(cola)!=0:\n",
    "            Nodo = cola.pop(0)\n",
    "            r.append(Nodo)\n",
    "            if Nodo.valor==Buscar:\n",
    "                for i in r:\n",
    "                    rr.append(i.valor)\n",
    "                return rr\n",
    "        \n",
    "            for h in Nodo.hijos:\n",
    "                cola.append(h)\n",
    "    \n",
    "        return 'Syntax Error'\n",
    "\n",
    "    def recorrido_profundidad(self,Buscar):\n",
    "        pila = []\n",
    "        r=[]\n",
    "        rr=[]\n",
    "        pila.append(self)\n",
    "        while len(pila)!=0:\n",
    "            Nodo = pila.pop()\n",
    "            r.append(Nodo)\n",
    "            if Nodo.valor==Buscar:\n",
    "                for i in r:\n",
    "                    rr.append(i.valor)\n",
    "                return rr\n",
    "        \n",
    "            for h in Nodo.hijos:\n",
    "                pila.append(h)\n",
    "    \n",
    "        return 'Syntax Error'\n",
    "\n",
    "\n",
    "\n",
    "    def obtener_hijos(self):\n",
    "        x = self.hijos\n",
    "        h=[]\n",
    "        if len(x)==0:\n",
    "            print('No tiene hijos')\n",
    "        else:\n",
    "            for i in range(len(x)):\n",
    "                print(x[i].valor)\n",
    "                h.append(x[i].valor)\n"
   ]
  },
  {
   "cell_type": "markdown",
   "metadata": {},
   "source": [
    "### Primer Ejemplo"
   ]
  },
  {
   "cell_type": "code",
   "execution_count": 2,
   "metadata": {},
   "outputs": [],
   "source": [
    "ar = Nodo('A')\n",
    "\n",
    "h1 = Nodo('D')\n",
    "h2 = Nodo('F')\n",
    "h3 = Nodo('G')\n",
    "\n",
    "h11 = Nodo('H')\n",
    "h12 = Nodo('C')\n",
    "h21 = Nodo('C')\n",
    "h22 = Nodo('E')\n",
    "\n",
    "h111 = Nodo('B')\n",
    "h121 = Nodo('K')\n",
    "h211 = Nodo('K')\n",
    "h221 = Nodo('Z')\n",
    "h222 = Nodo('W')\n",
    "\n",
    "ar.agregar_hijo(h1)\n",
    "ar.agregar_hijo(h2)\n",
    "ar.agregar_hijo(h3)\n",
    "\n",
    "h1.agregar_hijo(h11)\n",
    "h1.agregar_hijo(h12)\n",
    "h2.agregar_hijo(h21)\n",
    "h2.agregar_hijo(h22)\n",
    "\n",
    "h11.agregar_hijo(h111)\n",
    "h12.agregar_hijo(h121)\n",
    "h21.agregar_hijo(h211)\n",
    "h22.agregar_hijo(h221)\n",
    "h22.agregar_hijo(h222)"
   ]
  },
  {
   "cell_type": "code",
   "execution_count": 8,
   "metadata": {},
   "outputs": [
    {
     "data": {
      "text/plain": [
       "['A', 'G', 'F', 'E', 'W', 'Z', 'C', 'K', 'D', 'C', 'K', 'H', 'B']"
      ]
     },
     "execution_count": 8,
     "metadata": {},
     "output_type": "execute_result"
    }
   ],
   "source": [
    "ar.recorrido_profundidad('B')"
   ]
  },
  {
   "cell_type": "code",
   "execution_count": 4,
   "metadata": {},
   "outputs": [
    {
     "data": {
      "text/plain": [
       "['A', 'D', 'F', 'G', 'H', 'C', 'C', 'E', 'B', 'K', 'K', 'Z', 'W']"
      ]
     },
     "execution_count": 4,
     "metadata": {},
     "output_type": "execute_result"
    }
   ],
   "source": [
    "ar.recorrido_anchura('W')"
   ]
  },
  {
   "cell_type": "markdown",
   "metadata": {},
   "source": [
    "### Segundo Ejemplo"
   ]
  },
  {
   "cell_type": "code",
   "execution_count": 10,
   "metadata": {},
   "outputs": [],
   "source": [
    "raiz= Nodo(1)\n",
    "\n",
    "hoja1 = Nodo(2)\n",
    "hoja2 = Nodo(3)\n",
    "hoja3 = Nodo(4)\n",
    "\n",
    "hoja11 = Nodo(5)\n",
    "hoja21 = Nodo(6)\n",
    "hoja22 = Nodo(7)\n",
    "\n",
    "hoja111 = Nodo(8)\n",
    "hoja211 = Nodo(9)\n",
    "hoja221 = Nodo(10)\n",
    "\n",
    "\n",
    "raiz.agregar_hijo(hoja1)\n",
    "raiz.agregar_hijo(hoja2)\n",
    "raiz.agregar_hijo(hoja3)\n",
    "\n",
    "hoja1.agregar_hijo(hoja11)\n",
    "hoja2.agregar_hijo(hoja21)\n",
    "hoja2.agregar_hijo(hoja22)\n",
    "\n",
    "hoja11.agregar_hijo(hoja111)\n",
    "hoja21.agregar_hijo(hoja211)\n",
    "hoja22.agregar_hijo(hoja221)\n"
   ]
  },
  {
   "cell_type": "code",
   "execution_count": 11,
   "metadata": {},
   "outputs": [
    {
     "data": {
      "text/plain": [
       "[1, 2, 3, 4, 5, 6, 7, 8, 9]"
      ]
     },
     "execution_count": 11,
     "metadata": {},
     "output_type": "execute_result"
    }
   ],
   "source": [
    "raiz.recorrido_anchura(9)"
   ]
  },
  {
   "cell_type": "code",
   "execution_count": 12,
   "metadata": {},
   "outputs": [
    {
     "data": {
      "text/plain": [
       "[1, 4, 3, 7, 10, 6, 9]"
      ]
     },
     "execution_count": 12,
     "metadata": {},
     "output_type": "execute_result"
    }
   ],
   "source": [
    "raiz.recorrido_profundidad(9)"
   ]
  },
  {
   "cell_type": "markdown",
   "metadata": {},
   "source": [
    "## 2. Modifique la clase de grafo vista en clase para:"
   ]
  },
  {
   "cell_type": "markdown",
   "metadata": {},
   "source": [
    "### a) Recibir como daato del nodo un contenido arbitrario "
   ]
  },
  {
   "cell_type": "code",
   "execution_count": 15,
   "metadata": {},
   "outputs": [],
   "source": [
    "grafo = {\n",
    "        'Vertices': ['a','b','c','d','s','t'],\n",
    "        'Adyacencia': [(6, 'a', 'b'),\n",
    "              (9, 'a', 'b'),\n",
    "              (7, 's', 'a'),\n",
    "              (8, 's', 'c'),\n",
    "              (1, 'c', 'c'),\n",
    "              (3, 'a', 'c'),\n",
    "              (4, 'b', 'c'),\n",
    "              (3, 'c', 'd'),\n",
    "              (2, 'b', 'd'),\n",
    "              (5, 'b', 't'),\n",
    "              (2, 'd', 't')\n",
    "              \n",
    "            ]\n",
    "        }"
   ]
  },
  {
   "cell_type": "markdown",
   "metadata": {},
   "source": [
    "### b) Implementar el cálculo del árbol de expansión mínimo mediante los algoritmos de *Kruskal* y *Prim* sobre la clase de grafo definida"
   ]
  },
  {
   "cell_type": "code",
   "execution_count": 21,
   "metadata": {},
   "outputs": [
    {
     "name": "stdout",
     "output_type": "stream",
     "text": [
      "==============================\n",
      "Datos Ordenados\n",
      "==============================\n",
      "Ordenados: [('c', 'c', 1), ('b', 'd', 2), ('d', 't', 2), ('a', 'c', 3), ('c', 'd', 3), ('b', 'c', 4), ('b', 't', 5), ('a', 'b', 6), ('s', 'a', 7), ('s', 'c', 8), ('a', 'b', 9)]\n",
      "==============================\n",
      "Paso: 0\n",
      "==============================\n",
      "Resultante:  [('b', 'd', 2)]\n",
      "==============================\n",
      "Paso: 1\n",
      "==============================\n",
      "Resultante:  [('b', 'd', 2), ('d', 't', 2)]\n",
      "==============================\n",
      "Paso: 2\n",
      "==============================\n",
      "Resultante:  [('b', 'd', 2), ('d', 't', 2), ('a', 'c', 3)]\n",
      "==============================\n",
      "Paso: 3\n",
      "==============================\n",
      "Resultante:  [('b', 'd', 2), ('d', 't', 2), ('a', 'c', 3), ('c', 'd', 3)]\n",
      "==============================\n",
      "Paso: 4\n",
      "==============================\n",
      "Resultante:  [('b', 'd', 2), ('d', 't', 2), ('a', 'c', 3), ('c', 'd', 3), ('s', 'a', 7)]\n",
      "\n",
      "=========Resultados=========\n",
      "Arbol de expansion minima:\n",
      "d\n",
      "[('b', 2), ('t', 2), ('c', 3)]\n",
      "b\n",
      "[('d', 2)]\n",
      "t\n",
      "[('d', 2)]\n",
      "c\n",
      "[('a', 3), ('d', 3)]\n",
      "a\n",
      "[('c', 3), ('s', 7)]\n",
      "s\n",
      "[('a', 7)]\n",
      "==============================\n"
     ]
    }
   ],
   "source": [
    "##### Kruskal\n",
    "\n",
    "\n",
    "Nodo = dict()\n",
    "resultado = {}\n",
    "conjuntos = []\n",
    "\n",
    "def Make_set(vertice):\n",
    "    Nodo[vertice] = vertice\n",
    "\n",
    "def Find_set(vertice):\n",
    "    if Nodo[vertice] != vertice:\n",
    "        Nodo[vertice] = Find_set(Nodo[vertice])\n",
    "    return Nodo[vertice]\n",
    "\n",
    "def Union(u, v, Ordenada):\n",
    "    Dato1 = Find_set(u)\n",
    "    Dato2 = Find_set(v)\n",
    "    if Dato1 != Dato2:\n",
    "        for Dato in Ordenada:\n",
    "            Nodo[Dato1] = Dato2\n",
    "\n",
    "def Kruskal(grafo):\n",
    "    resultante = []\n",
    "    cont = 0\n",
    "    for vertice in grafo['Vertices']:\n",
    "        Make_set(vertice)\n",
    "\n",
    "    Ordenada = list(grafo['Adyacencia'])\n",
    "    Ordenada.sort()\n",
    "    Ordenada = [(a,b,c) for c,a,b in Ordenada]\n",
    "    print (\"==============================\")\n",
    "    print (\"Datos Ordenados\")\n",
    "    print (\"==============================\")\n",
    "    print( \"Ordenados:\",Ordenada)\n",
    "    Ordenada = [(c,a,b) for a,b,c in Ordenada]\n",
    "    for Dato in Ordenada:\n",
    "        peso, u, v = Dato\n",
    "        if Find_set(u) != Find_set(v):\n",
    "            resultante.append(Dato)\n",
    "            print (\"==============================\")\n",
    "            print (\"Paso:\",cont)\n",
    "            print (\"==============================\")\n",
    "            resultante = [(a,b,c) for c,a,b in resultante]\n",
    "            print (\"Resultante: \",resultante)\n",
    "            resultante = [(c,a,b) for a,b,c in resultante]\n",
    "            cont+=1\n",
    "            Union(u, v, Ordenada)\n",
    "\n",
    "    return resultante\n",
    "\n",
    "\n",
    "resultante = Kruskal(grafo)\n",
    "resultante\n",
    "resultante = [(a,b,c) for c,a,b in resultante]\n",
    "for origen,destino,peso in resultante:\n",
    "    if origen in resultado:\n",
    "        if destino in resultado:\n",
    "            lista = resultado[origen]\n",
    "            resultado[origen] = lista+[(destino,peso)]\n",
    "            lista = resultado[destino]\n",
    "            lista.append((origen,peso))\n",
    "            resultado[destino] = lista\n",
    "        else:\n",
    "            resultado[destino] = [(origen,peso)]\n",
    "            lista = resultado[origen]\n",
    "            lista.append((destino,peso))\n",
    "            resultado[origen] = lista\n",
    "    elif destino in resultado:\n",
    "        resultado[origen] = [(destino,peso)]\n",
    "        lista = resultado[destino]\n",
    "        lista.append((origen,peso))\n",
    "        resultado[destino] = lista\n",
    "    else:\n",
    "         resultado[destino] = [(origen,peso)]\n",
    "         resultado[origen] = [(destino,peso)]\n",
    "print (\"\\n=========Resultados=========\")\n",
    "print (\"Arbol de expansion minima:\")\n",
    "for key, lista in resultado.items():\n",
    "    print (key)\n",
    "    print (lista)\n",
    "print( \"==============================\")\n"
   ]
  },
  {
   "cell_type": "markdown",
   "metadata": {},
   "source": [
    "### c) Recibir como parámetro del constructor de inicialización una lista de adyacencias en vez de una matriz de adyacencias."
   ]
  },
  {
   "cell_type": "markdown",
   "metadata": {},
   "source": [
    "### d) Usando lista de adyacencias, aplicar el algoritmo de Dijkstra implementado sobre la clase de grafo modificada para hallar las mínimas distancias por vía férrea desde Barcelona a todas las ciudades de España según el ejemplo visto en clase:\n"
   ]
  }
 ],
 "metadata": {
  "kernelspec": {
   "display_name": "Python 3",
   "language": "python",
   "name": "python3"
  },
  "language_info": {
   "codemirror_mode": {
    "name": "ipython",
    "version": 3
   },
   "file_extension": ".py",
   "mimetype": "text/x-python",
   "name": "python",
   "nbconvert_exporter": "python",
   "pygments_lexer": "ipython3",
   "version": "3.8.5"
  }
 },
 "nbformat": 4,
 "nbformat_minor": 5
}
