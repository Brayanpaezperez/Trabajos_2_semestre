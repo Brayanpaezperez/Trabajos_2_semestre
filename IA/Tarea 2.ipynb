{
 "cells": [
  {
   "cell_type": "markdown",
   "id": "fiscal-syndication",
   "metadata": {
    "id": "rsPgJrpjYyeB"
   },
   "source": [
    "# **Taller 2 - Representación**\n",
    "\n",
    "## **Inteligencia Artificial**\n",
    "\n",
    "### **Maestría en Analítica de Datos**\n",
    "\n",
    "**Facultad de Ingeniería y Ciencias Básicas.**\n",
    "\n",
    "**Universidad Central**\n",
    "\n",
    "> **Integrantes:**\n",
    "\n",
    ">>***1. Brayan Holman Paez Perez***\n",
    "\n",
    ">>***2. Michel Esteven Céspedes Medina***\n",
    "\n",
    "\n",
    "> **Profesor:**\n",
    "\n",
    ">>***Hugo Franco***\n",
    "\n"
   ]
  },
  {
   "cell_type": "markdown",
   "id": "arctic-hardwood",
   "metadata": {},
   "source": [
    "## **1. Modifique la clas de árbol vista en el curso para que represente árboles de órden arbitrario.**"
   ]
  },
  {
   "cell_type": "markdown",
   "id": "stable-wilderness",
   "metadata": {},
   "source": [
    "### a) Agregue la funcionalidad necesaria a la clase de árbol para que el contenido del nodo sea especificado por el usuario."
   ]
  },
  {
   "cell_type": "markdown",
   "id": "driven-presence",
   "metadata": {},
   "source": [
    "### b) Agregue a la nueva clase de árbol las funciones de insertar y eliminar nodos hijos de un nodo especificado según su contenido."
   ]
  },
  {
   "cell_type": "markdown",
   "id": "acquired-arrow",
   "metadata": {},
   "source": [
    "### c) Implemente las funciones de recorrido en anchura y profundidad para la nueva clase."
   ]
  },
  {
   "cell_type": "code",
   "execution_count": 1,
   "id": "surgical-china",
   "metadata": {},
   "outputs": [],
   "source": [
    "# Definición de la clase Tree (Árbol)\n",
    "\n",
    "class Nodos:\n",
    "    def __init__(self, valor):\n",
    "        self.valor = valor\n",
    "        self.hijos = []\n",
    "        self.padre = None\n",
    "        \n",
    "    def agregar_hijo(self,hijo_nuevo): # Agrega Arboles\n",
    "        hijo_nuevo.padre = self\n",
    "        self.hijos.append(hijo_nuevo)\n",
    "        \n",
    "    \n",
    "    def eliminar_hijo(self,hijo_eliminado): # Elimina arboles\n",
    "        hijo_eliminado.padre = self\n",
    "        self.hijos.remove(hijo_eliminado)\n",
    "        \n",
    "    def agregar_valor(self,valor_nuevo):  #Agregar un hijo a un nodo en especifico\n",
    "        v = Nodos(valor_nuevo)\n",
    "        v.padre = self\n",
    "        self.hijos.append(v)\n",
    "        \n",
    "    def eliminar_valor(self,eliminar_valor):\n",
    "        if len(self.hijos)==0:\n",
    "            return None\n",
    "        else:\n",
    "            l = []\n",
    "            for i in range(len(self.hijos)):\n",
    "                if self.hijos[i].valor==eliminar_valor:\n",
    "                    l.append(self.hijos[i])\n",
    "            for j in l:\n",
    "                self.hijos.remove(j)\n",
    "\n",
    "                    \n",
    "                \n",
    "            \n",
    "\n",
    "\n",
    "    def obtener_hijos(self):\n",
    "        x = self.hijos\n",
    "        if len(x)==0:\n",
    "            print('No tiene hijos')\n",
    "        else:\n",
    "            for i in range(len(x)):\n",
    "                print(x[i].valor)\n"
   ]
  },
  {
   "cell_type": "code",
   "execution_count": 2,
   "id": "editorial-referral",
   "metadata": {},
   "outputs": [],
   "source": [
    "a =Nodos('a')\n",
    "b=Nodos('b')\n",
    "c= Nodos(4)\n",
    "d= Nodos(4)\n",
    "a.agregar_hijo(b)\n",
    "a.agregar_hijo(c)\n",
    "b.agregar_hijo(d)"
   ]
  },
  {
   "cell_type": "code",
   "execution_count": 3,
   "id": "hindu-accounting",
   "metadata": {},
   "outputs": [
    {
     "data": {
      "text/plain": [
       "True"
      ]
     },
     "execution_count": 3,
     "metadata": {},
     "output_type": "execute_result"
    }
   ],
   "source": [
    "c==c"
   ]
  },
  {
   "cell_type": "code",
   "execution_count": 9,
   "id": "outstanding-nashville",
   "metadata": {},
   "outputs": [],
   "source": [
    "a.agregar_valor('b')\n",
    "a.agregar_valor('a')\n",
    "a.agregar_valor('a')"
   ]
  },
  {
   "cell_type": "code",
   "execution_count": 10,
   "id": "compound-converter",
   "metadata": {},
   "outputs": [
    {
     "name": "stdout",
     "output_type": "stream",
     "text": [
      "b\n",
      "4\n",
      "b\n",
      "a\n",
      "a\n"
     ]
    }
   ],
   "source": [
    "a.obtener_hijos()"
   ]
  },
  {
   "cell_type": "code",
   "execution_count": 15,
   "id": "experimental-invite",
   "metadata": {},
   "outputs": [],
   "source": [
    "a.eliminar_valor(4)"
   ]
  },
  {
   "cell_type": "code",
   "execution_count": 7,
   "id": "spiritual-freeware",
   "metadata": {},
   "outputs": [
    {
     "data": {
      "text/plain": [
       "[<__main__.Nodos at 0x20984e9d7c8>, <__main__.Nodos at 0x20984e9d3c8>]"
      ]
     },
     "execution_count": 7,
     "metadata": {},
     "output_type": "execute_result"
    }
   ],
   "source": [
    "a.hijos"
   ]
  },
  {
   "cell_type": "code",
   "execution_count": 17,
   "id": "revolutionary-selling",
   "metadata": {},
   "outputs": [
    {
     "data": {
      "text/plain": [
       "'a'"
      ]
     },
     "execution_count": 17,
     "metadata": {},
     "output_type": "execute_result"
    }
   ],
   "source": [
    "a.valor"
   ]
  },
  {
   "cell_type": "code",
   "execution_count": 19,
   "id": "occasional-brooks",
   "metadata": {},
   "outputs": [
    {
     "name": "stdout",
     "output_type": "stream",
     "text": [
      "Segundo árbol, por niveles:\n",
      "Raiz\n"
     ]
    },
    {
     "ename": "AttributeError",
     "evalue": "'Nodos' object has no attribute 'left'",
     "output_type": "error",
     "traceback": [
      "\u001b[1;31m---------------------------------------------------------------------------\u001b[0m",
      "\u001b[1;31mAttributeError\u001b[0m                            Traceback (most recent call last)",
      "\u001b[1;32m<ipython-input-19-d8ec90636d35>\u001b[0m in \u001b[0;36m<module>\u001b[1;34m\u001b[0m\n\u001b[0;32m     22\u001b[0m \u001b[1;33m\u001b[0m\u001b[0m\n\u001b[0;32m     23\u001b[0m \u001b[0mprint\u001b[0m\u001b[1;33m(\u001b[0m\u001b[1;34m\"Segundo árbol, por niveles:\"\u001b[0m\u001b[1;33m)\u001b[0m\u001b[1;33m\u001b[0m\u001b[1;33m\u001b[0m\u001b[0m\n\u001b[1;32m---> 24\u001b[1;33m \u001b[0mlevelorder\u001b[0m\u001b[1;33m(\u001b[0m\u001b[0mtree2\u001b[0m\u001b[1;33m)\u001b[0m\u001b[1;33m\u001b[0m\u001b[1;33m\u001b[0m\u001b[0m\n\u001b[0m",
      "\u001b[1;32m<ipython-input-19-d8ec90636d35>\u001b[0m in \u001b[0;36mlevelorder\u001b[1;34m(tree)\u001b[0m\n\u001b[0;32m      8\u001b[0m         \u001b[0mprint\u001b[0m \u001b[1;33m(\u001b[0m\u001b[0mvisit_queue\u001b[0m\u001b[1;33m[\u001b[0m\u001b[1;36m0\u001b[0m\u001b[1;33m]\u001b[0m\u001b[1;33m.\u001b[0m\u001b[0mvalor\u001b[0m\u001b[1;33m)\u001b[0m\u001b[1;33m\u001b[0m\u001b[1;33m\u001b[0m\u001b[0m\n\u001b[0;32m      9\u001b[0m         \u001b[0mnode\u001b[0m\u001b[1;33m=\u001b[0m\u001b[0mvisit_queue\u001b[0m\u001b[1;33m.\u001b[0m\u001b[0mpop\u001b[0m\u001b[1;33m(\u001b[0m\u001b[1;36m0\u001b[0m\u001b[1;33m)\u001b[0m\u001b[1;33m\u001b[0m\u001b[1;33m\u001b[0m\u001b[0m\n\u001b[1;32m---> 10\u001b[1;33m         \u001b[1;32mif\u001b[0m \u001b[0mnode\u001b[0m\u001b[1;33m.\u001b[0m\u001b[0mleft\u001b[0m \u001b[1;32mis\u001b[0m \u001b[1;32mnot\u001b[0m \u001b[1;32mNone\u001b[0m\u001b[1;33m:\u001b[0m\u001b[1;33m\u001b[0m\u001b[1;33m\u001b[0m\u001b[0m\n\u001b[0m\u001b[0;32m     11\u001b[0m             \u001b[0mvisit_queue\u001b[0m\u001b[1;33m.\u001b[0m\u001b[0mappend\u001b[0m\u001b[1;33m(\u001b[0m\u001b[0mnode\u001b[0m\u001b[1;33m.\u001b[0m\u001b[0mleft\u001b[0m\u001b[1;33m)\u001b[0m\u001b[1;33m\u001b[0m\u001b[1;33m\u001b[0m\u001b[0m\n\u001b[0;32m     12\u001b[0m         \u001b[1;32mif\u001b[0m \u001b[0mnode\u001b[0m\u001b[1;33m.\u001b[0m\u001b[0mright\u001b[0m \u001b[1;32mis\u001b[0m \u001b[1;32mnot\u001b[0m \u001b[1;32mNone\u001b[0m\u001b[1;33m:\u001b[0m\u001b[1;33m\u001b[0m\u001b[1;33m\u001b[0m\u001b[0m\n",
      "\u001b[1;31mAttributeError\u001b[0m: 'Nodos' object has no attribute 'left'"
     ]
    }
   ],
   "source": [
    "def levelorder (tree):\n",
    "    if tree is None:\n",
    "        return\n",
    "    visit_queue=[]\n",
    "    visit_queue.append(tree)\n",
    " \n",
    "    while (len(visit_queue)>0):\n",
    "        print (visit_queue[0].valor)\n",
    "        node=visit_queue.pop(0) \n",
    "        if node.hijos is not None:\n",
    "            visit_queue.append(node.left)\n",
    "        if node.right is not None:\n",
    "            visit_queue.append(node.right)\n",
    "\n",
    "            \n",
    "\n",
    "tree2 =Nodos('Raiz')\n",
    "tree2.agregar_valor(1)\n",
    "tree2.agregar_valor(2)\n",
    "tree2.agregar_valor(3)\n",
    "            \n",
    "            \n",
    "print(\"Segundo árbol, por niveles:\")\n",
    "levelorder(tree2)"
   ]
  },
  {
   "cell_type": "code",
   "execution_count": null,
   "id": "positive-stress",
   "metadata": {},
   "outputs": [],
   "source": []
  },
  {
   "cell_type": "markdown",
   "id": "tamil-lightning",
   "metadata": {},
   "source": [
    "### d) Aplique las funciones de recorrido sobre dos ejemplos diferentes."
   ]
  },
  {
   "cell_type": "code",
   "execution_count": null,
   "id": "outstanding-seventh",
   "metadata": {},
   "outputs": [],
   "source": []
  },
  {
   "cell_type": "markdown",
   "id": "considerable-label",
   "metadata": {},
   "source": [
    "## 2. Modifique la clase de grafo vista en clase para:"
   ]
  },
  {
   "cell_type": "markdown",
   "id": "common-elizabeth",
   "metadata": {},
   "source": [
    "### a) Recibir como daato del nodo un contenido arbitrario "
   ]
  },
  {
   "cell_type": "markdown",
   "id": "obvious-shore",
   "metadata": {},
   "source": [
    "### b) Implementar el cálculo del árbol de expansión mínimo mediante los algoritmos de *Kruskal* y *Prim* sobre la clase de grafo definida"
   ]
  },
  {
   "cell_type": "markdown",
   "id": "hidden-front",
   "metadata": {},
   "source": [
    "### c) Recibir como parámetro del constructor de inicialización una lista de adyacencias en vez de una matriz de adyacencias."
   ]
  },
  {
   "cell_type": "markdown",
   "id": "public-pacific",
   "metadata": {},
   "source": [
    "### d) Usando lista de adyacencias, aplicar el algoritmo de Dijkstra implementado sobre la clase de grafo modificada para hallar las mínimas distancias por vía férrea desde Barcelona a todas las ciudades de España según el ejemplo visto en clase:\n"
   ]
  },
  {
   "cell_type": "code",
   "execution_count": null,
   "id": "nervous-delight",
   "metadata": {},
   "outputs": [],
   "source": []
  }
 ],
 "metadata": {
  "kernelspec": {
   "display_name": "Python 3",
   "language": "python",
   "name": "python3"
  },
  "language_info": {
   "codemirror_mode": {
    "name": "ipython",
    "version": 3
   },
   "file_extension": ".py",
   "mimetype": "text/x-python",
   "name": "python",
   "nbconvert_exporter": "python",
   "pygments_lexer": "ipython3",
   "version": "3.7.9"
  }
 },
 "nbformat": 4,
 "nbformat_minor": 5
}
