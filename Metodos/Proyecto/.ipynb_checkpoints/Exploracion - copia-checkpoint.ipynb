{
 "cells": [
  {
   "cell_type": "code",
   "execution_count": null,
   "metadata": {},
   "outputs": [],
   "source": [
    "import numpy             as np\n",
    "import pandas            as pd\n",
    "import seaborn as sns\n",
    "import matplotlib.pyplot as plt\n",
    "\n",
    "#import lux\n",
    "import prince\n",
    "from scipy import stats\n",
    "from datetime import date\n",
    "from datetime import datetime\n",
    "from datetime import timedelta\n",
    "import plotly.express as px"
   ]
  },
  {
   "cell_type": "markdown",
   "metadata": {},
   "source": [
    "### Lectura dela base de datos "
   ]
  },
  {
   "cell_type": "code",
   "execution_count": null,
   "metadata": {},
   "outputs": [],
   "source": [
    "url_carpeta='C:/Users/Bluetab/Documents/Universidad/Archivos 2doSemestre/Visualizacion/'\n",
    "url=url_carpeta+'application_record.csv'\n",
    "df = pd.read_csv(url)\n",
    "df_dash = pd.read_csv(url)\n",
    "df2= pd.read_csv(url_carpeta+'credit_record.csv')\n",
    "\n",
    "\n",
    "# url='application_record.csv'\n",
    "# df = pd.read_csv(url)\n",
    "# df2= pd.read_csv('credit_record.csv')"
   ]
  },
  {
   "cell_type": "code",
   "execution_count": null,
   "metadata": {},
   "outputs": [],
   "source": [
    "df"
   ]
  },
  {
   "cell_type": "code",
   "execution_count": null,
   "metadata": {},
   "outputs": [],
   "source": [
    "df3 = df2[df2.ID.isin(df.ID.unique())]"
   ]
  },
  {
   "cell_type": "code",
   "execution_count": null,
   "metadata": {},
   "outputs": [],
   "source": [
    "df3"
   ]
  },
  {
   "cell_type": "code",
   "execution_count": null,
   "metadata": {},
   "outputs": [],
   "source": [
    "df3.pivot('ID','MONTHS_BALANCE',values='STATUS')"
   ]
  },
  {
   "cell_type": "markdown",
   "metadata": {},
   "source": [
    "### Cambiar nombre de las columnas"
   ]
  },
  {
   "cell_type": "code",
   "execution_count": null,
   "metadata": {},
   "outputs": [],
   "source": [
    "df.columns"
   ]
  },
  {
   "cell_type": "code",
   "execution_count": null,
   "metadata": {},
   "outputs": [],
   "source": [
    "renombrar = {'CODE_GENDER': 'GENERO',\n",
    "            'FLAG_OWN_CAR': 'VEHICULO',\n",
    "            'FLAG_OWN_REALTY': 'PROPIEDADES',\n",
    "            'CNT_CHILDREN': 'CANT_HIJOS',\n",
    "            'AMT_INCOME_TOTAL': 'ING_TOTAL_ANUAL',\n",
    "            'NAME_INCOME_TYPE': 'ORIGEN_INGRESO',\n",
    "            'NAME_EDUCATION_TYPE': 'NIV_ESTUDIO',\n",
    "            'NAME_FAMILY_STATUS':  'ESTADO_CIVIL',\n",
    "            'NAME_HOUSING_TYPE': 'T_VIVIENDA',\n",
    "            'DAYS_BIRTH' : 'FECHA_NACIMIENTO',\n",
    "            'DAYS_EMPLOYED': 'EMPLEADO',\n",
    "            'FLAG_MOBIL': 'TIENE_CEL',\n",
    "            'FLAG_WORK_PHONE': 'TIENE_TEL_TRJ',\n",
    "            'FLAG_PHONE': 'TIENE_TELFIJO',\n",
    "            'FLAG_EMAIL': 'TIENE_EMAIL',\n",
    "            'OCCUPATION_TYPE':'T_OCUPACION',\n",
    "            'CNT_FAM_MEMBERS': 'CANT_FAM'\n",
    "           }\n",
    "df.columns = [renombrar.get(x, x) for x in df.columns] \n",
    "df_dash.columns = [renombrar.get(x, x) for x in df.columns] \n"
   ]
  },
  {
   "cell_type": "code",
   "execution_count": null,
   "metadata": {},
   "outputs": [],
   "source": [
    "df.head()"
   ]
  },
  {
   "cell_type": "markdown",
   "metadata": {},
   "source": [
    "### Arreglar datos."
   ]
  },
  {
   "cell_type": "code",
   "execution_count": null,
   "metadata": {},
   "outputs": [],
   "source": [
    "renombrar_ori_ingreso = {'Working': 'Trabajador',\n",
    "            'Commercial associate': 'Asociado comercial',\n",
    "            'Pensioner': 'Pensionado',\n",
    "            'State servant': 'Servidor publico',\n",
    "            'Student': 'Estudiante'\n",
    "           }\n",
    "renombrar_niv_estudio = {'Higher education': 'Educación superior',\n",
    "            'Secondary / secondary special': 'Especial secundario/secundario',\n",
    "            'Incomplete higher': 'Superior incompleto',\n",
    "            'Lower secondary': 'Secundaria inferior',\n",
    "            'Academic degree': 'Grado académico'\n",
    "           }\n",
    "renombrar_estado_civil = {'Civil marriage': 'Matrimonio civil',\n",
    "            'Married': 'Casado',\n",
    "            'Single / not married': 'Soltero',\n",
    "            'Separated': 'Separado',\n",
    "            'Widow': 'Viudo'\n",
    "           }\n",
    "renombrar_vivienda = {'Rented apartment': 'Apartamento alquilado',\n",
    "            'House / apartment': 'Casa/apartamento',\n",
    "            'Municipal apartment': 'Piso municipal',\n",
    "            'Co-op apartment': 'Apt compartido',\n",
    "            'Office apartment': 'Apartamento oficina',\n",
    "            'With parents': 'Con padres'\n",
    "           }\n",
    "renombrar_ocupacion = {'Security staff': 'Personal de seguridad',\n",
    "            'Sales staff': 'Personal de ventas',\n",
    "            'Accountants': 'Contadores',\n",
    "            'Laborers': 'Trabajadores',\n",
    "            'Managers': 'Gerentes',\n",
    "            'Drivers': 'Conductores',\n",
    "            'Core staff': 'Personal básico',\n",
    "            'High skill tech staff':  'Personal de alta tecnología de alta cualificación',\n",
    "            'Cleaning staff': 'Personal de limpieza',\n",
    "            'Private service staff' : 'Personal de servicio privado',\n",
    "            'Cooking staff': 'Personal de cocina',\n",
    "            'Low-skill Laborers': 'Trabajadores de baja cualificación',\n",
    "            'Medicine staff': 'Personal de medicina',\n",
    "            'Secretaries': 'Secretarios',\n",
    "            'Waiters/barmen staff': 'Camareros',\n",
    "            'HR staff':'Personal de recursos humanos',\n",
    "            'Realty agents': 'Agentes de bienes raíces',\n",
    "            'IT staff': 'Personal de TI'\n",
    "           }\n",
    "df.ORIGEN_INGRESO = [renombrar_ori_ingreso.get(x, x) for x in df.ORIGEN_INGRESO]\n",
    "df.NIV_ESTUDIO = [renombrar_niv_estudio.get(x, x) for x in df.NIV_ESTUDIO] \n",
    "df.ESTADO_CIVIL = [renombrar_estado_civil.get(x, x) for x in df.ESTADO_CIVIL] \n",
    "df.T_VIVIENDA = [renombrar_vivienda.get(x, x) for x in df.T_VIVIENDA] \n",
    "df.T_OCUPACION = [renombrar_ocupacion.get(x, x) for x in df.T_OCUPACION] \n",
    "\n",
    "df_dash.ORIGEN_INGRESO = [renombrar_ori_ingreso.get(x, x) for x in df.ORIGEN_INGRESO]\n",
    "df_dash.NIV_ESTUDIO = [renombrar_niv_estudio.get(x, x) for x in df.NIV_ESTUDIO] \n",
    "df_dash.ESTADO_CIVIL = [renombrar_estado_civil.get(x, x) for x in df.ESTADO_CIVIL] \n",
    "df_dash.T_VIVIENDA = [renombrar_vivienda.get(x, x) for x in df.T_VIVIENDA] \n",
    "df_dash.T_OCUPACION = [renombrar_ocupacion.get(x, x) for x in df.T_OCUPACION] "
   ]
  },
  {
   "cell_type": "code",
   "execution_count": null,
   "metadata": {},
   "outputs": [],
   "source": [
    "fecha_final = datetime(2020,1, 1)\n",
    "df.FECHA_NACIMIENTO = [fecha_final - timedelta(days=-(n)) for n in df.FECHA_NACIMIENTO]\n",
    "df_dash.FECHA_NACIMIENTO = [fecha_final - timedelta(days=-(n)) for n in df_dash.FECHA_NACIMIENTO]\n",
    "df.GENERO = [1 if n=='F' else 0 for n in df.GENERO]\n",
    "df.VEHICULO = [1 if n=='Y' else 0 for n in df.VEHICULO]\n",
    "df.PROPIEDADES = [1 if n=='Y' else 0 for n in df.PROPIEDADES]\n",
    "df.EMPLEADO = [8280 if n==365243 else n for n in df.EMPLEADO]"
   ]
  },
  {
   "cell_type": "code",
   "execution_count": null,
   "metadata": {},
   "outputs": [],
   "source": [
    "df"
   ]
  },
  {
   "cell_type": "code",
   "execution_count": null,
   "metadata": {},
   "outputs": [],
   "source": [
    "df.describe().round(2)"
   ]
  },
  {
   "cell_type": "code",
   "execution_count": null,
   "metadata": {},
   "outputs": [],
   "source": [
    "pensionados = df[df['EMPLEADO']==365243.00]['FECHA_NACIMIENTO'].unique()"
   ]
  },
  {
   "cell_type": "code",
   "execution_count": null,
   "metadata": {},
   "outputs": [],
   "source": [
    "sns.boxplot(df['EMPLEADO'])"
   ]
  },
  {
   "cell_type": "code",
   "execution_count": null,
   "metadata": {},
   "outputs": [],
   "source": []
  },
  {
   "cell_type": "code",
   "execution_count": null,
   "metadata": {},
   "outputs": [],
   "source": [
    "df.dtypes"
   ]
  },
  {
   "cell_type": "code",
   "execution_count": null,
   "metadata": {},
   "outputs": [],
   "source": [
    "## SE ELEMINA ESTA COLUMNA DEL DATAFRAME YA QUE TIENE EL MISMO VALOR EN TODAS SUS FILAS,\n",
    "## DE MANERA QUE NO REPRESANTE CARACTERIZACION ALGUNA \n",
    "del(df['TIENE_CEL'])"
   ]
  },
  {
   "cell_type": "code",
   "execution_count": null,
   "metadata": {},
   "outputs": [],
   "source": []
  },
  {
   "cell_type": "code",
   "execution_count": null,
   "metadata": {},
   "outputs": [],
   "source": [
    "df\n",
    "df1 = pd.DataFrame(data = df\n",
    "             , columns = ['GENERO','VEHICULO','PROPIEDADES', 'ORIGEN_INGRESO', 'NIV_ESTUDIO', 'ESTADO_CIVIL',\n",
    "       'T_VIVIENDA', 'T_OCUPACION'])"
   ]
  },
  {
   "cell_type": "code",
   "execution_count": null,
   "metadata": {},
   "outputs": [],
   "source": [
    "mca = prince.MCA(\n",
    "    n_components=4,\n",
    "    n_iter=3,\n",
    "    copy=True,\n",
    "    check_input=True,\n",
    "    engine='auto')\n",
    "mca = mca.fit(df1)"
   ]
  },
  {
   "cell_type": "code",
   "execution_count": null,
   "metadata": {},
   "outputs": [],
   "source": [
    "ax = mca.plot_coordinates(\n",
    "    X=df1,\n",
    "    ax=None,\n",
    "    x_component=0,\n",
    "    y_component=1,\n",
    "    figsize=(40, 40),\n",
    "    show_row_points=False,\n",
    "    show_row_labels=False,\n",
    "    show_column_points=True,\n",
    "    column_points_size=50,\n",
    "    show_column_labels=True,\n",
    "    legend_n_cols=2)"
   ]
  },
  {
   "cell_type": "code",
   "execution_count": null,
   "metadata": {},
   "outputs": [],
   "source": [
    "mca.explained_inertia_"
   ]
  },
  {
   "cell_type": "markdown",
   "metadata": {},
   "source": [
    "### Correlacion"
   ]
  },
  {
   "cell_type": "code",
   "execution_count": null,
   "metadata": {},
   "outputs": [],
   "source": [
    "#fig = px.imshow(df)\n",
    "#fig.show()"
   ]
  },
  {
   "cell_type": "code",
   "execution_count": null,
   "metadata": {},
   "outputs": [],
   "source": [
    "def correlacion_spearman(datos,anotacion,ancho=20,alto=15):\n",
    "\n",
    "    cuanti=datos.select_dtypes(np.number)\n",
    "\n",
    "    correlacion_global=datos.corr(method='spearman')\n",
    "\n",
    "\n",
    "    rho,p_value = stats.spearmanr(cuanti)\n",
    "    rho = list(p_value)\n",
    "    for i in range(len(p_value)):\n",
    "        p_value[i]= list(p_value[i])\n",
    "    p_value = pd.DataFrame(p_value)\n",
    "    Significancia = p_value < 0.05\n",
    "\n",
    "\n",
    "    mask =np.triu(correlacion_global, k=1)\n",
    "\n",
    "    sns.set(font_scale=1.7)\n",
    "    fig, scatter = plt.subplots(figsize = (ancho,alto))\n",
    "    sns.heatmap(data=correlacion_global.round(decimals=2), \n",
    "                xticklabels=correlacion_global.columns,\n",
    "                yticklabels=correlacion_global.columns,\n",
    "                cmap='RdBu_r',\n",
    "                annot=anotacion,\n",
    "                linewidth=0.5,\n",
    "                mask=mask)"
   ]
  },
  {
   "cell_type": "code",
   "execution_count": null,
   "metadata": {},
   "outputs": [],
   "source": [
    "correlacion_spearman(df,True,30,20)"
   ]
  },
  {
   "cell_type": "markdown",
   "metadata": {},
   "source": [
    "# DASH"
   ]
  },
  {
   "cell_type": "code",
   "execution_count": null,
   "metadata": {},
   "outputs": [],
   "source": [
    "dict_columns={}\n",
    "dict_columns['GENERO']='Género del cliente'\n",
    "dict_columns['VEHICULO']='Si tiene carro propio'\n",
    "dict_columns['PROPIEDADES']='Si tiene bienes raíces'\n",
    "dict_columns['CANT_HIJOS']='Número de hijos'\n",
    "dict_columns['ING_TOTAL_ANUAL']='Ingreso total anual'\n",
    "dict_columns['ORIGEN_INGRESO']='Origen de ingresos'\n",
    "dict_columns['NIV_ESTUDIO']='Nivel de estudios'\n",
    "dict_columns['ESTADO_CIVIL']='Estado civil'\n",
    "dict_columns['T_VIVIENDA']='Tipo de vivienda'\n",
    "dict_columns['EMPLEADO']='Días desde que es empleado'\n",
    "dict_columns['TIENE_CEL']='Si tiene celular'\n",
    "dict_columns['TIENE_TEL_TRJ']='Si tiene teléfono laboral'\n",
    "dict_columns['TIENE_TELFIJO']='Si tiene teléfono residencia'\n",
    "dict_columns['TIENE_EMAIL']='Si tiene correo electrónico'\n",
    "dict_columns['T_OCUPACION']='Tipo de ocupación'\n",
    "dict_columns['CANT_FAM']='Cantidad de miembros de la familia'"
   ]
  },
  {
   "cell_type": "code",
   "execution_count": null,
   "metadata": {},
   "outputs": [],
   "source": [
    "from jupyter_dash import JupyterDash\n",
    "import plotly_express as px\n",
    "import dash_core_components as dcc\n",
    "import dash_html_components as html\n",
    "from dash.dependencies import Input, Output\n",
    "from plotly import graph_objs as go\n",
    "import dash_table\n",
    "\n",
    "\n",
    "colors = {'background': '#111111',\n",
    "    'text': '#7FDBFF',\n",
    "    'rojo':'#FF1411',\n",
    "    'negro': '#111111'}\n",
    "app = JupyterDash(__name__)\n",
    "\n",
    "\n",
    "app.layout = html.Div([\n",
    "html.H1(children='Predicción de riesgo para aprobación de tarjetas de crédito',\n",
    "           style={\n",
    "            'textAlign': 'center',\n",
    "            'backgroundColor': colors['negro'],\n",
    "             'color': colors['text'], 'marginTop':20,'marginBottom': 10})\n",
    "    ,\n",
    "    html.H1(children='Data Set Variables Demográficas')\n",
    "    ,\n",
    "    ### Division horizontal\n",
    "    html.Div([\n",
    "        html.Div([\n",
    "          dcc.Dropdown(id='variable', \n",
    "                    options=[{'label': i, 'value': i} for i in df.columns.drop(['ID','FECHA_NACIMIENTO'])],\n",
    "                    value='GENERO',\n",
    "                    placeholder=\"Select \",\n",
    "                    multi=False,\n",
    "                    style={'width': '250px','display': \"block\"}\n",
    "                      ) \n",
    "            ,\n",
    "            html.P(children='',id='Descripcion_roll',style={'display': 'block'})\n",
    "                ],style={\"margin-left\": \"20px\",'display': 'inline-block','float': 'left'})\n",
    "        ,\n",
    "        \n",
    "     html.Div([\n",
    "      dcc.Graph(id='histo_1',style={'width': '600px','display': 'inline-block','float': 'center'}),\n",
    "      dcc.Graph(id='histo_2',style={'width': '600px','display': 'inline-block','float': 'right'})\n",
    "      ],style={'display': 'inline-block','float': 'right'})    \n",
    "    ],style={'display': 'block'})\n",
    "\n",
    "     ,\n",
    "    \n",
    "    html.H1(children='Data Set Habitos de pago',style={'display': 'block', 'marginTop': 520})\n",
    "\n",
    "       \n",
    "])\n",
    "\n",
    "\n",
    "@app.callback(\n",
    "    Output('histo_1', 'figure'),\n",
    "    [Input('variable', 'value')])\n",
    "def update_output(value):\n",
    "    fig = px.scatter_matrix(df_dash)\n",
    "    return fig\n",
    "\n",
    "\n",
    "@app.callback(\n",
    "    Output('histo_2', 'figure'),\n",
    "    [Input('variable', 'value')])\n",
    "def update_output(value):\n",
    "    fig = px.pie(df_dash,value)\n",
    "    return fig\n",
    "\n",
    "\n",
    "@app.callback(\n",
    "    Output('Descripcion_roll', 'children'),\n",
    "    [Input('variable', 'value')])\n",
    "def update_output(value):\n",
    "    desc = dict_columns[value]\n",
    "    return desc\n",
    "\n",
    "\n",
    "\n",
    "    \n",
    "    \n",
    "\n",
    "\n",
    "if __name__ == '__main__':\n",
    "    app.run_server(debug=True)"
   ]
  },
  {
   "cell_type": "code",
   "execution_count": null,
   "metadata": {},
   "outputs": [],
   "source": [
    "px.scatter_matrix(df_dash)"
   ]
  }
 ],
 "metadata": {
  "kernelspec": {
   "display_name": "Python 3",
   "language": "python",
   "name": "python3"
  },
  "language_info": {
   "codemirror_mode": {
    "name": "ipython",
    "version": 3
   },
   "file_extension": ".py",
   "mimetype": "text/x-python",
   "name": "python",
   "nbconvert_exporter": "python",
   "pygments_lexer": "ipython3",
   "version": "3.8.5"
  }
 },
 "nbformat": 4,
 "nbformat_minor": 5
}
