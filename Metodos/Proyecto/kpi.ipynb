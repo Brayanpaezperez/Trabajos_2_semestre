{
 "cells": [
  {
   "cell_type": "code",
   "execution_count": 1,
   "metadata": {
    "_cell_guid": "b1076dfc-b9ad-4769-8c92-a6c4dae69d19",
    "_uuid": "8f2839f25d086af736a60e9eeb907d3b93b6e0e5",
    "scrolled": true
   },
   "outputs": [
    {
     "data": {
      "text/html": [
       "<div>\n",
       "<style scoped>\n",
       "    .dataframe tbody tr th:only-of-type {\n",
       "        vertical-align: middle;\n",
       "    }\n",
       "\n",
       "    .dataframe tbody tr th {\n",
       "        vertical-align: top;\n",
       "    }\n",
       "\n",
       "    .dataframe thead th {\n",
       "        text-align: right;\n",
       "    }\n",
       "</style>\n",
       "<table border=\"1\" class=\"dataframe\">\n",
       "  <thead>\n",
       "    <tr style=\"text-align: right;\">\n",
       "      <th></th>\n",
       "      <th>ID</th>\n",
       "      <th>MONTHS_BALANCE</th>\n",
       "      <th>STATUS</th>\n",
       "    </tr>\n",
       "  </thead>\n",
       "  <tbody>\n",
       "    <tr>\n",
       "      <th>0</th>\n",
       "      <td>5001711</td>\n",
       "      <td>0</td>\n",
       "      <td>X</td>\n",
       "    </tr>\n",
       "    <tr>\n",
       "      <th>1</th>\n",
       "      <td>5001711</td>\n",
       "      <td>-1</td>\n",
       "      <td>0</td>\n",
       "    </tr>\n",
       "    <tr>\n",
       "      <th>2</th>\n",
       "      <td>5001711</td>\n",
       "      <td>-2</td>\n",
       "      <td>0</td>\n",
       "    </tr>\n",
       "    <tr>\n",
       "      <th>3</th>\n",
       "      <td>5001711</td>\n",
       "      <td>-3</td>\n",
       "      <td>0</td>\n",
       "    </tr>\n",
       "    <tr>\n",
       "      <th>4</th>\n",
       "      <td>5001712</td>\n",
       "      <td>0</td>\n",
       "      <td>C</td>\n",
       "    </tr>\n",
       "    <tr>\n",
       "      <th>...</th>\n",
       "      <td>...</td>\n",
       "      <td>...</td>\n",
       "      <td>...</td>\n",
       "    </tr>\n",
       "    <tr>\n",
       "      <th>1048570</th>\n",
       "      <td>5150487</td>\n",
       "      <td>-25</td>\n",
       "      <td>C</td>\n",
       "    </tr>\n",
       "    <tr>\n",
       "      <th>1048571</th>\n",
       "      <td>5150487</td>\n",
       "      <td>-26</td>\n",
       "      <td>C</td>\n",
       "    </tr>\n",
       "    <tr>\n",
       "      <th>1048572</th>\n",
       "      <td>5150487</td>\n",
       "      <td>-27</td>\n",
       "      <td>C</td>\n",
       "    </tr>\n",
       "    <tr>\n",
       "      <th>1048573</th>\n",
       "      <td>5150487</td>\n",
       "      <td>-28</td>\n",
       "      <td>C</td>\n",
       "    </tr>\n",
       "    <tr>\n",
       "      <th>1048574</th>\n",
       "      <td>5150487</td>\n",
       "      <td>-29</td>\n",
       "      <td>C</td>\n",
       "    </tr>\n",
       "  </tbody>\n",
       "</table>\n",
       "<p>1048575 rows × 3 columns</p>\n",
       "</div>"
      ],
      "text/plain": [
       "              ID  MONTHS_BALANCE STATUS\n",
       "0        5001711               0      X\n",
       "1        5001711              -1      0\n",
       "2        5001711              -2      0\n",
       "3        5001711              -3      0\n",
       "4        5001712               0      C\n",
       "...          ...             ...    ...\n",
       "1048570  5150487             -25      C\n",
       "1048571  5150487             -26      C\n",
       "1048572  5150487             -27      C\n",
       "1048573  5150487             -28      C\n",
       "1048574  5150487             -29      C\n",
       "\n",
       "[1048575 rows x 3 columns]"
      ]
     },
     "execution_count": 1,
     "metadata": {},
     "output_type": "execute_result"
    }
   ],
   "source": [
    "import warnings\n",
    "warnings.filterwarnings('ignore')\n",
    "import numpy as np\n",
    "import pandas as pd    \n",
    "import matplotlib.pyplot as plt\n",
    "import plotly.express as px\n",
    "url_carpeta='C:/Users/Bluetab/Documents/Universidad/Archivos 2doSemestre/Visualizacion/'\n",
    "credit = pd.read_csv(url_carpeta+'credit_record.csv')  \n",
    "application = pd.read_csv(url_carpeta+'application_record.csv') \n",
    "credit"
   ]
  },
  {
   "cell_type": "code",
   "execution_count": null,
   "metadata": {
    "_cell_guid": "79c7e3d0-c299-4dcb-8224-4455121ee9b0",
    "_uuid": "d629ff2d2480ee46fbb7e2d37f6b5fab8052498a"
   },
   "outputs": [],
   "source": [
    "len(set(application['ID'])) # ¿cuántos ID únicos en el registro de la aplicación?"
   ]
  },
  {
   "cell_type": "code",
   "execution_count": null,
   "metadata": {},
   "outputs": [],
   "source": [
    "len(set(credit['ID'])) # ¿cuántos ID únicos en el registro de crédito?"
   ]
  },
  {
   "cell_type": "code",
   "execution_count": null,
   "metadata": {},
   "outputs": [],
   "source": [
    "len(set(application['ID']).intersection(set(credit['ID']))) # ¿cuántos de los IDs comparten dos tablas?"
   ]
  },
  {
   "cell_type": "markdown",
   "metadata": {},
   "source": [
    "# KPI"
   ]
  },
  {
   "cell_type": "code",
   "execution_count": 4,
   "metadata": {},
   "outputs": [
    {
     "data": {
      "text/html": [
       "<div>\n",
       "<style scoped>\n",
       "    .dataframe tbody tr th:only-of-type {\n",
       "        vertical-align: middle;\n",
       "    }\n",
       "\n",
       "    .dataframe tbody tr th {\n",
       "        vertical-align: top;\n",
       "    }\n",
       "\n",
       "    .dataframe thead th {\n",
       "        text-align: right;\n",
       "    }\n",
       "</style>\n",
       "<table border=\"1\" class=\"dataframe\">\n",
       "  <thead>\n",
       "    <tr style=\"text-align: right;\">\n",
       "      <th></th>\n",
       "      <th>open_month</th>\n",
       "      <th>month_on_book</th>\n",
       "      <th>due_count</th>\n",
       "      <th>sta_sum</th>\n",
       "    </tr>\n",
       "  </thead>\n",
       "  <tbody>\n",
       "    <tr>\n",
       "      <th>0</th>\n",
       "      <td>-60</td>\n",
       "      <td>0</td>\n",
       "      <td>NaN</td>\n",
       "      <td>415</td>\n",
       "    </tr>\n",
       "    <tr>\n",
       "      <th>1</th>\n",
       "      <td>-60</td>\n",
       "      <td>1</td>\n",
       "      <td>NaN</td>\n",
       "      <td>415</td>\n",
       "    </tr>\n",
       "    <tr>\n",
       "      <th>2</th>\n",
       "      <td>-60</td>\n",
       "      <td>2</td>\n",
       "      <td>NaN</td>\n",
       "      <td>415</td>\n",
       "    </tr>\n",
       "    <tr>\n",
       "      <th>3</th>\n",
       "      <td>-60</td>\n",
       "      <td>3</td>\n",
       "      <td>NaN</td>\n",
       "      <td>415</td>\n",
       "    </tr>\n",
       "    <tr>\n",
       "      <th>4</th>\n",
       "      <td>-60</td>\n",
       "      <td>4</td>\n",
       "      <td>NaN</td>\n",
       "      <td>415</td>\n",
       "    </tr>\n",
       "    <tr>\n",
       "      <th>...</th>\n",
       "      <td>...</td>\n",
       "      <td>...</td>\n",
       "      <td>...</td>\n",
       "      <td>...</td>\n",
       "    </tr>\n",
       "    <tr>\n",
       "      <th>1655</th>\n",
       "      <td>-21</td>\n",
       "      <td>17</td>\n",
       "      <td>NaN</td>\n",
       "      <td>858</td>\n",
       "    </tr>\n",
       "    <tr>\n",
       "      <th>1656</th>\n",
       "      <td>-21</td>\n",
       "      <td>18</td>\n",
       "      <td>NaN</td>\n",
       "      <td>858</td>\n",
       "    </tr>\n",
       "    <tr>\n",
       "      <th>1657</th>\n",
       "      <td>-21</td>\n",
       "      <td>19</td>\n",
       "      <td>NaN</td>\n",
       "      <td>858</td>\n",
       "    </tr>\n",
       "    <tr>\n",
       "      <th>1658</th>\n",
       "      <td>-21</td>\n",
       "      <td>20</td>\n",
       "      <td>NaN</td>\n",
       "      <td>858</td>\n",
       "    </tr>\n",
       "    <tr>\n",
       "      <th>1659</th>\n",
       "      <td>-21</td>\n",
       "      <td>21</td>\n",
       "      <td>NaN</td>\n",
       "      <td>858</td>\n",
       "    </tr>\n",
       "  </tbody>\n",
       "</table>\n",
       "<p>1660 rows × 4 columns</p>\n",
       "</div>"
      ],
      "text/plain": [
       "      open_month  month_on_book  due_count  sta_sum\n",
       "0            -60              0        NaN      415\n",
       "1            -60              1        NaN      415\n",
       "2            -60              2        NaN      415\n",
       "3            -60              3        NaN      415\n",
       "4            -60              4        NaN      415\n",
       "...          ...            ...        ...      ...\n",
       "1655         -21             17        NaN      858\n",
       "1656         -21             18        NaN      858\n",
       "1657         -21             19        NaN      858\n",
       "1658         -21             20        NaN      858\n",
       "1659         -21             21        NaN      858\n",
       "\n",
       "[1660 rows x 4 columns]"
      ]
     },
     "execution_count": 4,
     "metadata": {},
     "output_type": "execute_result"
    }
   ],
   "source": [
    "grouped = credit.groupby('ID')\n",
    "### convertir datos de crédito a un formato amplio que cada ID es una fila\n",
    "pivot_tb = credit.pivot(index = 'ID', columns = 'MONTHS_BALANCE', values = 'STATUS')\n",
    "pivot_tb['open_month'] = grouped['MONTHS_BALANCE'].min() # mes de apertura\n",
    "pivot_tb['end_month'] = grouped['MONTHS_BALANCE'].max() # mes final\n",
    "pivot_tb['ID'] = pivot_tb.index\n",
    "pivot_tb = pivot_tb[['ID', 'open_month', 'end_month']]\n",
    "pivot_tb['window'] = pivot_tb['end_month'] - pivot_tb['open_month']\n",
    "pivot_tb.reset_index(drop = True, inplace = True)\n",
    "credit = pd.merge(credit, pivot_tb, on = 'ID', how = 'left')\n",
    "credit0 = credit.copy()\n",
    "credit = credit[credit['window'] > 20] # eliminar a los usuarios cuya ventana de observación menos de 20\n",
    "credit['status'] = np.where((credit['STATUS'] == '2') | (credit['STATUS'] == '3' )| (credit['STATUS'] == '4' )| (credit['STATUS'] == '5'), 1, 0) # analyze > 60 days past due \n",
    "credit['status'] = credit['status'].astype(np.int8) # 1: overdue 0: not\n",
    "credit['month_on_book'] = credit['MONTHS_BALANCE'] - credit['open_month'] # calculate month on book: how many months after opening account\n",
    "credit.sort_values(by = ['ID','month_on_book'], inplace = True)\n",
    "\n",
    "##### \n",
    "denominator = pivot_tb.groupby(['open_month']).agg({'ID': ['count']}) # count how many users in every month the account was opened\n",
    "denominator.reset_index(inplace = True)\n",
    "denominator.columns = ['open_month','sta_sum']\n",
    "\n",
    "#####\n",
    "kpi = credit.groupby(['open_month','month_on_book']).agg({'ID': ['count']}) \n",
    "kpi.reset_index(inplace = True)\n",
    "kpi.columns = ['open_month','month_on_book','sta_sum'] \n",
    "kpi['due_count'] = np.nan\n",
    "kpi = kpi[['open_month','month_on_book','due_count']] # delete aggerate column\n",
    "kpi = pd.merge(kpi, denominator, on = ['open_month'], how = 'left') # join sta_sum colun to kpi table\n",
    "kpi"
   ]
  },
  {
   "cell_type": "code",
   "execution_count": null,
   "metadata": {},
   "outputs": [],
   "source": [
    "for j in range(-60,1): # outer loop: month in which account was opened\n",
    "    ls = []\n",
    "    for i in range(0,61): # inner loop time after the credit card was granted\n",
    "        due = list(credit[(credit['status'] == 1) & (credit['month_on_book'] == i) & (credit['open_month'] == j)]['ID']) # get ID which satisfy the condition\n",
    "        ls.extend(due) # As time goes, add bad customers\n",
    "        kpi.loc[(kpi['month_on_book'] == i) & (kpi['open_month'] == j), 'due_count'] = len(set(ls)) # calculate non-duplicate ID numbers using set()\n",
    "        \n",
    "kpi['sta_rate']  = kpi['due_count'] / kpi['sta_sum'] # calculate cumulative % of bad customers\n",
    "kpi        "
   ]
  },
  {
   "cell_type": "markdown",
   "metadata": {},
   "source": [
    "Using `pivot` to convert long data to wide data:"
   ]
  },
  {
   "cell_type": "code",
   "execution_count": null,
   "metadata": {},
   "outputs": [],
   "source": [
    "kpi_wide = kpi.pivot(index = 'open_month',\n",
    "                             columns = 'month_on_book',\n",
    "                             values = 'sta_rate')\n",
    "kpi_wide"
   ]
  },
  {
   "cell_type": "markdown",
   "metadata": {},
   "source": [
    "Esta es una tabla de análisis de kpi. Las filas representan meses de apertura de cuentas, las columnas representan meses después de la apertura de cuentas y los valores son la tasa acumulada de vencimiento. A medida que el mes abierto se cierra a 0, la ventana de observación se acorta, por lo que el campo triangular de la mitad inferior se llena con nan. "
   ]
  },
  {
   "cell_type": "code",
   "execution_count": null,
   "metadata": {},
   "outputs": [],
   "source": [
    "kpi0 = kpi_wide.replace(0,np.nan)\n",
    "lst = [i for i in range(0,61)]\n",
    "kpi_wide[lst].T.plot(legend = False, grid = True, title = 'Porcentaje acumulado de malos clientes (> 60 días de atraso) ')\n",
    "#plt.axvline(30)\n",
    "#plt.axvline(25)\n",
    "#plt.axvline(20)\n",
    "plt.xlabel('Historial')\n",
    "plt.ylabel('% Acumulado> 60 días de vencimiento ')\n",
    "plt.show()"
   ]
  },
  {
   "cell_type": "code",
   "execution_count": null,
   "metadata": {},
   "outputs": [],
   "source": []
  },
  {
   "cell_type": "markdown",
   "metadata": {},
   "source": [
    "# Observar el análisis de la ventana\n",
    "\n",
    "Debido a dos razones, la cancelación de la cuenta y la cancelación, nuestra observación de las cuentas se truncará. La ventana de observación es un parámetro importante a considerar. Si la ventana de observación es demasiado corta, el comportamiento de los usuarios no se mostrará por completo, lo que traerá un ruido innecesario a nuestros datos.\n",
    "\n",
    "Para observar cuántas cuentas aumentan a medida que se extiende la ventana de observación, raelicemos la siguiente grafica.  "
   ]
  },
  {
   "cell_type": "code",
   "execution_count": null,
   "metadata": {},
   "outputs": [],
   "source": [
    "lst = []\n",
    "for i in range(0,61):\n",
    "    ratio = len(pivot_tb[pivot_tb['window'] < i]) / len(set(pivot_tb['ID']))\n",
    "    lst.append(ratio)\n",
    "    \n",
    "pd.Series(lst).plot(legend = False, grid = True, title = ' ')\n",
    "plt.xlabel('Ventana de Observacion')\n",
    "plt.ylabel('Relacion')\n",
    "plt.show()"
   ]
  },
  {
   "cell_type": "markdown",
   "metadata": {},
   "source": [
    "Pudimos ver que una ventana de observación de 60 meses cubre a todos los aplicadores, mientras que la ventana de 20 meses contiene registros de aproximadamente el 52%. "
   ]
  },
  {
   "cell_type": "code",
   "execution_count": 5,
   "metadata": {},
   "outputs": [],
   "source": [
    "def calculate_observe(credit, command):\n",
    "    '''calculate observe window\n",
    "    '''\n",
    "    id_sum = len(set(pivot_tb['ID']))\n",
    "    credit['status'] = 0\n",
    "    exec(command)\n",
    "    #credit.loc[(credit['STATUS'] == '4' )| (credit['STATUS'] == '5'), 'status'] = 1\n",
    "    credit['month_on_book'] = credit['MONTHS_BALANCE'] - credit['open_month']\n",
    "    minagg = credit[credit['status'] == 1].groupby('ID')['month_on_book'].min()\n",
    "    minagg = pd.DataFrame(minagg)\n",
    "    minagg['ID'] = minagg.index\n",
    "    obslst = pd.DataFrame({'month_on_book':range(0,61), 'rate': None})\n",
    "    lst = []\n",
    "    for i in range(0,61):\n",
    "        due = list(minagg[minagg['month_on_book']  == i]['ID'])\n",
    "        lst.extend(due)\n",
    "        obslst.loc[obslst['month_on_book'] == i, 'rate'] = len(set(lst)) / id_sum \n",
    "    return obslst['rate']\n",
    "\n",
    "command = \"credit.loc[(credit['STATUS'] == '0') | (credit['STATUS'] == '1') | (credit['STATUS'] == '2') | (credit['STATUS'] == '3' )| (credit['STATUS'] == '4' )| (credit['STATUS'] == '5'), 'status'] = 1\"   \n",
    "morethan1 = calculate_observe(credit, command)\n",
    "command = \"credit.loc[(credit['STATUS'] == '1') | (credit['STATUS'] == '2') | (credit['STATUS'] == '3' )| (credit['STATUS'] == '4' )| (credit['STATUS'] == '5'), 'status'] = 1\"   \n",
    "morethan30 = calculate_observe(credit, command)\n",
    "command = \"credit.loc[(credit['STATUS'] == '2') | (credit['STATUS'] == '3' )| (credit['STATUS'] == '4' )| (credit['STATUS'] == '5'), 'status'] = 1\"\n",
    "morethan60 = calculate_observe(credit, command)\n",
    "command = \"credit.loc[(credit['STATUS'] == '3' )| (credit['STATUS'] == '4' )| (credit['STATUS'] == '5'), 'status'] = 1\"\n",
    "morethan90 = calculate_observe(credit, command)\n",
    "command = \"credit.loc[(credit['STATUS'] == '4' )| (credit['STATUS'] == '5'), 'status'] = 1\"\n",
    "morethan120 = calculate_observe(credit, command)\n",
    "command = \"credit.loc[(credit['STATUS'] == '5'), 'status'] = 1\"\n",
    "morethan150 = calculate_observe(credit, command)"
   ]
  },
  {
   "cell_type": "code",
   "execution_count": 6,
   "metadata": {},
   "outputs": [],
   "source": [
    "obslst = pd.DataFrame({'vencidos más de 30 días': morethan30,\n",
    "                       'vencidos más de 60 días': morethan60,\n",
    "                       'vencidos más de 90 días': morethan90,\n",
    "                       'vencidos más de 120 días': morethan120,\n",
    "                       'vencidos más de 150 días': morethan150\n",
    "                        })"
   ]
  },
  {
   "cell_type": "code",
   "execution_count": 7,
   "metadata": {},
   "outputs": [],
   "source": [
    "fig_kpi=px.line(obslst,title='Analisis % de malos clientes',labels=dict(index=\"Historial (meses)\", value=\"Acumulativo (%)\", variable=\"Categoria vencidos\"))"
   ]
  },
  {
   "cell_type": "markdown",
   "metadata": {},
   "source": [
    "Esta gráfica podría verse como una versión promedio (a lo largo de un mes abierto) de la gráfica del kpi.\n",
    "Para una fecha de vencimiento más larga, necesita una ventana de observación más larga. Por ejemplo, más de 150 días de atraso necesita al menos 5 meses hasta que aparezca el primer * mal cliente *. Para la mayoría de las situaciones, una ventana de observación de 20 meses podría cubrir a la mayoría de los *clientes malos*. Sin embargo, durante los 30 días de vencimiento, pudimos ver que después de 30 meses en el historial, todavía hay nuevos * malos clientes * que se unen a la lista. Por lo tanto, una ventana de observación de 20 meses en el Historial será apropiada. Aquellos que existan más cortos que la ventana de observación deben ser excluidos de nuestro análisis, por lo que podría ver que eliminé usuarios cuya ventana de observación sea menor a 20 en la última sección (la ventana podría cambiarse). "
   ]
  }
 ],
 "metadata": {
  "kernelspec": {
   "display_name": "Python 3",
   "language": "python",
   "name": "python3"
  },
  "language_info": {
   "codemirror_mode": {
    "name": "ipython",
    "version": 3
   },
   "file_extension": ".py",
   "mimetype": "text/x-python",
   "name": "python",
   "nbconvert_exporter": "python",
   "pygments_lexer": "ipython3",
   "version": "3.8.5"
  }
 },
 "nbformat": 4,
 "nbformat_minor": 4
}
