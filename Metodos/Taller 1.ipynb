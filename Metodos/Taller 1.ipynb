{
 "cells": [
  {
   "cell_type": "code",
   "execution_count": 1,
   "id": "blond-equality",
   "metadata": {},
   "outputs": [],
   "source": [
    "import numpy             as np\n",
    "import pandas            as pd\n",
    "import matplotlib.pyplot as plt\n",
    "import seaborn           as sns\n",
    "import prince\n",
    "from scipy import stats\n",
    "\n",
    "from sklearn.decomposition import PCA\n",
    "from sklearn.preprocessing import StandardScaler\n",
    "from sklearn.pipeline import make_pipeline\n",
    "from sklearn.preprocessing import scale"
   ]
  },
  {
   "cell_type": "markdown",
   "id": "dress-context",
   "metadata": {},
   "source": [
    "## Base de gorriones"
   ]
  },
  {
   "cell_type": "code",
   "execution_count": 2,
   "id": "pacific-poetry",
   "metadata": {
    "scrolled": true
   },
   "outputs": [
    {
     "data": {
      "text/html": [
       "<div>\n",
       "<style scoped>\n",
       "    .dataframe tbody tr th:only-of-type {\n",
       "        vertical-align: middle;\n",
       "    }\n",
       "\n",
       "    .dataframe tbody tr th {\n",
       "        vertical-align: top;\n",
       "    }\n",
       "\n",
       "    .dataframe thead th {\n",
       "        text-align: right;\n",
       "    }\n",
       "</style>\n",
       "<table border=\"1\" class=\"dataframe\">\n",
       "  <thead>\n",
       "    <tr style=\"text-align: right;\">\n",
       "      <th></th>\n",
       "      <th>Longitud Total</th>\n",
       "      <th>Extensi�n de las alas</th>\n",
       "      <th>Longitud pico y cabeza</th>\n",
       "      <th>Longitud del h�mero</th>\n",
       "      <th>Longitud de la quilla</th>\n",
       "    </tr>\n",
       "    <tr>\n",
       "      <th>Bird</th>\n",
       "      <th></th>\n",
       "      <th></th>\n",
       "      <th></th>\n",
       "      <th></th>\n",
       "      <th></th>\n",
       "    </tr>\n",
       "  </thead>\n",
       "  <tbody>\n",
       "    <tr>\n",
       "      <th>1</th>\n",
       "      <td>156</td>\n",
       "      <td>245</td>\n",
       "      <td>31.6</td>\n",
       "      <td>18.5</td>\n",
       "      <td>20.5</td>\n",
       "    </tr>\n",
       "    <tr>\n",
       "      <th>2</th>\n",
       "      <td>154</td>\n",
       "      <td>240</td>\n",
       "      <td>30.4</td>\n",
       "      <td>17.9</td>\n",
       "      <td>19.6</td>\n",
       "    </tr>\n",
       "    <tr>\n",
       "      <th>3</th>\n",
       "      <td>153</td>\n",
       "      <td>240</td>\n",
       "      <td>31.0</td>\n",
       "      <td>18.4</td>\n",
       "      <td>20.6</td>\n",
       "    </tr>\n",
       "    <tr>\n",
       "      <th>4</th>\n",
       "      <td>153</td>\n",
       "      <td>236</td>\n",
       "      <td>30.9</td>\n",
       "      <td>17.7</td>\n",
       "      <td>20.2</td>\n",
       "    </tr>\n",
       "    <tr>\n",
       "      <th>5</th>\n",
       "      <td>155</td>\n",
       "      <td>243</td>\n",
       "      <td>31.5</td>\n",
       "      <td>18.6</td>\n",
       "      <td>20.3</td>\n",
       "    </tr>\n",
       "  </tbody>\n",
       "</table>\n",
       "</div>"
      ],
      "text/plain": [
       "      Longitud Total  Extensi�n de las alas  Longitud pico y cabeza  \\\n",
       "Bird                                                                  \n",
       "1                156                    245                    31.6   \n",
       "2                154                    240                    30.4   \n",
       "3                153                    240                    31.0   \n",
       "4                153                    236                    30.9   \n",
       "5                155                    243                    31.5   \n",
       "\n",
       "      Longitud del h�mero  Longitud de la quilla  \n",
       "Bird                                              \n",
       "1                    18.5                   20.5  \n",
       "2                    17.9                   19.6  \n",
       "3                    18.4                   20.6  \n",
       "4                    17.7                   20.2  \n",
       "5                    18.6                   20.3  "
      ]
     },
     "execution_count": 2,
     "metadata": {},
     "output_type": "execute_result"
    }
   ],
   "source": [
    "url = 'D:/Maestria Analitica de Datos/Segundo Semestre/Metodos Estadisticos/bases/birds.csv'\n",
    "bird = pd.read_csv(url,index_col='Bird')\n",
    "bird.head()"
   ]
  },
  {
   "cell_type": "markdown",
   "id": "unexpected-arcade",
   "metadata": {},
   "source": [
    "### Haga un análisis de componentes principales con la matriz de correlaciones."
   ]
  },
  {
   "cell_type": "code",
   "execution_count": 3,
   "id": "thick-element",
   "metadata": {},
   "outputs": [],
   "source": [
    "pcab = prince.PCA(\n",
    "     n_components=len(bird.columns),\n",
    "     n_iter=3,\n",
    "     rescale_with_mean=True,\n",
    "     rescale_with_std=True,\n",
    "     copy=True,\n",
    "     check_input=True,\n",
    "     engine='auto'\n",
    " )\n",
    "pcab = pcab.fit(bird)"
   ]
  },
  {
   "cell_type": "code",
   "execution_count": 4,
   "id": "fitted-raising",
   "metadata": {
    "scrolled": false
   },
   "outputs": [
    {
     "data": {
      "text/html": [
       "<div>\n",
       "<style scoped>\n",
       "    .dataframe tbody tr th:only-of-type {\n",
       "        vertical-align: middle;\n",
       "    }\n",
       "\n",
       "    .dataframe tbody tr th {\n",
       "        vertical-align: top;\n",
       "    }\n",
       "\n",
       "    .dataframe thead th {\n",
       "        text-align: right;\n",
       "    }\n",
       "</style>\n",
       "<table border=\"1\" class=\"dataframe\">\n",
       "  <thead>\n",
       "    <tr style=\"text-align: right;\">\n",
       "      <th></th>\n",
       "      <th>0</th>\n",
       "      <th>1</th>\n",
       "      <th>2</th>\n",
       "      <th>3</th>\n",
       "      <th>4</th>\n",
       "    </tr>\n",
       "    <tr>\n",
       "      <th>Bird</th>\n",
       "      <th></th>\n",
       "      <th></th>\n",
       "      <th></th>\n",
       "      <th></th>\n",
       "      <th></th>\n",
       "    </tr>\n",
       "  </thead>\n",
       "  <tbody>\n",
       "    <tr>\n",
       "      <th>1</th>\n",
       "      <td>-0.064955</td>\n",
       "      <td>-0.607064</td>\n",
       "      <td>0.173008</td>\n",
       "      <td>0.521171</td>\n",
       "      <td>-0.554478</td>\n",
       "    </tr>\n",
       "    <tr>\n",
       "      <th>2</th>\n",
       "      <td>2.202907</td>\n",
       "      <td>-0.446884</td>\n",
       "      <td>-0.404215</td>\n",
       "      <td>0.652149</td>\n",
       "      <td>-0.233471</td>\n",
       "    </tr>\n",
       "    <tr>\n",
       "      <th>3</th>\n",
       "      <td>1.157437</td>\n",
       "      <td>0.019454</td>\n",
       "      <td>0.683134</td>\n",
       "      <td>0.723721</td>\n",
       "      <td>-0.211036</td>\n",
       "    </tr>\n",
       "    <tr>\n",
       "      <th>4</th>\n",
       "      <td>2.335015</td>\n",
       "      <td>0.173775</td>\n",
       "      <td>0.309133</td>\n",
       "      <td>-0.150836</td>\n",
       "      <td>-0.483058</td>\n",
       "    </tr>\n",
       "    <tr>\n",
       "      <th>5</th>\n",
       "      <td>0.298100</td>\n",
       "      <td>-0.672101</td>\n",
       "      <td>0.479128</td>\n",
       "      <td>0.551519</td>\n",
       "      <td>-0.247012</td>\n",
       "    </tr>\n",
       "  </tbody>\n",
       "</table>\n",
       "</div>"
      ],
      "text/plain": [
       "             0         1         2         3         4\n",
       "Bird                                                  \n",
       "1    -0.064955 -0.607064  0.173008  0.521171 -0.554478\n",
       "2     2.202907 -0.446884 -0.404215  0.652149 -0.233471\n",
       "3     1.157437  0.019454  0.683134  0.723721 -0.211036\n",
       "4     2.335015  0.173775  0.309133 -0.150836 -0.483058\n",
       "5     0.298100 -0.672101  0.479128  0.551519 -0.247012"
      ]
     },
     "execution_count": 4,
     "metadata": {},
     "output_type": "execute_result"
    }
   ],
   "source": [
    "pcab.transform(bird).head()"
   ]
  },
  {
   "cell_type": "markdown",
   "id": "straight-blond",
   "metadata": {},
   "source": [
    "### Compruebe que la suma de valores propios de la matriz de correlaciones es igual a la suma de los elementos de la diagonal (traza)."
   ]
  },
  {
   "cell_type": "code",
   "execution_count": 5,
   "id": "opening-wesley",
   "metadata": {},
   "outputs": [
    {
     "data": {
      "text/plain": [
       "array([3.61597834, 0.53150408, 0.38642455, 0.30156552, 0.16452751])"
      ]
     },
     "execution_count": 5,
     "metadata": {},
     "output_type": "execute_result"
    }
   ],
   "source": [
    "pcab.eigenvalues_"
   ]
  },
  {
   "cell_type": "code",
   "execution_count": 6,
   "id": "choice-playback",
   "metadata": {},
   "outputs": [
    {
     "data": {
      "text/plain": [
       "5.0"
      ]
     },
     "execution_count": 6,
     "metadata": {},
     "output_type": "execute_result"
    }
   ],
   "source": [
    "pcab.total_inertia_"
   ]
  },
  {
   "cell_type": "markdown",
   "id": "adaptive-groove",
   "metadata": {},
   "source": [
    "### De acuerdo a los coeficientes que definen a la primera y segunda componente se dice que la primera indica el tamaño de los pajaros y la segunda la forma. Explique."
   ]
  },
  {
   "cell_type": "code",
   "execution_count": 7,
   "id": "typical-cartoon",
   "metadata": {},
   "outputs": [],
   "source": [
    "def matriz_componentes(df,corr):\n",
    "    cuanti=df.select_dtypes(np.number)\n",
    "    nombres = cuanti.columns\n",
    "    \n",
    "    if corr:\n",
    "        scaler=StandardScaler()\n",
    "        scaler.fit(cuanti)\n",
    "        X_scaled=scaler.transform(cuanti)\n",
    "    else:\n",
    "        scaler=StandardScaler()\n",
    "        scaler.fit(cuanti)\n",
    "        X_scaled=cuanti \n",
    "    \n",
    "    pca=PCA(n_components=len(nombres)) \n",
    "    pca.fit(X_scaled)\n",
    "    cuanti_pca=pca.transform(X_scaled)\n",
    "    \n",
    "    if corr:\n",
    "        pca_pipe = make_pipeline(StandardScaler(), PCA())\n",
    "    else:\n",
    "        pca_pipe = make_pipeline(PCA())\n",
    "    \n",
    "    pca_pipe.fit(cuanti)\n",
    "    modelo_pca = pca_pipe.named_steps['pca']\n",
    "    idx =[]\n",
    "    for i in range(len(nombres)):\n",
    "        lb = 'PC'+str(i+1)\n",
    "        idx.append(lb)\n",
    "    matriz_componentes = pd.DataFrame(\n",
    "        data    = modelo_pca.components_,\n",
    "        columns = cuanti.columns,\n",
    "        index   = idx\n",
    "    )\n",
    "    \n",
    "    return matriz_componentes,pca.components_"
   ]
  },
  {
   "cell_type": "code",
   "execution_count": 8,
   "id": "mighty-orleans",
   "metadata": {},
   "outputs": [
    {
     "data": {
      "text/html": [
       "<div>\n",
       "<style scoped>\n",
       "    .dataframe tbody tr th:only-of-type {\n",
       "        vertical-align: middle;\n",
       "    }\n",
       "\n",
       "    .dataframe tbody tr th {\n",
       "        vertical-align: top;\n",
       "    }\n",
       "\n",
       "    .dataframe thead th {\n",
       "        text-align: right;\n",
       "    }\n",
       "</style>\n",
       "<table border=\"1\" class=\"dataframe\">\n",
       "  <thead>\n",
       "    <tr style=\"text-align: right;\">\n",
       "      <th></th>\n",
       "      <th>Longitud Total</th>\n",
       "      <th>Extensi�n de las alas</th>\n",
       "      <th>Longitud pico y cabeza</th>\n",
       "      <th>Longitud del h�mero</th>\n",
       "      <th>Longitud de la quilla</th>\n",
       "    </tr>\n",
       "  </thead>\n",
       "  <tbody>\n",
       "    <tr>\n",
       "      <th>PC1</th>\n",
       "      <td>-0.451799</td>\n",
       "      <td>-0.461681</td>\n",
       "      <td>-0.450542</td>\n",
       "      <td>-0.470739</td>\n",
       "      <td>-0.397675</td>\n",
       "    </tr>\n",
       "    <tr>\n",
       "      <th>PC2</th>\n",
       "      <td>0.050721</td>\n",
       "      <td>-0.299564</td>\n",
       "      <td>-0.324572</td>\n",
       "      <td>-0.184684</td>\n",
       "      <td>0.876489</td>\n",
       "    </tr>\n",
       "    <tr>\n",
       "      <th>PC3</th>\n",
       "      <td>-0.690470</td>\n",
       "      <td>-0.340548</td>\n",
       "      <td>0.454493</td>\n",
       "      <td>0.410935</td>\n",
       "      <td>0.178456</td>\n",
       "    </tr>\n",
       "    <tr>\n",
       "      <th>PC4</th>\n",
       "      <td>-0.420414</td>\n",
       "      <td>0.547863</td>\n",
       "      <td>-0.606296</td>\n",
       "      <td>0.388278</td>\n",
       "      <td>0.068872</td>\n",
       "    </tr>\n",
       "    <tr>\n",
       "      <th>PC5</th>\n",
       "      <td>0.373909</td>\n",
       "      <td>-0.530080</td>\n",
       "      <td>-0.342792</td>\n",
       "      <td>0.651667</td>\n",
       "      <td>-0.192434</td>\n",
       "    </tr>\n",
       "  </tbody>\n",
       "</table>\n",
       "</div>"
      ],
      "text/plain": [
       "     Longitud Total  Extensi�n de las alas  Longitud pico y cabeza  \\\n",
       "PC1       -0.451799              -0.461681               -0.450542   \n",
       "PC2        0.050721              -0.299564               -0.324572   \n",
       "PC3       -0.690470              -0.340548                0.454493   \n",
       "PC4       -0.420414               0.547863               -0.606296   \n",
       "PC5        0.373909              -0.530080               -0.342792   \n",
       "\n",
       "     Longitud del h�mero  Longitud de la quilla  \n",
       "PC1            -0.470739              -0.397675  \n",
       "PC2            -0.184684               0.876489  \n",
       "PC3             0.410935               0.178456  \n",
       "PC4             0.388278               0.068872  \n",
       "PC5             0.651667              -0.192434  "
      ]
     },
     "execution_count": 8,
     "metadata": {},
     "output_type": "execute_result"
    }
   ],
   "source": [
    "matriz_bird, componentes_bird = matriz_componentes(bird,True)\n",
    "matriz_bird"
   ]
  },
  {
   "cell_type": "code",
   "execution_count": 9,
   "id": "located-check",
   "metadata": {},
   "outputs": [],
   "source": [
    "def graf_componentes(df,corr,ancho=5,largo=4):\n",
    "    cuanti=df.select_dtypes(np.number)\n",
    "    nombres = cuanti.columns\n",
    "    \n",
    "    fig, scatter = plt.subplots(figsize = (ancho,largo))\n",
    "    \n",
    "    _,c = matriz_componentes(df,corr)\n",
    "    \n",
    "    ACP=[]\n",
    "    for i in range(0, len(c)):\n",
    "      x=[\"ACP\", str(i+1)]\n",
    "      a=\"\".join(x)\n",
    "      ACP.append(a)\n",
    "    sns.heatmap(c,xticklabels=cuanti.columns, yticklabels=ACP, annot=True)\n"
   ]
  },
  {
   "cell_type": "code",
   "execution_count": 10,
   "id": "comparable-setup",
   "metadata": {},
   "outputs": [
    {
     "data": {
      "image/png": "[encoded data removed]",
      "text/plain": [
       "<Figure size 360x288 with 2 Axes>"
      ]
     },
     "metadata": {
      "needs_background": "light"
     },
     "output_type": "display_data"
    }
   ],
   "source": [
    "graf_componentes(bird,True)"
   ]
  },
  {
   "cell_type": "markdown",
   "id": "vocal-fossil",
   "metadata": {},
   "source": [
    "### Dibuje el plano factorial (e plano de las dos primeras componentes) y resalte los primeros 21 datos en el gráfico (use otro color para graficarlos, póngales una etiqueta, dibujelos de forma separada,...), si se sabe que sobrevivieron los primeros 21 registros ¿Tiene alguna observación al respecto?"
   ]
  },
  {
   "cell_type": "code",
   "execution_count": 11,
   "id": "wicked-henry",
   "metadata": {},
   "outputs": [],
   "source": [
    "c = []\n",
    "for i in range(49):\n",
    "    if i < 22:\n",
    "        c.append('red')\n",
    "    else:\n",
    "        c.append('blue')"
   ]
  },
  {
   "cell_type": "code",
   "execution_count": 12,
   "id": "universal-interpretation",
   "metadata": {},
   "outputs": [
    {
     "data": {
      "image/png": "[encoded data removed]",
      "text/plain": [
       "<Figure size 576x576 with 1 Axes>"
      ]
     },
     "metadata": {
      "needs_background": "light"
     },
     "output_type": "display_data"
    }
   ],
   "source": [
    "ax = pcab.plot_row_coordinates(\n",
    "     bird,\n",
    "     ax=None,\n",
    "     figsize=(8, 8),\n",
    "     x_component=0,\n",
    "     y_component=1,\n",
    "     labels=range(21),\n",
    "     color_labels=c,\n",
    "     ellipse_outline=False,\n",
    "     ellipse_fill=False,\n",
    "     show_points=True\n",
    " )"
   ]
  },
  {
   "cell_type": "markdown",
   "id": "young-nowhere",
   "metadata": {},
   "source": [
    "### Haga un biplot de este ejercicio."
   ]
  },
  {
   "cell_type": "code",
   "execution_count": 13,
   "id": "thick-mortgage",
   "metadata": {},
   "outputs": [],
   "source": [
    "def biplot(df,pcax,pcay,corr=True,mx=0,my=0):\n",
    "    \n",
    "    cuanti=df.select_dtypes(np.number)\n",
    "    nombres = cuanti.columns\n",
    "    \n",
    "    labels= nombres\n",
    "    \n",
    "    scaler=StandardScaler()\n",
    "    scaler.fit(cuanti)\n",
    "    \n",
    "    if corr:\n",
    "        X_scaled=scaler.transform(cuanti)\n",
    "    else:\n",
    "        X_scaled=cuanti\n",
    "    \n",
    "    pca=PCA(n_components=len(nombres)) \n",
    "    pca.fit(X_scaled)\n",
    "    cuanti_pca=pca.transform(X_scaled)\n",
    "\n",
    "    if corr:\n",
    "        pca_pipe = make_pipeline(StandardScaler(), PCA())\n",
    "    else:\n",
    "        pca_pipe = make_pipeline(PCA())\n",
    "    \n",
    "    \n",
    "    pca1=pcax-1\n",
    "    pca2=pcay-1\n",
    "    xs = cuanti_pca[:,pca1]\n",
    "    ys = cuanti_pca[:,pca2]\n",
    "    n=pca.components_.shape[1]\n",
    "    scalex = 1.0/(xs.max()- xs.min())\n",
    "    scaley = 1.0/(ys.max()- ys.min())\n",
    "    plt.scatter(xs*scalex,ys*scaley)\n",
    "    for i in range(len(nombres)):\n",
    "        plt.arrow(0, 0, pca.components_[pca1,i], pca.components_[pca2,i],color='r',alpha=0.5) \n",
    "        if labels is None:\n",
    "            plt.text(pca.components_[pca1,i]* 1.15, pca.components_[pca2,i] * 1.15, \"Var\"+str(i+1), color='g', ha='center', va='center')\n",
    "        else:\n",
    "            plt.text(pca.components_[pca1,i]* 1.15, pca.components_[pca2,i] * 1.15, labels[i], color='g', ha='center', va='center')\n",
    "    plt.xlim(-1-mx,1+mx)\n",
    "    plt.ylim(-1-my,1+my)\n",
    "    plt.xlabel(\"PC{}\".format(pcax))\n",
    "    plt.ylabel(\"PC{}\".format(pcay))\n",
    "    plt.grid()"
   ]
  },
  {
   "cell_type": "code",
   "execution_count": 14,
   "id": "clean-serum",
   "metadata": {},
   "outputs": [
    {
     "data": {
      "image/png": "[encoded data removed]",
      "text/plain": [
       "<Figure size 432x288 with 1 Axes>"
      ]
     },
     "metadata": {
      "needs_background": "light"
     },
     "output_type": "display_data"
    }
   ],
   "source": [
    "biplot(bird,1,2,my=0.2)"
   ]
  },
  {
   "cell_type": "markdown",
   "id": "future-grove",
   "metadata": {},
   "source": [
    "### ¿Cuantas componentes recomienda retener si requiero al menos el 90% de variabilidad total?"
   ]
  },
  {
   "cell_type": "code",
   "execution_count": 15,
   "id": "liked-wrapping",
   "metadata": {},
   "outputs": [
    {
     "data": {
      "text/plain": [
       "array([0.72319567, 0.10630082, 0.07728491, 0.0603131 , 0.0329055 ])"
      ]
     },
     "execution_count": 15,
     "metadata": {},
     "output_type": "execute_result"
    }
   ],
   "source": [
    "pcab.explained_inertia_"
   ]
  },
  {
   "cell_type": "code",
   "execution_count": 16,
   "id": "corporate-continuity",
   "metadata": {},
   "outputs": [],
   "source": [
    "def var_acum(df,corr=True):\n",
    "    cuanti=df.select_dtypes(np.number)\n",
    "    nombres = cuanti.columns    \n",
    "    \n",
    "    pca=PCA(n_components=len(cuanti)) \n",
    "    \n",
    "    if corr:\n",
    "        pca_pipe = make_pipeline(StandardScaler(), PCA())\n",
    "    else:\n",
    "        pca_pipe = make_pipeline(PCA())\n",
    "        \n",
    "    pca_pipe.fit(cuanti)\n",
    "    modelo_pca = pca_pipe.named_steps['pca']\n",
    "\n",
    "    prop_varianza_acum = modelo_pca.explained_variance_ratio_.cumsum()\n",
    "    print('------------------------------------------')\n",
    "    print('Porcentaje de varianza explicada acumulada')\n",
    "    print('------------------------------------------')\n",
    "    print(prop_varianza_acum)\n",
    "    \n",
    "    \n",
    "    fig, ax = plt.subplots(nrows=1, ncols=1)\n",
    "    ax.plot(\n",
    "        np.arange(len(cuanti.columns)) + 1,\n",
    "        prop_varianza_acum,\n",
    "        marker = 'o'\n",
    "    )\n",
    "    \n",
    "    for x, y in zip(np.arange(len(cuanti.columns)) + 1, prop_varianza_acum):\n",
    "        label = round(y, 2)\n",
    "        ax.annotate(\n",
    "            label,\n",
    "            (x,y),\n",
    "            textcoords=\"offset points\",\n",
    "            xytext=(0,10),\n",
    "            ha='center'\n",
    "        )\n",
    "        \n",
    "    ax.set_ylim(0, 1.19)\n",
    "    ax.set_xticks(np.arange(modelo_pca.n_components_) + 1)\n",
    "    ax.set_xlabel('Componente principal')\n",
    "    ax.set_ylabel('Por. varianza acumulada')"
   ]
  },
  {
   "cell_type": "code",
   "execution_count": 17,
   "id": "ecological-yesterday",
   "metadata": {},
   "outputs": [
    {
     "name": "stdout",
     "output_type": "stream",
     "text": [
      "------------------------------------------\n",
      "Porcentaje de varianza explicada acumulada\n",
      "------------------------------------------\n",
      "[0.72319567 0.82949648 0.90678139 0.9670945  1.        ]\n"
     ]
    },
    {
     "data": {
      "image/png": "[encoded data removed]",
      "text/plain": [
       "<Figure size 432x288 with 1 Axes>"
      ]
     },
     "metadata": {
      "needs_background": "light"
     },
     "output_type": "display_data"
    }
   ],
   "source": [
    "var_acum(bird)"
   ]
  },
  {
   "cell_type": "markdown",
   "id": "neither-merit",
   "metadata": {},
   "source": [
    "### Haga ahora un análisis de componentes con la matriz de covarianzas."
   ]
  },
  {
   "cell_type": "code",
   "execution_count": 18,
   "id": "molecular-execution",
   "metadata": {},
   "outputs": [
    {
     "data": {
      "text/html": [
       "<div>\n",
       "<style scoped>\n",
       "    .dataframe tbody tr th:only-of-type {\n",
       "        vertical-align: middle;\n",
       "    }\n",
       "\n",
       "    .dataframe tbody tr th {\n",
       "        vertical-align: top;\n",
       "    }\n",
       "\n",
       "    .dataframe thead th {\n",
       "        text-align: right;\n",
       "    }\n",
       "</style>\n",
       "<table border=\"1\" class=\"dataframe\">\n",
       "  <thead>\n",
       "    <tr style=\"text-align: right;\">\n",
       "      <th></th>\n",
       "      <th>Longitud Total</th>\n",
       "      <th>Extensi�n de las alas</th>\n",
       "      <th>Longitud pico y cabeza</th>\n",
       "      <th>Longitud del h�mero</th>\n",
       "      <th>Longitud de la quilla</th>\n",
       "    </tr>\n",
       "  </thead>\n",
       "  <tbody>\n",
       "    <tr>\n",
       "      <th>PC1</th>\n",
       "      <td>-0.536501</td>\n",
       "      <td>-0.829015</td>\n",
       "      <td>-0.096496</td>\n",
       "      <td>-0.074352</td>\n",
       "      <td>-0.100304</td>\n",
       "    </tr>\n",
       "    <tr>\n",
       "      <th>PC2</th>\n",
       "      <td>0.828100</td>\n",
       "      <td>-0.550512</td>\n",
       "      <td>0.033562</td>\n",
       "      <td>-0.014595</td>\n",
       "      <td>0.099234</td>\n",
       "    </tr>\n",
       "    <tr>\n",
       "      <th>PC3</th>\n",
       "      <td>0.156491</td>\n",
       "      <td>0.057744</td>\n",
       "      <td>-0.237515</td>\n",
       "      <td>-0.203245</td>\n",
       "      <td>-0.935123</td>\n",
       "    </tr>\n",
       "    <tr>\n",
       "      <th>PC4</th>\n",
       "      <td>0.040210</td>\n",
       "      <td>0.069022</td>\n",
       "      <td>-0.897627</td>\n",
       "      <td>-0.307241</td>\n",
       "      <td>0.305760</td>\n",
       "    </tr>\n",
       "    <tr>\n",
       "      <th>PC5</th>\n",
       "      <td>0.017652</td>\n",
       "      <td>-0.039642</td>\n",
       "      <td>-0.356953</td>\n",
       "      <td>0.926581</td>\n",
       "      <td>-0.110219</td>\n",
       "    </tr>\n",
       "  </tbody>\n",
       "</table>\n",
       "</div>"
      ],
      "text/plain": [
       "     Longitud Total  Extensi�n de las alas  Longitud pico y cabeza  \\\n",
       "PC1       -0.536501              -0.829015               -0.096496   \n",
       "PC2        0.828100              -0.550512                0.033562   \n",
       "PC3        0.156491               0.057744               -0.237515   \n",
       "PC4        0.040210               0.069022               -0.897627   \n",
       "PC5        0.017652              -0.039642               -0.356953   \n",
       "\n",
       "     Longitud del h�mero  Longitud de la quilla  \n",
       "PC1            -0.074352              -0.100304  \n",
       "PC2            -0.014595               0.099234  \n",
       "PC3            -0.203245              -0.935123  \n",
       "PC4            -0.307241               0.305760  \n",
       "PC5             0.926581              -0.110219  "
      ]
     },
     "execution_count": 18,
     "metadata": {},
     "output_type": "execute_result"
    }
   ],
   "source": [
    "matriz_birdc,componentes_bidc = matriz_componentes(bird,False)\n",
    "matriz_birdc"
   ]
  },
  {
   "cell_type": "code",
   "execution_count": 19,
   "id": "numerical-daisy",
   "metadata": {},
   "outputs": [
    {
     "data": {
      "image/png": "[encoded data removed]",
      "text/plain": [
       "<Figure size 360x288 with 2 Axes>"
      ]
     },
     "metadata": {
      "needs_background": "light"
     },
     "output_type": "display_data"
    }
   ],
   "source": [
    "graf_componentes(bird,False)"
   ]
  },
  {
   "cell_type": "code",
   "execution_count": 20,
   "id": "killing-operation",
   "metadata": {},
   "outputs": [
    {
     "data": {
      "image/png": "[encoded data removed]",
      "text/plain": [
       "<Figure size 432x288 with 1 Axes>"
      ]
     },
     "metadata": {
      "needs_background": "light"
     },
     "output_type": "display_data"
    }
   ],
   "source": [
    "biplot(bird,1,2,corr=False)"
   ]
  },
  {
   "cell_type": "code",
   "execution_count": 21,
   "id": "conventional-cycling",
   "metadata": {},
   "outputs": [
    {
     "name": "stdout",
     "output_type": "stream",
     "text": [
      "------------------------------------------\n",
      "Porcentaje de varianza explicada acumulada\n",
      "------------------------------------------\n",
      "[0.86224654 0.97507355 0.99047327 0.99810783 1.        ]\n"
     ]
    },
    {
     "data": {
      "image/png": "[encoded data removed]",
      "text/plain": [
       "<Figure size 432x288 with 1 Axes>"
      ]
     },
     "metadata": {
      "needs_background": "light"
     },
     "output_type": "display_data"
    }
   ],
   "source": [
    "var_acum(bird,False)"
   ]
  },
  {
   "cell_type": "markdown",
   "id": "creative-graphic",
   "metadata": {},
   "source": [
    "## Información de 96 paises"
   ]
  },
  {
   "cell_type": "code",
   "execution_count": 22,
   "id": "worth-clearing",
   "metadata": {},
   "outputs": [
    {
     "data": {
      "text/html": [
       "<div>\n",
       "<style scoped>\n",
       "    .dataframe tbody tr th:only-of-type {\n",
       "        vertical-align: middle;\n",
       "    }\n",
       "\n",
       "    .dataframe tbody tr th {\n",
       "        vertical-align: top;\n",
       "    }\n",
       "\n",
       "    .dataframe thead th {\n",
       "        text-align: right;\n",
       "    }\n",
       "</style>\n",
       "<table border=\"1\" class=\"dataframe\">\n",
       "  <thead>\n",
       "    <tr style=\"text-align: right;\">\n",
       "      <th></th>\n",
       "      <th>País</th>\n",
       "      <th>X 1</th>\n",
       "      <th>X 2</th>\n",
       "      <th>X 3</th>\n",
       "      <th>X 4</th>\n",
       "      <th>X 5</th>\n",
       "      <th>X 6</th>\n",
       "      <th>X 7</th>\n",
       "      <th>X 8</th>\n",
       "      <th>X 9</th>\n",
       "      <th>X 10</th>\n",
       "      <th>X 11</th>\n",
       "    </tr>\n",
       "  </thead>\n",
       "  <tbody>\n",
       "    <tr>\n",
       "      <th>0</th>\n",
       "      <td>1, Albania</td>\n",
       "      <td>1.0</td>\n",
       "      <td>30</td>\n",
       "      <td>41</td>\n",
       "      <td>2199</td>\n",
       "      <td>3903</td>\n",
       "      <td>12</td>\n",
       "      <td>94</td>\n",
       "      <td>53</td>\n",
       "      <td>0.0</td>\n",
       "      <td>341</td>\n",
       "      <td>1.2</td>\n",
       "    </tr>\n",
       "    <tr>\n",
       "      <th>1</th>\n",
       "      <td>2, Angola</td>\n",
       "      <td>3.0</td>\n",
       "      <td>124</td>\n",
       "      <td>46</td>\n",
       "      <td>4422</td>\n",
       "      <td>955</td>\n",
       "      <td>6</td>\n",
       "      <td>57</td>\n",
       "      <td>19</td>\n",
       "      <td>0.7</td>\n",
       "      <td>89</td>\n",
       "      <td>0.5</td>\n",
       "    </tr>\n",
       "    <tr>\n",
       "      <th>2</th>\n",
       "      <td>3, Arabia Saudi</td>\n",
       "      <td>4.3</td>\n",
       "      <td>21</td>\n",
       "      <td>13</td>\n",
       "      <td>133540</td>\n",
       "      <td>91019</td>\n",
       "      <td>96</td>\n",
       "      <td>497</td>\n",
       "      <td>1</td>\n",
       "      <td>0.0</td>\n",
       "      <td>4566</td>\n",
       "      <td>13.1</td>\n",
       "    </tr>\n",
       "    <tr>\n",
       "      <th>3</th>\n",
       "      <td>4, Argelia</td>\n",
       "      <td>2.5</td>\n",
       "      <td>34</td>\n",
       "      <td>24</td>\n",
       "      <td>44609</td>\n",
       "      <td>19883</td>\n",
       "      <td>42</td>\n",
       "      <td>180</td>\n",
       "      <td>2</td>\n",
       "      <td>0.8</td>\n",
       "      <td>906</td>\n",
       "      <td>3.0</td>\n",
       "    </tr>\n",
       "    <tr>\n",
       "      <th>4</th>\n",
       "      <td>5, Argentina</td>\n",
       "      <td>1.3</td>\n",
       "      <td>22</td>\n",
       "      <td>31</td>\n",
       "      <td>278431</td>\n",
       "      <td>65962</td>\n",
       "      <td>160</td>\n",
       "      <td>1043</td>\n",
       "      <td>22</td>\n",
       "      <td>0.1</td>\n",
       "      <td>1504</td>\n",
       "      <td>3.5</td>\n",
       "    </tr>\n",
       "    <tr>\n",
       "      <th>...</th>\n",
       "      <td>...</td>\n",
       "      <td>...</td>\n",
       "      <td>...</td>\n",
       "      <td>...</td>\n",
       "      <td>...</td>\n",
       "      <td>...</td>\n",
       "      <td>...</td>\n",
       "      <td>...</td>\n",
       "      <td>...</td>\n",
       "      <td>...</td>\n",
       "      <td>...</td>\n",
       "      <td>...</td>\n",
       "    </tr>\n",
       "    <tr>\n",
       "      <th>91</th>\n",
       "      <td>92, Venezuela</td>\n",
       "      <td>2.4</td>\n",
       "      <td>23</td>\n",
       "      <td>33</td>\n",
       "      <td>65382</td>\n",
       "      <td>73116</td>\n",
       "      <td>111</td>\n",
       "      <td>382</td>\n",
       "      <td>52</td>\n",
       "      <td>1.2</td>\n",
       "      <td>2186</td>\n",
       "      <td>5.7</td>\n",
       "    </tr>\n",
       "    <tr>\n",
       "      <th>92</th>\n",
       "      <td>93, Vietnam</td>\n",
       "      <td>2.2</td>\n",
       "      <td>41</td>\n",
       "      <td>49</td>\n",
       "      <td>17634</td>\n",
       "      <td>12270</td>\n",
       "      <td>11</td>\n",
       "      <td>414</td>\n",
       "      <td>26</td>\n",
       "      <td>1.5</td>\n",
       "      <td>101</td>\n",
       "      <td>0.3</td>\n",
       "    </tr>\n",
       "    <tr>\n",
       "      <th>93</th>\n",
       "      <td>94, Yemen</td>\n",
       "      <td>4.2</td>\n",
       "      <td>100</td>\n",
       "      <td>29</td>\n",
       "      <td>4044</td>\n",
       "      <td>2159</td>\n",
       "      <td>12</td>\n",
       "      <td>335</td>\n",
       "      <td>8</td>\n",
       "      <td>0.0</td>\n",
       "      <td>206</td>\n",
       "      <td>0.7</td>\n",
       "    </tr>\n",
       "    <tr>\n",
       "      <th>94</th>\n",
       "      <td>95, Zambia</td>\n",
       "      <td>2.6</td>\n",
       "      <td>109</td>\n",
       "      <td>45</td>\n",
       "      <td>3605</td>\n",
       "      <td>7785</td>\n",
       "      <td>8</td>\n",
       "      <td>186</td>\n",
       "      <td>43</td>\n",
       "      <td>1.1</td>\n",
       "      <td>149</td>\n",
       "      <td>0.3</td>\n",
       "    </tr>\n",
       "    <tr>\n",
       "      <th>95</th>\n",
       "      <td>96, Zimbabue</td>\n",
       "      <td>2.8</td>\n",
       "      <td>55</td>\n",
       "      <td>44</td>\n",
       "      <td>5933</td>\n",
       "      <td>7334</td>\n",
       "      <td>14</td>\n",
       "      <td>136</td>\n",
       "      <td>23</td>\n",
       "      <td>0.7</td>\n",
       "      <td>438</td>\n",
       "      <td>1.8</td>\n",
       "    </tr>\n",
       "  </tbody>\n",
       "</table>\n",
       "<p>96 rows × 12 columns</p>\n",
       "</div>"
      ],
      "text/plain": [
       "               País  X 1  X 2  X 3     X 4    X 5  X 6   X 7  X 8  X 9  X 10  \\\n",
       "0        1, Albania  1.0   30   41    2199   3903   12    94   53  0.0   341   \n",
       "1         2, Angola  3.0  124   46    4422    955    6    57   19  0.7    89   \n",
       "2   3, Arabia Saudi  4.3   21   13  133540  91019   96   497    1  0.0  4566   \n",
       "3        4, Argelia  2.5   34   24   44609  19883   42   180    2  0.8   906   \n",
       "4      5, Argentina  1.3   22   31  278431  65962  160  1043   22  0.1  1504   \n",
       "..              ...  ...  ...  ...     ...    ...  ...   ...  ...  ...   ...   \n",
       "91    92, Venezuela  2.4   23   33   65382  73116  111   382   52  1.2  2186   \n",
       "92      93, Vietnam  2.2   41   49   17634  12270   11   414   26  1.5   101   \n",
       "93        94, Yemen  4.2  100   29    4044   2159   12   335    8  0.0   206   \n",
       "94       95, Zambia  2.6  109   45    3605   7785    8   186   43  1.1   149   \n",
       "95     96, Zimbabue  2.8   55   44    5933   7334   14   136   23  0.7   438   \n",
       "\n",
       "    X 11  \n",
       "0    1.2  \n",
       "1    0.5  \n",
       "2   13.1  \n",
       "3    3.0  \n",
       "4    3.5  \n",
       "..   ...  \n",
       "91   5.7  \n",
       "92   0.3  \n",
       "93   0.7  \n",
       "94   0.3  \n",
       "95   1.8  \n",
       "\n",
       "[96 rows x 12 columns]"
      ]
     },
     "execution_count": 22,
     "metadata": {},
     "output_type": "execute_result"
    }
   ],
   "source": [
    "url = 'D:/Maestria Analitica de Datos/Segundo Semestre/Metodos Estadisticos/bases/96paises.xlsx'\n",
    "paises = pd.read_excel(url)\n",
    "paises"
   ]
  },
  {
   "cell_type": "markdown",
   "id": "informative-flesh",
   "metadata": {},
   "source": [
    "### Examine la correlación de las variables usando un gráfico de la matriz de correlación. Interprete sus resultados."
   ]
  },
  {
   "cell_type": "code",
   "execution_count": 23,
   "id": "romance-prayer",
   "metadata": {},
   "outputs": [],
   "source": [
    "paisescorr=paises.corr(method='spearman')"
   ]
  },
  {
   "cell_type": "code",
   "execution_count": 24,
   "id": "figured-pendant",
   "metadata": {},
   "outputs": [
    {
     "data": {
      "text/plain": [
       "<AxesSubplot:>"
      ]
     },
     "execution_count": 24,
     "metadata": {},
     "output_type": "execute_result"
    },
    {
     "data": {
      "image/png": "[encoded data removed]",
      "text/plain": [
       "<Figure size 720x576 with 2 Axes>"
      ]
     },
     "metadata": {
      "needs_background": "light"
     },
     "output_type": "display_data"
    }
   ],
   "source": [
    "mask =np.triu(paisescorr, k=1)\n",
    "\n",
    "fig, scatter = plt.subplots(figsize = (10,8))\n",
    "sns.heatmap(data=paisescorr.round(decimals=2), \n",
    "            xticklabels=paisescorr.columns,\n",
    "            yticklabels=paisescorr.columns,\n",
    "            cmap='RdBu_r',\n",
    "            annot=True,\n",
    "            linewidth=0.6,\n",
    "            mask=mask)"
   ]
  },
  {
   "cell_type": "markdown",
   "id": "hundred-register",
   "metadata": {},
   "source": [
    "### Realice un análisis de componentes principales a partir de la matriz de correlaciones."
   ]
  },
  {
   "cell_type": "code",
   "execution_count": 25,
   "id": "adjusted-dressing",
   "metadata": {},
   "outputs": [
    {
     "data": {
      "text/html": [
       "<div>\n",
       "<style scoped>\n",
       "    .dataframe tbody tr th:only-of-type {\n",
       "        vertical-align: middle;\n",
       "    }\n",
       "\n",
       "    .dataframe tbody tr th {\n",
       "        vertical-align: top;\n",
       "    }\n",
       "\n",
       "    .dataframe thead th {\n",
       "        text-align: right;\n",
       "    }\n",
       "</style>\n",
       "<table border=\"1\" class=\"dataframe\">\n",
       "  <thead>\n",
       "    <tr style=\"text-align: right;\">\n",
       "      <th></th>\n",
       "      <th>0</th>\n",
       "      <th>1</th>\n",
       "      <th>2</th>\n",
       "      <th>3</th>\n",
       "      <th>4</th>\n",
       "      <th>5</th>\n",
       "      <th>6</th>\n",
       "      <th>7</th>\n",
       "      <th>8</th>\n",
       "      <th>9</th>\n",
       "      <th>10</th>\n",
       "    </tr>\n",
       "  </thead>\n",
       "  <tbody>\n",
       "    <tr>\n",
       "      <th>0</th>\n",
       "      <td>-0.728909</td>\n",
       "      <td>-1.391262</td>\n",
       "      <td>-0.848172</td>\n",
       "      <td>0.073591</td>\n",
       "      <td>-0.500004</td>\n",
       "      <td>-0.807842</td>\n",
       "      <td>-0.726155</td>\n",
       "      <td>0.553296</td>\n",
       "      <td>0.372120</td>\n",
       "      <td>-0.009736</td>\n",
       "      <td>0.223374</td>\n",
       "    </tr>\n",
       "    <tr>\n",
       "      <th>1</th>\n",
       "      <td>-2.581830</td>\n",
       "      <td>-0.665293</td>\n",
       "      <td>0.017993</td>\n",
       "      <td>-0.913864</td>\n",
       "      <td>-0.702744</td>\n",
       "      <td>0.304117</td>\n",
       "      <td>1.771793</td>\n",
       "      <td>-0.632058</td>\n",
       "      <td>0.101403</td>\n",
       "      <td>0.190772</td>\n",
       "      <td>-0.095230</td>\n",
       "    </tr>\n",
       "    <tr>\n",
       "      <th>2</th>\n",
       "      <td>0.397583</td>\n",
       "      <td>3.723023</td>\n",
       "      <td>0.309690</td>\n",
       "      <td>-1.554744</td>\n",
       "      <td>1.044874</td>\n",
       "      <td>0.035541</td>\n",
       "      <td>-0.533487</td>\n",
       "      <td>0.500188</td>\n",
       "      <td>0.170540</td>\n",
       "      <td>0.086367</td>\n",
       "      <td>0.047422</td>\n",
       "    </tr>\n",
       "    <tr>\n",
       "      <th>3</th>\n",
       "      <td>-1.142095</td>\n",
       "      <td>1.391250</td>\n",
       "      <td>0.111441</td>\n",
       "      <td>-0.515864</td>\n",
       "      <td>-0.190461</td>\n",
       "      <td>0.837117</td>\n",
       "      <td>-1.064647</td>\n",
       "      <td>0.149318</td>\n",
       "      <td>0.148554</td>\n",
       "      <td>0.216248</td>\n",
       "      <td>-0.118618</td>\n",
       "    </tr>\n",
       "    <tr>\n",
       "      <th>4</th>\n",
       "      <td>0.493421</td>\n",
       "      <td>0.534342</td>\n",
       "      <td>0.822032</td>\n",
       "      <td>0.647715</td>\n",
       "      <td>-0.343150</td>\n",
       "      <td>-0.219578</td>\n",
       "      <td>-0.783099</td>\n",
       "      <td>-0.261969</td>\n",
       "      <td>0.357345</td>\n",
       "      <td>-0.231232</td>\n",
       "      <td>0.126235</td>\n",
       "    </tr>\n",
       "  </tbody>\n",
       "</table>\n",
       "</div>"
      ],
      "text/plain": [
       "         0         1         2         3         4         5         6   \\\n",
       "0 -0.728909 -1.391262 -0.848172  0.073591 -0.500004 -0.807842 -0.726155   \n",
       "1 -2.581830 -0.665293  0.017993 -0.913864 -0.702744  0.304117  1.771793   \n",
       "2  0.397583  3.723023  0.309690 -1.554744  1.044874  0.035541 -0.533487   \n",
       "3 -1.142095  1.391250  0.111441 -0.515864 -0.190461  0.837117 -1.064647   \n",
       "4  0.493421  0.534342  0.822032  0.647715 -0.343150 -0.219578 -0.783099   \n",
       "\n",
       "         7         8         9         10  \n",
       "0  0.553296  0.372120 -0.009736  0.223374  \n",
       "1 -0.632058  0.101403  0.190772 -0.095230  \n",
       "2  0.500188  0.170540  0.086367  0.047422  \n",
       "3  0.149318  0.148554  0.216248 -0.118618  \n",
       "4 -0.261969  0.357345 -0.231232  0.126235  "
      ]
     },
     "execution_count": 25,
     "metadata": {},
     "output_type": "execute_result"
    }
   ],
   "source": [
    "cuanti_p=paises.select_dtypes(np.number)\n",
    "nombres_p = cuanti_p.columns\n",
    "\n",
    "pcap = prince.PCA(\n",
    "    n_components=len(cuanti_p.columns),\n",
    "     n_iter=3,\n",
    "     rescale_with_mean=True,\n",
    "     rescale_with_std=True,\n",
    "     copy=True,\n",
    "     check_input=True,\n",
    "     engine='auto'\n",
    " )\n",
    "pcap = pcap.fit(cuanti_p)\n",
    "pcap.transform(cuanti_p).head()"
   ]
  },
  {
   "cell_type": "markdown",
   "id": "mediterranean-balance",
   "metadata": {},
   "source": [
    "### Realice el gráfico de sedimentación y un gráfico que muestre la varianza acumulada por cada componente."
   ]
  },
  {
   "cell_type": "code",
   "execution_count": 26,
   "id": "latter-criterion",
   "metadata": {},
   "outputs": [],
   "source": [
    "def graf_sed(df,corr=True):\n",
    "    \n",
    "    cuanti=paises.select_dtypes(np.number)\n",
    "    nombres= cuanti.columns\n",
    "    \n",
    "    pcaa = prince.PCA(\n",
    "        n_components=len(cuanti.columns),\n",
    "         n_iter=3,\n",
    "         rescale_with_mean=corr,\n",
    "         rescale_with_std=corr,\n",
    "         copy=True,\n",
    "         check_input=True,\n",
    "         engine='auto'\n",
    "     )\n",
    "    pcaa = pcaa.fit(cuanti)\n",
    "        \n",
    "    # Porcentaje de varianza explicada por cada componente\n",
    "    # ==============================================================================\n",
    "    print('-------------------------')\n",
    "    print('Gráfico de sedimentación')\n",
    "    print('-------------------------')\n",
    "\n",
    "    \n",
    "    \n",
    "    fig, ax = plt.subplots(nrows=1, ncols=1)\n",
    "    ax.bar(\n",
    "        x      = np.arange(len(cuanti.columns)) + 1,\n",
    "        height = list(pcaa.eigenvalues_)\n",
    "    )\n",
    "    \n",
    "    for x, y in zip(np.arange(len(cuanti.columns)) + 1, list(pcaa.eigenvalues_)):\n",
    "        label = round(y, 2)\n",
    "        ax.annotate(\n",
    "            label,\n",
    "            (x,y),\n",
    "            textcoords=\"offset points\",\n",
    "            xytext=(0,10),\n",
    "            ha='center'\n",
    "        )\n",
    "    \n",
    "    ax.set_xticks(np.arange(len(cuanti.columns)) + 1)\n",
    "    ax.set_ylim(0, 0.5 + list(pcaa.eigenvalues_)[0])\n",
    "    ax.set_xlabel('Componente principal')\n",
    "    ax.set_ylabel('Autovalores');\n"
   ]
  },
  {
   "cell_type": "code",
   "execution_count": 27,
   "id": "southern-fight",
   "metadata": {},
   "outputs": [
    {
     "name": "stdout",
     "output_type": "stream",
     "text": [
      "-------------------------\n",
      "Gráfico de sedimentación\n",
      "-------------------------\n"
     ]
    },
    {
     "data": {
      "image/png": "[encoded data removed]",
      "text/plain": [
       "<Figure size 432x288 with 1 Axes>"
      ]
     },
     "metadata": {
      "needs_background": "light"
     },
     "output_type": "display_data"
    }
   ],
   "source": [
    "graf_sed(paises)"
   ]
  },
  {
   "cell_type": "code",
   "execution_count": 28,
   "id": "genetic-cowboy",
   "metadata": {},
   "outputs": [
    {
     "name": "stdout",
     "output_type": "stream",
     "text": [
      "------------------------------------------\n",
      "Porcentaje de varianza explicada acumulada\n",
      "------------------------------------------\n",
      "[0.36635264 0.54180645 0.66638928 0.74498164 0.81717624 0.88346715\n",
      " 0.93540398 0.96511315 0.9803921  0.99369467 1.        ]\n"
     ]
    },
    {
     "data": {
      "image/png": "[encoded data removed]",
      "text/plain": [
       "<Figure size 432x288 with 1 Axes>"
      ]
     },
     "metadata": {
      "needs_background": "light"
     },
     "output_type": "display_data"
    }
   ],
   "source": [
    "var_acum(paises)"
   ]
  },
  {
   "cell_type": "markdown",
   "id": "current-brave",
   "metadata": {},
   "source": [
    "### Interprete las dos primeras componentes."
   ]
  },
  {
   "cell_type": "code",
   "execution_count": 29,
   "id": "painted-panama",
   "metadata": {},
   "outputs": [
    {
     "data": {
      "image/png": "[encoded data removed]",
      "text/plain": [
       "<Figure size 576x360 with 2 Axes>"
      ]
     },
     "metadata": {
      "needs_background": "light"
     },
     "output_type": "display_data"
    }
   ],
   "source": [
    "graf_componentes(paises,True,8,5)"
   ]
  },
  {
   "cell_type": "code",
   "execution_count": null,
   "id": "atlantic-suspect",
   "metadata": {},
   "outputs": [],
   "source": []
  },
  {
   "cell_type": "code",
   "execution_count": null,
   "id": "blocked-evolution",
   "metadata": {},
   "outputs": [],
   "source": []
  },
  {
   "cell_type": "markdown",
   "id": "nuclear-legislature",
   "metadata": {},
   "source": [
    "### Grafique los datos en un plano adecuado."
   ]
  },
  {
   "cell_type": "code",
   "execution_count": 30,
   "id": "innovative-universe",
   "metadata": {},
   "outputs": [
    {
     "data": {
      "image/png": "[encoded data removed]",
      "text/plain": [
       "<Figure size 432x288 with 1 Axes>"
      ]
     },
     "metadata": {
      "needs_background": "light"
     },
     "output_type": "display_data"
    }
   ],
   "source": [
    "biplot(paises,1,2,corr=True,mx=-0.25)"
   ]
  },
  {
   "cell_type": "code",
   "execution_count": null,
   "id": "american-retreat",
   "metadata": {},
   "outputs": [],
   "source": []
  },
  {
   "cell_type": "markdown",
   "id": "deadly-status",
   "metadata": {},
   "source": [
    "## Base acuicultura"
   ]
  },
  {
   "cell_type": "code",
   "execution_count": 31,
   "id": "equipped-transparency",
   "metadata": {},
   "outputs": [
    {
     "data": {
      "text/html": [
       "<div>\n",
       "<style scoped>\n",
       "    .dataframe tbody tr th:only-of-type {\n",
       "        vertical-align: middle;\n",
       "    }\n",
       "\n",
       "    .dataframe tbody tr th {\n",
       "        vertical-align: top;\n",
       "    }\n",
       "\n",
       "    .dataframe thead th {\n",
       "        text-align: right;\n",
       "    }\n",
       "</style>\n",
       "<table border=\"1\" class=\"dataframe\">\n",
       "  <thead>\n",
       "    <tr style=\"text-align: right;\">\n",
       "      <th></th>\n",
       "      <th>PISCINA</th>\n",
       "      <th>dia</th>\n",
       "      <th>OXIGESUP</th>\n",
       "      <th>OXIGEFON</th>\n",
       "      <th>TEMPSUP</th>\n",
       "      <th>TEMPFON</th>\n",
       "      <th>SALINSUP</th>\n",
       "      <th>SALINFON</th>\n",
       "      <th>TRANSP</th>\n",
       "      <th>NIVEL</th>\n",
       "    </tr>\n",
       "  </thead>\n",
       "  <tbody>\n",
       "    <tr>\n",
       "      <th>0</th>\n",
       "      <td>2</td>\n",
       "      <td>1</td>\n",
       "      <td>5.200000</td>\n",
       "      <td>4.800000</td>\n",
       "      <td>29.666667</td>\n",
       "      <td>29.000000</td>\n",
       "      <td>7.666667</td>\n",
       "      <td>7.666667</td>\n",
       "      <td>0.383333</td>\n",
       "      <td>-73.666667</td>\n",
       "    </tr>\n",
       "    <tr>\n",
       "      <th>1</th>\n",
       "      <td>2</td>\n",
       "      <td>2</td>\n",
       "      <td>4.466667</td>\n",
       "      <td>4.133333</td>\n",
       "      <td>29.666667</td>\n",
       "      <td>29.000000</td>\n",
       "      <td>8.000000</td>\n",
       "      <td>8.000000</td>\n",
       "      <td>0.333333</td>\n",
       "      <td>-11.333333</td>\n",
       "    </tr>\n",
       "    <tr>\n",
       "      <th>2</th>\n",
       "      <td>2</td>\n",
       "      <td>3</td>\n",
       "      <td>4.533333</td>\n",
       "      <td>4.200000</td>\n",
       "      <td>30.000000</td>\n",
       "      <td>29.000000</td>\n",
       "      <td>9.000000</td>\n",
       "      <td>9.000000</td>\n",
       "      <td>0.343333</td>\n",
       "      <td>-4.333333</td>\n",
       "    </tr>\n",
       "    <tr>\n",
       "      <th>3</th>\n",
       "      <td>2</td>\n",
       "      <td>4</td>\n",
       "      <td>5.066667</td>\n",
       "      <td>4.533333</td>\n",
       "      <td>29.666667</td>\n",
       "      <td>28.666667</td>\n",
       "      <td>10.000000</td>\n",
       "      <td>10.000000</td>\n",
       "      <td>0.250000</td>\n",
       "      <td>-6.000000</td>\n",
       "    </tr>\n",
       "    <tr>\n",
       "      <th>4</th>\n",
       "      <td>2</td>\n",
       "      <td>5</td>\n",
       "      <td>4.133333</td>\n",
       "      <td>3.866667</td>\n",
       "      <td>29.000000</td>\n",
       "      <td>28.000000</td>\n",
       "      <td>12.000000</td>\n",
       "      <td>12.000000</td>\n",
       "      <td>0.233333</td>\n",
       "      <td>-9.000000</td>\n",
       "    </tr>\n",
       "    <tr>\n",
       "      <th>...</th>\n",
       "      <td>...</td>\n",
       "      <td>...</td>\n",
       "      <td>...</td>\n",
       "      <td>...</td>\n",
       "      <td>...</td>\n",
       "      <td>...</td>\n",
       "      <td>...</td>\n",
       "      <td>...</td>\n",
       "      <td>...</td>\n",
       "      <td>...</td>\n",
       "    </tr>\n",
       "    <tr>\n",
       "      <th>147</th>\n",
       "      <td>20</td>\n",
       "      <td>34</td>\n",
       "      <td>11.400000</td>\n",
       "      <td>8.433333</td>\n",
       "      <td>31.500000</td>\n",
       "      <td>30.500000</td>\n",
       "      <td>20.000000</td>\n",
       "      <td>20.000000</td>\n",
       "      <td>0.375000</td>\n",
       "      <td>-1.666667</td>\n",
       "    </tr>\n",
       "    <tr>\n",
       "      <th>148</th>\n",
       "      <td>20</td>\n",
       "      <td>35</td>\n",
       "      <td>9.900000</td>\n",
       "      <td>7.283333</td>\n",
       "      <td>31.833333</td>\n",
       "      <td>30.500000</td>\n",
       "      <td>18.500000</td>\n",
       "      <td>18.500000</td>\n",
       "      <td>0.691667</td>\n",
       "      <td>-3.333333</td>\n",
       "    </tr>\n",
       "    <tr>\n",
       "      <th>149</th>\n",
       "      <td>20</td>\n",
       "      <td>36</td>\n",
       "      <td>9.166667</td>\n",
       "      <td>7.533333</td>\n",
       "      <td>32.166667</td>\n",
       "      <td>30.666667</td>\n",
       "      <td>18.000000</td>\n",
       "      <td>17.833333</td>\n",
       "      <td>0.725000</td>\n",
       "      <td>0.000000</td>\n",
       "    </tr>\n",
       "    <tr>\n",
       "      <th>150</th>\n",
       "      <td>20</td>\n",
       "      <td>37</td>\n",
       "      <td>8.400000</td>\n",
       "      <td>7.000000</td>\n",
       "      <td>34.000000</td>\n",
       "      <td>31.666667</td>\n",
       "      <td>17.000000</td>\n",
       "      <td>17.000000</td>\n",
       "      <td>0.741667</td>\n",
       "      <td>-2.500000</td>\n",
       "    </tr>\n",
       "    <tr>\n",
       "      <th>151</th>\n",
       "      <td>20</td>\n",
       "      <td>38</td>\n",
       "      <td>9.633333</td>\n",
       "      <td>8.335000</td>\n",
       "      <td>32.666667</td>\n",
       "      <td>31.166667</td>\n",
       "      <td>14.166667</td>\n",
       "      <td>14.166667</td>\n",
       "      <td>0.633333</td>\n",
       "      <td>-9.166667</td>\n",
       "    </tr>\n",
       "  </tbody>\n",
       "</table>\n",
       "<p>152 rows × 10 columns</p>\n",
       "</div>"
      ],
      "text/plain": [
       "    PISCINA dia   OXIGESUP  OXIGEFON    TEMPSUP    TEMPFON   SALINSUP  \\\n",
       "0         2   1   5.200000  4.800000  29.666667  29.000000   7.666667   \n",
       "1         2   2   4.466667  4.133333  29.666667  29.000000   8.000000   \n",
       "2         2   3   4.533333  4.200000  30.000000  29.000000   9.000000   \n",
       "3         2   4   5.066667  4.533333  29.666667  28.666667  10.000000   \n",
       "4         2   5   4.133333  3.866667  29.000000  28.000000  12.000000   \n",
       "..      ...  ..        ...       ...        ...        ...        ...   \n",
       "147      20  34  11.400000  8.433333  31.500000  30.500000  20.000000   \n",
       "148      20  35   9.900000  7.283333  31.833333  30.500000  18.500000   \n",
       "149      20  36   9.166667  7.533333  32.166667  30.666667  18.000000   \n",
       "150      20  37   8.400000  7.000000  34.000000  31.666667  17.000000   \n",
       "151      20  38   9.633333  8.335000  32.666667  31.166667  14.166667   \n",
       "\n",
       "      SALINFON    TRANSP      NIVEL  \n",
       "0     7.666667  0.383333 -73.666667  \n",
       "1     8.000000  0.333333 -11.333333  \n",
       "2     9.000000  0.343333  -4.333333  \n",
       "3    10.000000  0.250000  -6.000000  \n",
       "4    12.000000  0.233333  -9.000000  \n",
       "..         ...       ...        ...  \n",
       "147  20.000000  0.375000  -1.666667  \n",
       "148  18.500000  0.691667  -3.333333  \n",
       "149  17.833333  0.725000   0.000000  \n",
       "150  17.000000  0.741667  -2.500000  \n",
       "151  14.166667  0.633333  -9.166667  \n",
       "\n",
       "[152 rows x 10 columns]"
      ]
     },
     "execution_count": 31,
     "metadata": {},
     "output_type": "execute_result"
    }
   ],
   "source": [
    "url = 'D:/Maestria Analitica de Datos/Segundo Semestre/Metodos Estadisticos/bases/acuicultura.xls'\n",
    "ccultura = pd.read_excel(url)\n",
    "\n",
    "\n",
    "ccultura['PISCINA'] = pd.Categorical(ccultura['PISCINA'])\n",
    "ccultura['dia'] = pd.Categorical(ccultura['dia'])\n",
    "\n",
    "cuanti_cc=ccultura.select_dtypes(np.number)\n",
    "nombres_cc = cuanti_cc.columns\n",
    "ccultura"
   ]
  },
  {
   "cell_type": "code",
   "execution_count": 32,
   "id": "absent-recycling",
   "metadata": {},
   "outputs": [
    {
     "data": {
      "text/plain": [
       "[1, 2, 3, 4, 5, ..., 34, 35, 36, 37, 38]\n",
       "Length: 38\n",
       "Categories (38, int64): [1, 2, 3, 4, ..., 35, 36, 37, 38]"
      ]
     },
     "execution_count": 32,
     "metadata": {},
     "output_type": "execute_result"
    }
   ],
   "source": [
    "ccultura['dia'].unique()"
   ]
  },
  {
   "cell_type": "markdown",
   "id": "moving-recorder",
   "metadata": {},
   "source": [
    "### Debería hacerse un PCA en la matriz de covarianzas o correlaciones."
   ]
  },
  {
   "cell_type": "code",
   "execution_count": 33,
   "id": "molecular-firmware",
   "metadata": {},
   "outputs": [
    {
     "data": {
      "text/html": [
       "<div>\n",
       "<style scoped>\n",
       "    .dataframe tbody tr th:only-of-type {\n",
       "        vertical-align: middle;\n",
       "    }\n",
       "\n",
       "    .dataframe tbody tr th {\n",
       "        vertical-align: top;\n",
       "    }\n",
       "\n",
       "    .dataframe thead th {\n",
       "        text-align: right;\n",
       "    }\n",
       "</style>\n",
       "<table border=\"1\" class=\"dataframe\">\n",
       "  <thead>\n",
       "    <tr style=\"text-align: right;\">\n",
       "      <th></th>\n",
       "      <th>0</th>\n",
       "      <th>1</th>\n",
       "      <th>2</th>\n",
       "      <th>3</th>\n",
       "      <th>4</th>\n",
       "      <th>5</th>\n",
       "      <th>6</th>\n",
       "      <th>7</th>\n",
       "    </tr>\n",
       "  </thead>\n",
       "  <tbody>\n",
       "    <tr>\n",
       "      <th>0</th>\n",
       "      <td>-2.840911</td>\n",
       "      <td>3.553187</td>\n",
       "      <td>0.912696</td>\n",
       "      <td>4.289093</td>\n",
       "      <td>-1.120842</td>\n",
       "      <td>-1.194484</td>\n",
       "      <td>-0.100540</td>\n",
       "      <td>-0.302768</td>\n",
       "    </tr>\n",
       "    <tr>\n",
       "      <th>1</th>\n",
       "      <td>-2.340781</td>\n",
       "      <td>1.931761</td>\n",
       "      <td>-0.444813</td>\n",
       "      <td>-0.104801</td>\n",
       "      <td>1.000148</td>\n",
       "      <td>0.367855</td>\n",
       "      <td>0.121289</td>\n",
       "      <td>-0.252923</td>\n",
       "    </tr>\n",
       "    <tr>\n",
       "      <th>2</th>\n",
       "      <td>-2.050296</td>\n",
       "      <td>1.507281</td>\n",
       "      <td>-0.577722</td>\n",
       "      <td>-0.489737</td>\n",
       "      <td>1.248483</td>\n",
       "      <td>0.526413</td>\n",
       "      <td>0.225095</td>\n",
       "      <td>-0.148412</td>\n",
       "    </tr>\n",
       "    <tr>\n",
       "      <th>3</th>\n",
       "      <td>-2.121621</td>\n",
       "      <td>1.432608</td>\n",
       "      <td>-1.050313</td>\n",
       "      <td>-0.500552</td>\n",
       "      <td>0.745312</td>\n",
       "      <td>0.251273</td>\n",
       "      <td>0.234393</td>\n",
       "      <td>-0.112015</td>\n",
       "    </tr>\n",
       "    <tr>\n",
       "      <th>4</th>\n",
       "      <td>-2.763437</td>\n",
       "      <td>0.857393</td>\n",
       "      <td>-1.351163</td>\n",
       "      <td>-0.335295</td>\n",
       "      <td>0.382486</td>\n",
       "      <td>-0.227166</td>\n",
       "      <td>0.049029</td>\n",
       "      <td>-0.047896</td>\n",
       "    </tr>\n",
       "  </tbody>\n",
       "</table>\n",
       "</div>"
      ],
      "text/plain": [
       "          0         1         2         3         4         5         6  \\\n",
       "0 -2.840911  3.553187  0.912696  4.289093 -1.120842 -1.194484 -0.100540   \n",
       "1 -2.340781  1.931761 -0.444813 -0.104801  1.000148  0.367855  0.121289   \n",
       "2 -2.050296  1.507281 -0.577722 -0.489737  1.248483  0.526413  0.225095   \n",
       "3 -2.121621  1.432608 -1.050313 -0.500552  0.745312  0.251273  0.234393   \n",
       "4 -2.763437  0.857393 -1.351163 -0.335295  0.382486 -0.227166  0.049029   \n",
       "\n",
       "          7  \n",
       "0 -0.302768  \n",
       "1 -0.252923  \n",
       "2 -0.148412  \n",
       "3 -0.112015  \n",
       "4 -0.047896  "
      ]
     },
     "execution_count": 33,
     "metadata": {},
     "output_type": "execute_result"
    }
   ],
   "source": [
    "pcac = prince.PCA(\n",
    "     n_components=len(nombres_cc),\n",
    "     n_iter=3,\n",
    "     rescale_with_mean=True,\n",
    "     rescale_with_std=True,\n",
    "     copy=True,\n",
    "     check_input=True,\n",
    "     engine='auto'\n",
    " )\n",
    "pcac = pcac.fit(ccultura)\n",
    "pcac.transform(ccultura).head()"
   ]
  },
  {
   "cell_type": "code",
   "execution_count": 34,
   "id": "shared-amount",
   "metadata": {},
   "outputs": [
    {
     "data": {
      "text/html": [
       "<div>\n",
       "<style scoped>\n",
       "    .dataframe tbody tr th:only-of-type {\n",
       "        vertical-align: middle;\n",
       "    }\n",
       "\n",
       "    .dataframe tbody tr th {\n",
       "        vertical-align: top;\n",
       "    }\n",
       "\n",
       "    .dataframe thead th {\n",
       "        text-align: right;\n",
       "    }\n",
       "</style>\n",
       "<table border=\"1\" class=\"dataframe\">\n",
       "  <thead>\n",
       "    <tr style=\"text-align: right;\">\n",
       "      <th></th>\n",
       "      <th>0</th>\n",
       "      <th>1</th>\n",
       "      <th>2</th>\n",
       "      <th>3</th>\n",
       "      <th>4</th>\n",
       "      <th>5</th>\n",
       "      <th>6</th>\n",
       "      <th>7</th>\n",
       "    </tr>\n",
       "  </thead>\n",
       "  <tbody>\n",
       "    <tr>\n",
       "      <th>0</th>\n",
       "      <td>51.949233</td>\n",
       "      <td>63.521374</td>\n",
       "      <td>21.870792</td>\n",
       "      <td>7.089401</td>\n",
       "      <td>-7.560099</td>\n",
       "      <td>-0.656654</td>\n",
       "      <td>-0.887817</td>\n",
       "      <td>-0.096965</td>\n",
       "    </tr>\n",
       "    <tr>\n",
       "      <th>1</th>\n",
       "      <td>40.904774</td>\n",
       "      <td>12.217819</td>\n",
       "      <td>-1.249826</td>\n",
       "      <td>-9.977148</td>\n",
       "      <td>9.915802</td>\n",
       "      <td>0.789058</td>\n",
       "      <td>-0.356795</td>\n",
       "      <td>-0.164089</td>\n",
       "    </tr>\n",
       "    <tr>\n",
       "      <th>2</th>\n",
       "      <td>40.757875</td>\n",
       "      <td>5.798216</td>\n",
       "      <td>-3.579924</td>\n",
       "      <td>-12.071923</td>\n",
       "      <td>10.916791</td>\n",
       "      <td>0.657402</td>\n",
       "      <td>-0.308924</td>\n",
       "      <td>0.050103</td>\n",
       "    </tr>\n",
       "    <tr>\n",
       "      <th>3</th>\n",
       "      <td>41.740760</td>\n",
       "      <td>6.278340</td>\n",
       "      <td>-2.455020</td>\n",
       "      <td>-11.467709</td>\n",
       "      <td>9.208894</td>\n",
       "      <td>-0.150692</td>\n",
       "      <td>-0.320148</td>\n",
       "      <td>0.015291</td>\n",
       "    </tr>\n",
       "    <tr>\n",
       "      <th>4</th>\n",
       "      <td>42.856730</td>\n",
       "      <td>7.755449</td>\n",
       "      <td>-1.405294</td>\n",
       "      <td>-11.338187</td>\n",
       "      <td>5.254015</td>\n",
       "      <td>-0.031413</td>\n",
       "      <td>-0.324905</td>\n",
       "      <td>0.047938</td>\n",
       "    </tr>\n",
       "  </tbody>\n",
       "</table>\n",
       "</div>"
      ],
      "text/plain": [
       "           0          1          2          3          4         5         6  \\\n",
       "0  51.949233  63.521374  21.870792   7.089401  -7.560099 -0.656654 -0.887817   \n",
       "1  40.904774  12.217819  -1.249826  -9.977148   9.915802  0.789058 -0.356795   \n",
       "2  40.757875   5.798216  -3.579924 -12.071923  10.916791  0.657402 -0.308924   \n",
       "3  41.740760   6.278340  -2.455020 -11.467709   9.208894 -0.150692 -0.320148   \n",
       "4  42.856730   7.755449  -1.405294 -11.338187   5.254015 -0.031413 -0.324905   \n",
       "\n",
       "          7  \n",
       "0 -0.096965  \n",
       "1 -0.164089  \n",
       "2  0.050103  \n",
       "3  0.015291  \n",
       "4  0.047938  "
      ]
     },
     "execution_count": 34,
     "metadata": {},
     "output_type": "execute_result"
    }
   ],
   "source": [
    "pcacc = prince.PCA(\n",
    "     n_components=len(nombres_cc),\n",
    "     n_iter=3,\n",
    "     rescale_with_mean=False,\n",
    "     rescale_with_std=False,\n",
    "     copy=True,\n",
    "     check_input=True,\n",
    "     engine='auto'\n",
    " )\n",
    "pcacc = pcacc.fit(ccultura)\n",
    "pcacc.transform(ccultura).head()"
   ]
  },
  {
   "cell_type": "markdown",
   "id": "respiratory-summer",
   "metadata": {},
   "source": [
    "### Después de hacer el ACP ¿Cuántas componentes principales se requieren para describir los datos?"
   ]
  },
  {
   "cell_type": "code",
   "execution_count": 35,
   "id": "quantitative-order",
   "metadata": {},
   "outputs": [
    {
     "name": "stdout",
     "output_type": "stream",
     "text": [
      "------------------------------------------\n",
      "Porcentaje de varianza explicada acumulada\n",
      "------------------------------------------\n",
      "[0.42803318 0.71207127 0.86039716 0.95623608 0.99237221 0.99747797\n",
      " 0.99999952 1.        ]\n"
     ]
    },
    {
     "data": {
      "image/png": "[encoded data removed]",
      "text/plain": [
       "<Figure size 432x288 with 1 Axes>"
      ]
     },
     "metadata": {
      "needs_background": "light"
     },
     "output_type": "display_data"
    }
   ],
   "source": [
    "var_acum(ccultura)"
   ]
  },
  {
   "cell_type": "markdown",
   "id": "unnecessary-mercury",
   "metadata": {},
   "source": [
    "### Haga un biplot e interprete"
   ]
  },
  {
   "cell_type": "code",
   "execution_count": 37,
   "id": "medical-hotel",
   "metadata": {},
   "outputs": [
    {
     "data": {
      "image/png": "[encoded data removed]",
      "text/plain": [
       "<Figure size 432x288 with 1 Axes>"
      ]
     },
     "metadata": {
      "needs_background": "light"
     },
     "output_type": "display_data"
    }
   ],
   "source": [
    "biplot(ccultura,1,2,corr=True,mx=-0.25,my=-0.2)"
   ]
  }
 ],
 "metadata": {
  "kernelspec": {
   "display_name": "Python 3",
   "language": "python",
   "name": "python3"
  },
  "language_info": {
   "codemirror_mode": {
    "name": "ipython",
    "version": 3
   },
   "file_extension": ".py",
   "mimetype": "text/x-python",
   "name": "python",
   "nbconvert_exporter": "python",
   "pygments_lexer": "ipython3",
   "version": "3.7.9"
  }
 },
 "nbformat": 4,
 "nbformat_minor": 5
}
