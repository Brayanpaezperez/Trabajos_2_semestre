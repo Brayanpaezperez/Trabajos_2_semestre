{
 "cells": [
  {
   "cell_type": "markdown",
   "metadata": {},
   "source": [
    "## Ejercicios teóricos"
   ]
  },
  {
   "cell_type": "markdown",
   "metadata": {},
   "source": [
    "1. A un conjunto de estudiantes se les somete a pruebas de Matemáticas $(X_1)$, Física $(X_2)$, Química $(X_3)$, Inglés $(X_4)$, Historia $(X_5)$ y Francés $(X_6)$. El modelo factorial, asumiendo los supuestos requeridos, viene por las siguientes ecuaciones:\n",
    "\n",
    ">$X_1=0.8f_1+0.2f_2$   \n",
    "$X_2=0.7f_1+0.3f_2$     \n",
    "$X_3=0.6f_1+0.3f_2$     \n",
    "$X_4=0.2f_1+0.8f_2$     \n",
    "$X_5=0.15f_1+0.82f_2$     \n",
    "$X_6=0.25f_1+0.85f_2$     \n",
    "\n",
    "\n",
    "   a. Escriba explicitamente la matriz de ponderaciones $\\Lambda$.    "
   ]
  },
  {
   "cell_type": "code",
   "execution_count": 3,
   "metadata": {},
   "outputs": [],
   "source": [
    "Conjunto = ['X1','X2','X3','X4','X5','X6']"
   ]
  },
  {
   "cell_type": "code",
   "execution_count": 2,
   "metadata": {},
   "outputs": [],
   "source": [
    "md = [[0.8,0.2],\n",
    "      [0.7,0.3],\n",
    "      [0.6,0.3],\n",
    "      [0.2,0.8],\n",
    "      [0.15,0.82],\n",
    "      [0.25,0.85]\n",
    "      ]"
   ]
  },
  {
   "cell_type": "code",
   "execution_count": 8,
   "metadata": {},
   "outputs": [],
   "source": [
    "mdt = [[0.8,0.7,0.6,0.2,0.15,0.25],[0.2,0.3,0.3,0.8,0.82,0.85]]"
   ]
  },
  {
   "cell_type": "markdown",
   "metadata": {},
   "source": [
    "   b. Exprese la varianza de cada $X_i$. Recuerde que debe sumar la varianza común y la única. ¿Cómo se llaman?    "
   ]
  },
  {
   "cell_type": "code",
   "execution_count": 7,
   "metadata": {},
   "outputs": [
    {
     "data": {
      "text/plain": [
       "[0.68, 0.58, 0.45, 0.68, 0.695, 0.785]"
      ]
     },
     "execution_count": 7,
     "metadata": {},
     "output_type": "execute_result"
    }
   ],
   "source": [
    "var = []\n",
    "for i in range(len(md)):\n",
    "    var.append(round(md[i][0]**2 + md[i][1]**2,3))\n",
    "var"
   ]
  },
  {
   "cell_type": "markdown",
   "metadata": {},
   "source": [
    "   c. Obtenga la matriz de correlaciones.   "
   ]
  },
  {
   "cell_type": "code",
   "execution_count": 18,
   "metadata": {},
   "outputs": [
    {
     "name": "stdout",
     "output_type": "stream",
     "text": [
      "[0.68, 0.6200000000000001, 0.54, 0.32, 0.28400000000000003, 0.37]\n",
      "[0.6200000000000001, 0.58, 0.51, 0.38, 0.351, 0.43]\n",
      "[0.54, 0.51, 0.44999999999999996, 0.36, 0.33599999999999997, 0.405]\n",
      "[0.32, 0.38, 0.36, 0.68, 0.686, 0.7300000000000001]\n",
      "[0.28400000000000003, 0.351, 0.33599999999999997, 0.686, 0.6940000000000001, 0.734]\n",
      "[0.37, 0.43, 0.405, 0.7300000000000001, 0.734, 0.784]\n"
     ]
    }
   ],
   "source": [
    "result =  [[0,0,0,0,0,0],[0,0,0,0,0,0],[0,0,0,0,0,0],[0,0,0,0,0,0],[0,0,0,0,0,0],\n",
    "            [0,0,0,0,0,0]]\n",
    "\n",
    "for i in range(len(md)):\n",
    "\n",
    "    for j in range(len(mdt[0])):\n",
    "\n",
    "        for k in range(len(mdt)):\n",
    "            a = md[i][k] * mdt[k][j]\n",
    "            a=round(a,3)\n",
    "            result[i][j] += a\n",
    "for r in result:\n",
    "    print(r)"
   ]
  },
  {
   "cell_type": "markdown",
   "metadata": {},
   "source": [
    "   d. ¿Hay una clasificación en bloques de asignaturas?"
   ]
  },
  {
   "cell_type": "code",
   "execution_count": 27,
   "metadata": {},
   "outputs": [
    {
     "data": {
      "text/plain": [
       "[<matplotlib.lines.Line2D at 0x2a19ac5b8c8>]"
      ]
     },
     "execution_count": 27,
     "metadata": {},
     "output_type": "execute_result"
    },
    {
     "data": {
      "image/png": "[encoded data removed]",
      "text/plain": [
       "<Figure size 432x288 with 1 Axes>"
      ]
     },
     "metadata": {
      "needs_background": "light"
     },
     "output_type": "display_data"
    }
   ],
   "source": [
    "plt.plot([0.2,0.15,0.25] ,[0.8,0.82,0.85], marker=\"o\", color=\"red\")\n",
    "plt.plot([0.8,0.7,0.6] ,[0.2,0.3,0.3], marker=\"o\", color=\"blue\")"
   ]
  },
  {
   "cell_type": "markdown",
   "metadata": {},
   "source": [
    "Aqui vemos el bloque en azul representando  las materias  con componente de lenguaje y sociales y el rojo las materias con componente logico-matematico."
   ]
  },
  {
   "cell_type": "markdown",
   "metadata": {},
   "source": [
    "2. La siguiente tabla indica las correlaciones de 9 indicadores financieros medidos sobre una muestra de empresas de transporte:\n",
    "\n",
    "![image.png](https://github.com/Izainea/ucmadmetodosestadisticos/blob/master/imagenes/corr.png?raw=true)\n",
    "\n",
    "Estudiaremos la posibilidad de determminar factores subyacentes a la evolución conjunta de los indicadores.\n",
    "\n",
    "a. Estime las ponderaciones $\\lambda_{ij}$ y las varianzas $\\varphi_{ij}$ mediante el método de la componente principal. \n",
    "\n",
    "b. Determine el número de factores apropiados."
   ]
  },
  {
   "cell_type": "code",
   "execution_count": 36,
   "metadata": {},
   "outputs": [],
   "source": [
    "import sympy"
   ]
  },
  {
   "cell_type": "code",
   "execution_count": 38,
   "metadata": {},
   "outputs": [],
   "source": [
    "corr = sympy.Matrix([\n",
    "    [1,      0.096,-0.358,-0.285 ,-0.093 ,0.356 ,0.521  ,0.921 , -0.18],\n",
    "    [0.096,  1    , 0.711,0.162  ,0.553  ,-0.047,-0.006 ,0.087 , 0.085],\n",
    "    [-0.358, 0.711, 1    ,0.23   ,0.762  ,-0.202,-0.26  ,-0.343, 0.141],\n",
    "    [-0.285, 0.162, 0.323, 1     ,0.44   ,-0.669,-0.717 ,-0.511, 0.642],\n",
    "    [-0.093, 0.553, 0.762,   0.44, 1     ,-0.217,-0.203 ,-0.108, 0.227],\n",
    "    [0.356, -0.047,-0.202, -0.669, -0.217, 1    , 0.94  , 0.55 ,-0.956],\n",
    "    [0.521, -0.006, -0.26, -0.717, -0.203,  0.94,1      , 0.748,-0.821],\n",
    "    [0.921,  0.087,-0.343, -0.511, -0.108,  0.55, 0.748 , 1    ,-0.343],\n",
    "    [-0.18,  0.085, 0.141,  0.642,  0.227,-0.956, -0.821,-0.343,     1]\n",
    "])"
   ]
  },
  {
   "cell_type": "code",
   "execution_count": 39,
   "metadata": {},
   "outputs": [
    {
     "data": {
      "text/latex": [
       "$\\displaystyle \\left[\\begin{matrix}1 & 0.096 & -0.358 & -0.285 & -0.093 & 0.356 & 0.521 & 0.921 & -0.18\\\\0.096 & 1 & 0.711 & 0.162 & 0.553 & -0.047 & -0.006 & 0.087 & 0.085\\\\-0.358 & 0.711 & 1 & 0.23 & 0.762 & -0.202 & -0.26 & -0.343 & 0.141\\\\-0.285 & 0.162 & 0.323 & 1 & 0.44 & -0.669 & -0.717 & -0.511 & 0.642\\\\-0.093 & 0.553 & 0.762 & 0.44 & 1 & -0.217 & -0.203 & -0.108 & 0.227\\\\0.356 & -0.047 & -0.202 & -0.669 & -0.217 & 1 & 0.94 & 0.55 & -0.956\\\\0.521 & -0.006 & -0.26 & -0.717 & -0.203 & 0.94 & 1 & 0.748 & -0.821\\\\0.921 & 0.087 & -0.343 & -0.511 & -0.108 & 0.55 & 0.748 & 1 & -0.343\\\\-0.18 & 0.085 & 0.141 & 0.642 & 0.227 & -0.956 & -0.821 & -0.343 & 1\\end{matrix}\\right]$"
      ],
      "text/plain": [
       "Matrix([\n",
       "[     1,  0.096, -0.358, -0.285, -0.093,  0.356,  0.521,  0.921,  -0.18],\n",
       "[ 0.096,      1,  0.711,  0.162,  0.553, -0.047, -0.006,  0.087,  0.085],\n",
       "[-0.358,  0.711,      1,   0.23,  0.762, -0.202,  -0.26, -0.343,  0.141],\n",
       "[-0.285,  0.162,  0.323,      1,   0.44, -0.669, -0.717, -0.511,  0.642],\n",
       "[-0.093,  0.553,  0.762,   0.44,      1, -0.217, -0.203, -0.108,  0.227],\n",
       "[ 0.356, -0.047, -0.202, -0.669, -0.217,      1,   0.94,   0.55, -0.956],\n",
       "[ 0.521, -0.006,  -0.26, -0.717, -0.203,   0.94,      1,  0.748, -0.821],\n",
       "[ 0.921,  0.087, -0.343, -0.511, -0.108,   0.55,  0.748,      1, -0.343],\n",
       "[ -0.18,  0.085,  0.141,  0.642,  0.227, -0.956, -0.821, -0.343,      1]])"
      ]
     },
     "execution_count": 39,
     "metadata": {},
     "output_type": "execute_result"
    }
   ],
   "source": [
    "corr"
   ]
  },
  {
   "cell_type": "code",
   "execution_count": 40,
   "metadata": {},
   "outputs": [
    {
     "data": {
      "text/plain": [
       "{4.40779528412629: 1,\n",
       " 2.14832497410229: 1,\n",
       " 1.39828703549074: 1,\n",
       " 0.502735645149328: 1,\n",
       " 0.337846820277647: 1,\n",
       " 0.00577214066175600: 1,\n",
       " 0.00603490338365797: 1,\n",
       " 0.0761708973591255: 1,\n",
       " 0.117032299449166: 1}"
      ]
     },
     "execution_count": 40,
     "metadata": {},
     "output_type": "execute_result"
    }
   ],
   "source": [
    "corr.eigenvals()"
   ]
  },
  {
   "cell_type": "code",
   "execution_count": 41,
   "metadata": {},
   "outputs": [
    {
     "data": {
      "text/plain": [
       "[(4.40779528412629,\n",
       "  1,\n",
       "  [Matrix([\n",
       "   [ 0.291672390571331],\n",
       "   [-0.101478123176032],\n",
       "   [-0.237879868651841],\n",
       "   [-0.382662528229192],\n",
       "   [-0.217236465150564],\n",
       "   [  0.42283433587119],\n",
       "   [ 0.444704657562616],\n",
       "   [ 0.368262023493542],\n",
       "   [-0.377163435245674]])]),\n",
       " (2.14832497410229,\n",
       "  1,\n",
       "  [Matrix([\n",
       "   [ 0.142962618283093],\n",
       "   [ 0.579543667995313],\n",
       "   [  0.51759233075579],\n",
       "   [0.0229432749666269],\n",
       "   [ 0.513152344297058],\n",
       "   [ 0.165508595814811],\n",
       "   [  0.18592497047625],\n",
       "   [ 0.183911090184831],\n",
       "   [-0.127340693429101]])]),\n",
       " (1.39828703549074,\n",
       "  1,\n",
       "  [Matrix([\n",
       "   [ -0.621555882208762],\n",
       "   [-0.0919212918014546],\n",
       "   [  0.243321457539202],\n",
       "   [  -0.18859394356949],\n",
       "   [-0.0483249299934168],\n",
       "   [  0.285542545910148],\n",
       "   [ 0.0872007364915893],\n",
       "   [ -0.473800679743671],\n",
       "   [ -0.441211553757287]])]),\n",
       " (0.502735645149328,\n",
       "  1,\n",
       "  [Matrix([\n",
       "   [0.0559112279177417],\n",
       "   [-0.450502362923579],\n",
       "   [-0.191102972796546],\n",
       "   [ 0.598319651458682],\n",
       "   [  0.52601179342588],\n",
       "   [ 0.237384658042092],\n",
       "   [ 0.113593804677773],\n",
       "   [-0.020484367565476],\n",
       "   [-0.231364952122808]])]),\n",
       " (0.337846820277647,\n",
       "  1,\n",
       "  [Matrix([\n",
       "   [  0.0489199225277515],\n",
       "   [   0.549424740520326],\n",
       "   [  -0.255147550683342],\n",
       "   [   0.573659882751824],\n",
       "   [  -0.427351725236623],\n",
       "   [   0.191379156077379],\n",
       "   [-0.00197006718529575],\n",
       "   [  -0.174937948874794],\n",
       "   [  -0.229347511126842]])]),\n",
       " (0.00577214066175600,\n",
       "  1,\n",
       "  [Matrix([\n",
       "   [  -0.18294324208748],\n",
       "   [ 0.0173583694284051],\n",
       "   [-0.0279244461511179],\n",
       "   [-0.0284565351378403],\n",
       "   [0.00925278652162605],\n",
       "   [  0.695400720337683],\n",
       "   [ -0.564847547940103],\n",
       "   [  0.283513199582085],\n",
       "   [   0.28565795206938]])]),\n",
       " (0.00603490338365797,\n",
       "  1,\n",
       "  [Matrix([\n",
       "   [ -0.471715025976739],\n",
       "   [-0.0186056189191542],\n",
       "   [ 0.0621096856732137],\n",
       "   [   0.11405815079869],\n",
       "   [-0.0824169550706446],\n",
       "   [-0.0127989969787104],\n",
       "   [ -0.518658702757536],\n",
       "   [    0.7994457316939],\n",
       "   [ -0.312331014359285]])]),\n",
       " (0.0761708973591255,\n",
       "  1,\n",
       "  [Matrix([\n",
       "   [-0.00722672354917338],\n",
       "   [   0.366675049342229],\n",
       "   [   -0.72064509529323],\n",
       "   [  -0.203037232349021],\n",
       "   [   0.438944749536488],\n",
       "   [ -0.0361246472720201],\n",
       "   [  -0.238945824871687],\n",
       "   [  -0.224433829525035],\n",
       "   [  -0.224974807481135]])]),\n",
       " (0.117032299449166,\n",
       "  1,\n",
       "  [Matrix([\n",
       "   [  0.555743392358755],\n",
       "   [ -0.304089086454069],\n",
       "   [  0.548326183093682],\n",
       "   [-0.0718803281511493],\n",
       "   [ -0.228180264789255],\n",
       "   [-0.0360685592871424],\n",
       "   [ -0.479682254225865],\n",
       "   [  -0.11938630852538],\n",
       "   [ -0.365515856450524]])])]"
      ]
     },
     "execution_count": 41,
     "metadata": {},
     "output_type": "execute_result"
    }
   ],
   "source": [
    "corr.eigenvects()"
   ]
  }
 ],
 "metadata": {
  "kernelspec": {
   "display_name": "Python 3",
   "language": "python",
   "name": "python3"
  },
  "language_info": {
   "codemirror_mode": {
    "name": "ipython",
    "version": 3
   },
   "file_extension": ".py",
   "mimetype": "text/x-python",
   "name": "python",
   "nbconvert_exporter": "python",
   "pygments_lexer": "ipython3",
   "version": "3.8.5"
  }
 },
 "nbformat": 4,
 "nbformat_minor": 5
}
